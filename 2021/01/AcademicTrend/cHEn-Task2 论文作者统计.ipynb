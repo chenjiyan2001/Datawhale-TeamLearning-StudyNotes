{
 "cells": [
  {
   "cell_type": "markdown",
   "metadata": {},
   "source": [
    "## 任务说明\n",
    "\n",
    "- 论文作者统计，统计所有论文作者出现评率Top10的姓名；"
   ]
  },
  {
   "cell_type": "markdown",
   "metadata": {},
   "source": [
    "### 数据处理步骤\n",
    "\n",
    "在原始arxiv数据集中论文作者`authors`字段是一个字符串格式，其中每个作者使用逗号进行分隔分，所以我们我们首先需要完成以下步骤：\n",
    "\n",
    "- 使用逗号对作者进行切分；\n",
    "- 剔除单个作者中非常规的字符；\n",
    "\n",
    "当然在原始数据集中`authors_parsed`字段已经帮我们处理好了作者信息，可以直接使用该字段完成后续统计。"
   ]
  },
  {
   "cell_type": "markdown",
   "metadata": {},
   "source": [
    "## 任务实现"
   ]
  },
  {
   "cell_type": "markdown",
   "metadata": {},
   "source": [
    "### 导入库"
   ]
  },
  {
   "cell_type": "code",
   "execution_count": 59,
   "metadata": {
    "ExecuteTime": {
     "end_time": "2021-01-16T17:22:29.005466Z",
     "start_time": "2021-01-16T17:22:29.001476Z"
    }
   },
   "outputs": [],
   "source": [
    "#>==============示例代码==============<\n",
    "import seaborn as sns #用于画图\n",
    "from bs4 import BeautifulSoup #用于爬取arxiv的数据\n",
    "import re #用于正则表达式，匹配字符串的模式\n",
    "import requests #用于网络连接，发送网络请求，使用域名获取对应信息\n",
    "import json #读取数据，我们的数据为json格式的\n",
    "import pandas as pd #数据处理，数据分析\n",
    "import matplotlib.pyplot as plt #画图工具\n",
    "#>================cHEn================<\n",
    "import sys\n",
    "import numpy as np"
   ]
  },
  {
   "cell_type": "markdown",
   "metadata": {},
   "source": [
    "### 读入数据"
   ]
  },
  {
   "cell_type": "code",
   "execution_count": 2,
   "metadata": {
    "ExecuteTime": {
     "end_time": "2021-01-16T16:30:21.493971Z",
     "start_time": "2021-01-16T16:30:21.488985Z"
    }
   },
   "outputs": [],
   "source": [
    "def readArxivFile(path, columns=['id', 'submitter', 'authors', 'title', 'comments', 'journal-ref', \n",
    "                                 'doi','report-no', 'categories', 'license', 'abstract', 'versions',\n",
    "                                 'update_date', 'authors_parsed'], count=None, toDf=False):\n",
    "    '''\n",
    "    定义读取文件的函数\n",
    "        path: 文件路径\n",
    "        columns: 需要选择的列\n",
    "        count: 读取行数\n",
    "        toDf: 是否转为DataFrame的格式\n",
    "    '''\n",
    "    \n",
    "    data = []\n",
    "    with open(path,'r') as f:\n",
    "        for idx, line in enumerate(f):\n",
    "            if idx == None:\n",
    "                break\n",
    "            \n",
    "            d = json.loads(line)  # 注意load和loads是两个不一样的函数\n",
    "            d = {col : d[col] for col in columns}\n",
    "            data.append(d)\n",
    "            \n",
    "    if toDf:# 因为或许需要测试，添加了可选项是否转为DataFrame的格式\n",
    "        return pd.DataFrame(data)\n",
    "    else:\n",
    "        return data"
   ]
  },
  {
   "cell_type": "markdown",
   "metadata": {},
   "source": [
    "尝试自己编写代码实现这个功能，发现看懂和会写直接还是有差距"
   ]
  },
  {
   "cell_type": "code",
   "execution_count": 3,
   "metadata": {
    "ExecuteTime": {
     "end_time": "2021-01-16T16:31:03.421019Z",
     "start_time": "2021-01-16T16:30:23.520503Z"
    }
   },
   "outputs": [],
   "source": [
    "data = readArxivFile('../arxiv-metadata-oai-snapshot.json', \n",
    "                     ['id', 'authors', 'categories', 'authors_parsed'],\n",
    "                    100000)\n",
    "data = pd.DataFrame(data)"
   ]
  },
  {
   "cell_type": "code",
   "execution_count": 18,
   "metadata": {
    "ExecuteTime": {
     "end_time": "2021-01-15T16:15:14.771994Z",
     "start_time": "2021-01-15T16:15:14.752444Z"
    }
   },
   "outputs": [
    {
     "data": {
      "text/html": [
       "<div>\n",
       "<style scoped>\n",
       "    .dataframe tbody tr th:only-of-type {\n",
       "        vertical-align: middle;\n",
       "    }\n",
       "\n",
       "    .dataframe tbody tr th {\n",
       "        vertical-align: top;\n",
       "    }\n",
       "\n",
       "    .dataframe thead th {\n",
       "        text-align: right;\n",
       "    }\n",
       "</style>\n",
       "<table border=\"1\" class=\"dataframe\">\n",
       "  <thead>\n",
       "    <tr style=\"text-align: right;\">\n",
       "      <th></th>\n",
       "      <th>id</th>\n",
       "      <th>authors</th>\n",
       "      <th>categories</th>\n",
       "      <th>authors_parsed</th>\n",
       "    </tr>\n",
       "  </thead>\n",
       "  <tbody>\n",
       "    <tr>\n",
       "      <th>0</th>\n",
       "      <td>0704.0001</td>\n",
       "      <td>C. Bal\\'azs, E. L. Berger, P. M. Nadolsky, C.-...</td>\n",
       "      <td>hep-ph</td>\n",
       "      <td>[[Balázs, C., ], [Berger, E. L., ], [Nadolsky,...</td>\n",
       "    </tr>\n",
       "    <tr>\n",
       "      <th>1</th>\n",
       "      <td>0704.0002</td>\n",
       "      <td>Ileana Streinu and Louis Theran</td>\n",
       "      <td>math.CO cs.CG</td>\n",
       "      <td>[[Streinu, Ileana, ], [Theran, Louis, ]]</td>\n",
       "    </tr>\n",
       "    <tr>\n",
       "      <th>2</th>\n",
       "      <td>0704.0003</td>\n",
       "      <td>Hongjun Pan</td>\n",
       "      <td>physics.gen-ph</td>\n",
       "      <td>[[Pan, Hongjun, ]]</td>\n",
       "    </tr>\n",
       "    <tr>\n",
       "      <th>3</th>\n",
       "      <td>0704.0004</td>\n",
       "      <td>David Callan</td>\n",
       "      <td>math.CO</td>\n",
       "      <td>[[Callan, David, ]]</td>\n",
       "    </tr>\n",
       "    <tr>\n",
       "      <th>4</th>\n",
       "      <td>0704.0005</td>\n",
       "      <td>Wael Abu-Shammala and Alberto Torchinsky</td>\n",
       "      <td>math.CA math.FA</td>\n",
       "      <td>[[Abu-Shammala, Wael, ], [Torchinsky, Alberto, ]]</td>\n",
       "    </tr>\n",
       "  </tbody>\n",
       "</table>\n",
       "</div>"
      ],
      "text/plain": [
       "          id                                            authors  \\\n",
       "0  0704.0001  C. Bal\\'azs, E. L. Berger, P. M. Nadolsky, C.-...   \n",
       "1  0704.0002                    Ileana Streinu and Louis Theran   \n",
       "2  0704.0003                                        Hongjun Pan   \n",
       "3  0704.0004                                       David Callan   \n",
       "4  0704.0005           Wael Abu-Shammala and Alberto Torchinsky   \n",
       "\n",
       "        categories                                     authors_parsed  \n",
       "0           hep-ph  [[Balázs, C., ], [Berger, E. L., ], [Nadolsky,...  \n",
       "1    math.CO cs.CG           [[Streinu, Ileana, ], [Theran, Louis, ]]  \n",
       "2   physics.gen-ph                                 [[Pan, Hongjun, ]]  \n",
       "3          math.CO                                [[Callan, David, ]]  \n",
       "4  math.CA math.FA  [[Abu-Shammala, Wael, ], [Torchinsky, Alberto, ]]  "
      ]
     },
     "execution_count": 18,
     "metadata": {},
     "output_type": "execute_result"
    }
   ],
   "source": [
    "data.head()"
   ]
  },
  {
   "cell_type": "markdown",
   "metadata": {},
   "source": [
    "### 数据统计\n",
    "接下来我们将完成以下统计操作：\n",
    "\n",
    "- 统计所有作者姓名出现频率的Top10；\n",
    "- 统计所有作者姓（姓名最后一个单词）的出现频率的Top10；\n",
    "- 统计所有作者姓第一个字符的评率；\n",
    "\n",
    "为了节约计算时间，下面选择部分类别下的论文进行处理："
   ]
  },
  {
   "cell_type": "markdown",
   "metadata": {},
   "source": [
    "#### 选择类别为cs.CV下面的论文"
   ]
  },
  {
   "cell_type": "code",
   "execution_count": 16,
   "metadata": {
    "ExecuteTime": {
     "end_time": "2021-01-16T16:47:30.937289Z",
     "start_time": "2021-01-16T16:47:29.352528Z"
    }
   },
   "outputs": [],
   "source": [
    "# 法1：利用apply进行字符串操作\n",
    "data_cv = data[data['categories'].apply(lambda x: 'cs.CV' in x)].reset_index(drop=True)\n",
    "\n",
    "# 法2：使用Series的字符串操作\n",
    "data_cv = data[data['categories'].str.contains('cs.CV')]"
   ]
  },
  {
   "cell_type": "markdown",
   "metadata": {},
   "source": [
    "#### 作者拼接"
   ]
  },
  {
   "cell_type": "code",
   "execution_count": 35,
   "metadata": {
    "ExecuteTime": {
     "end_time": "2021-01-16T17:06:08.415905Z",
     "start_time": "2021-01-16T17:04:40.100064Z"
    }
   },
   "outputs": [],
   "source": [
    "# 法1：sum(data,[])\n",
    "#>======Time:1m32s======<\n",
    "all_authors_1 = sum(data_cv['authors_parsed'],[])"
   ]
  },
  {
   "cell_type": "code",
   "execution_count": 52,
   "metadata": {
    "ExecuteTime": {
     "end_time": "2021-01-16T17:19:08.035257Z",
     "start_time": "2021-01-16T17:19:08.003346Z"
    }
   },
   "outputs": [],
   "source": [
    "# 法2：循环\n",
    "# 直接+=\n",
    "all_authors_2 = []\n",
    "for author in data_cv['authors_parsed'] :\n",
    "    all_authors_2 += author"
   ]
  },
  {
   "cell_type": "code",
   "execution_count": 56,
   "metadata": {
    "ExecuteTime": {
     "end_time": "2021-01-16T17:20:12.832010Z",
     "start_time": "2021-01-16T17:20:12.806108Z"
    }
   },
   "outputs": [],
   "source": [
    "# 使用extend\n",
    "all_authors_2_other = []\n",
    "for author in data_cv['authors_parsed'] :\n",
    "    all_authors_2_other.extend(author)"
   ]
  },
  {
   "cell_type": "code",
   "execution_count": 57,
   "metadata": {
    "ExecuteTime": {
     "end_time": "2021-01-16T17:20:18.742829Z",
     "start_time": "2021-01-16T17:20:18.738870Z"
    }
   },
   "outputs": [
    {
     "data": {
      "text/plain": [
       "True"
      ]
     },
     "execution_count": 57,
     "metadata": {},
     "output_type": "execute_result"
    }
   ],
   "source": [
    "# 二种方式等价\n",
    "all_authors_2 == all_authors_2_other"
   ]
  },
  {
   "cell_type": "code",
   "execution_count": 87,
   "metadata": {
    "ExecuteTime": {
     "end_time": "2021-01-16T17:34:30.597567Z",
     "start_time": "2021-01-16T17:34:30.589589Z"
    }
   },
   "outputs": [],
   "source": [
    "# 二者等价\n",
    "all_authors_1 == all_authors_2 \n",
    "# 效率上看，直接循环优于sum(list,[])，猜测是sum(list,[])的过程中大量创建了新列表元素"
   ]
  },
  {
   "cell_type": "code",
   "execution_count": 89,
   "metadata": {
    "ExecuteTime": {
     "end_time": "2021-01-16T17:37:30.388330Z",
     "start_time": "2021-01-16T17:37:30.385324Z"
    }
   },
   "outputs": [],
   "source": [
    "all_authors = all_authors_1"
   ]
  },
  {
   "cell_type": "markdown",
   "metadata": {},
   "source": [
    "关于**sum(list,[])**:"
   ]
  },
  {
   "cell_type": "code",
   "execution_count": 44,
   "metadata": {
    "ExecuteTime": {
     "end_time": "2021-01-16T17:15:55.509178Z",
     "start_time": "2021-01-16T17:15:55.504190Z"
    }
   },
   "outputs": [
    {
     "data": {
      "text/plain": [
       "['1-1', '1-2', '2-1', ['3-1', ['4-1'], '3-3'], '2-3', '1-4']"
      ]
     },
     "execution_count": 44,
     "metadata": {},
     "output_type": "execute_result"
    }
   ],
   "source": [
    "test_lst = [['1-1','1-2'],['2-1',['3-1',['4-1'],'3-3'],'2-3'],['1-4']]\n",
    "sum(test_lst,[])"
   ]
  },
  {
   "cell_type": "markdown",
   "metadata": {},
   "source": [
    "**发现：**这种形式只能对嵌一层的元素求和，而非把所有非列表元素加总"
   ]
  },
  {
   "cell_type": "code",
   "execution_count": 82,
   "metadata": {
    "ExecuteTime": {
     "end_time": "2021-01-16T17:33:10.225693Z",
     "start_time": "2021-01-16T17:33:10.220668Z"
    }
   },
   "outputs": [
    {
     "data": {
      "text/plain": [
       "['1-1', ' 1-2', ' 2-1', ' 3-1', ' 4-1', ' 3-3', ' 2-3', ' 1-4']"
      ]
     },
     "execution_count": 82,
     "metadata": {},
     "output_type": "execute_result"
    }
   ],
   "source": [
    "# 实现跨层拼接\n",
    "test_lst = str(test_lst)\n",
    "test_lst = test_lst.replace('[','')\n",
    "test_lst = test_lst.replace(']','')\n",
    "test_lst = test_lst.replace(\"'\",'')\n",
    "test_lst.split(',')"
   ]
  },
  {
   "cell_type": "code",
   "execution_count": 91,
   "metadata": {
    "ExecuteTime": {
     "end_time": "2021-01-16T17:38:32.547451Z",
     "start_time": "2021-01-16T17:38:32.487441Z"
    }
   },
   "outputs": [],
   "source": [
    "# 得到所有的作者的姓名全称\n",
    "authors_names = [' '.join(x) for x in all_authors]\n",
    "authors_names = pd.DataFrame(authors_names)"
   ]
  },
  {
   "cell_type": "markdown",
   "metadata": {
    "ExecuteTime": {
     "end_time": "2021-01-16T17:38:34.444324Z",
     "start_time": "2021-01-16T17:38:34.434317Z"
    }
   },
   "source": [
    "#### 绘图"
   ]
  },
  {
   "cell_type": "markdown",
   "metadata": {},
   "source": [
    "##### 根据作者频率绘制直方图"
   ]
  },
  {
   "cell_type": "code",
   "execution_count": 102,
   "metadata": {
    "ExecuteTime": {
     "end_time": "2021-01-16T17:44:47.480323Z",
     "start_time": "2021-01-16T17:44:47.308782Z"
    }
   },
   "outputs": [
    {
     "data": {
      "text/plain": [
       "<AxesSubplot:>"
      ]
     },
     "execution_count": 102,
     "metadata": {},
     "output_type": "execute_result"
    },
    {
     "data": {
      "image/png": "[encoded data removed]",
      "text/plain": [
       "<Figure size 720x432 with 1 Axes>"
      ]
     },
     "metadata": {
      "needs_background": "light"
     },
     "output_type": "display_data"
    }
   ],
   "source": [
    "plt.figure(figsize=(10, 6))\n",
    "authors_names[0].value_counts().head(10).plot(kind='barh')"
   ]
  },
  {
   "cell_type": "markdown",
   "metadata": {
    "ExecuteTime": {
     "end_time": "2021-01-16T17:41:06.896856Z",
     "start_time": "2021-01-16T17:41:06.891854Z"
    }
   },
   "source": [
    "##### 根据姓名的姓绘制直方图"
   ]
  },
  {
   "cell_type": "code",
   "execution_count": 99,
   "metadata": {
    "ExecuteTime": {
     "end_time": "2021-01-16T17:42:47.104074Z",
     "start_time": "2021-01-16T17:42:46.824821Z"
    }
   },
   "outputs": [
    {
     "data": {
      "text/plain": [
       "Text(0.5, 0, 'Count')"
      ]
     },
     "execution_count": 99,
     "metadata": {},
     "output_type": "execute_result"
    },
    {
     "data": {
      "image/png": "[encoded data removed]",
      "text/plain": [
       "<Figure size 720x432 with 1 Axes>"
      ]
     },
     "metadata": {
      "needs_background": "light"
     },
     "output_type": "display_data"
    }
   ],
   "source": [
    "authors_lastnames = [name[0] for name in all_authors]\n",
    "authors_lastnames = pd.DataFrame(authors_lastnames)\n",
    "\n",
    "plt.figure(figsize=(10, 6))\n",
    "authors_lastnames[0].value_counts().head(10).plot(kind='barh')\n",
    "\n",
    "names = authors_lastnames[0].value_counts().index.values[:10]\n",
    "_ = plt.yticks(range(0, len(names)), names)\n",
    "plt.ylabel('Author')\n",
    "plt.xlabel('Count')"
   ]
  },
  {
   "cell_type": "markdown",
   "metadata": {},
   "source": [
    "\n",
    "相关笔记可以前往：\n",
    "\n",
    "https://github.com/chenjiyan2001/Datawhale-2021.1-team-learning-AcademicTrends/tree/main/%E7%AC%94%E8%AE%B0"
   ]
  },
  {
   "cell_type": "code",
   "execution_count": null,
   "metadata": {},
   "outputs": [],
   "source": []
  }
 ],
 "metadata": {
  "kernelspec": {
   "display_name": "Python 3",
   "language": "python",
   "name": "python3"
  },
  "language_info": {
   "codemirror_mode": {
    "name": "ipython",
    "version": 3
   },
   "file_extension": ".py",
   "mimetype": "text/x-python",
   "name": "python",
   "nbconvert_exporter": "python",
   "pygments_lexer": "ipython3",
   "version": "3.7.0"
  },
  "toc": {
   "base_numbering": 1,
   "nav_menu": {},
   "number_sections": true,
   "sideBar": true,
   "skip_h1_title": false,
   "title_cell": "Table of Contents",
   "title_sidebar": "Contents",
   "toc_cell": false,
   "toc_position": {},
   "toc_section_display": true,
   "toc_window_display": false
  }
 },
 "nbformat": 4,
 "nbformat_minor": 2
}
