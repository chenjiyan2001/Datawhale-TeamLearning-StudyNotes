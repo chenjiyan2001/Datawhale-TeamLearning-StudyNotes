{
 "cells": [
  {
   "cell_type": "markdown",
   "metadata": {},
   "source": [
    "### 任务要求\n",
    "- 统计2019年全年计算机各个方向论文数量（实际是19-20年）"
   ]
  },
  {
   "cell_type": "markdown",
   "metadata": {},
   "source": [
    "### 数据集相关信息"
   ]
  },
  {
   "cell_type": "markdown",
   "metadata": {},
   "source": [
    "- 数据集的格式如下：\n",
    "    - `id`：arXiv ID，可用于访问论文；\n",
    "    - `submitter`：论文提交者；\n",
    "    - `authors`：论文作者；\n",
    "    - `title`：论文标题；\n",
    "    - `comments`：论文页数和图表等其他信息；\n",
    "    - `journal-ref`：论文发表的期刊的信息；\n",
    "    - `doi`：数字对象标识符，https://www.doi.org\n",
    "    - `report-no`：报告编号；\n",
    "    - `categories`：论文在 arXiv 系统的所属类别或标签；\n",
    "    - `license`：文章的许可证；\n",
    "    - `abstract`：论文摘要；\n",
    "    - `versions`：论文版本；\n",
    "    - `authors_parsed`：作者的信息。\n",
    "\n",
    "（这里好像漏了个update_date）"
   ]
  },
  {
   "cell_type": "markdown",
   "metadata": {},
   "source": [
    "### 导入库并配置绘图环境"
   ]
  },
  {
   "cell_type": "code",
   "execution_count": 1,
   "metadata": {
    "ExecuteTime": {
     "end_time": "2021-01-17T03:53:14.385211Z",
     "start_time": "2021-01-17T03:53:12.027647Z"
    }
   },
   "outputs": [],
   "source": [
    "#>============示例代码=============<\n",
    "from bs4 import BeautifulSoup #用于爬取arxiv的数据\n",
    "import re #用于正则表达式，匹配字符串的模式\n",
    "import requests #用于网络连接，发送网络请求，使用域名获取对应信息\n",
    "import json #读取数据，我们的数据为json格式的\n",
    "import pandas as pd #数据处理，数据分析\n",
    "import matplotlib.pyplot as plt #画图工具\n",
    "import numpy as np\n",
    "#>==============cHEn===============<\n",
    "import sys\n",
    "# 关于plt的一些配置\n",
    "plt.style.use('seaborn')\n",
    "dark_color = ['#e8ddcd','#cdb380','#036564','#033649','#031634']\n",
    "light_color = ['#fe4365','#fc9d9a','#f9cdad','#c8c8a9','#83af9b']"
   ]
  },
  {
   "cell_type": "markdown",
   "metadata": {},
   "source": [
    "### 导入数据"
   ]
  },
  {
   "cell_type": "markdown",
   "metadata": {},
   "source": [
    "- 根据md文件的内容"
   ]
  },
  {
   "cell_type": "code",
   "execution_count": 2,
   "metadata": {
    "ExecuteTime": {
     "end_time": "2021-01-17T03:53:28.511048Z",
     "start_time": "2021-01-17T03:53:16.144566Z"
    }
   },
   "outputs": [],
   "source": [
    "data  = [] #初始化\n",
    "#使用with语句优势：1.自动关闭文件句柄；2.自动显示（处理）文件读取数据异常\n",
    "with open(r'..\\arxiv-metadata-oai-snapshot.json', 'r') as f: \n",
    "    # 占用的内存太大了，这里只读入少量数据(500000/1796911)\n",
    "    for idx,line in enumerate(f): \n",
    "        if idx>=500000:\n",
    "            break\n",
    "        \n",
    "        data.append(json.loads(line))"
   ]
  },
  {
   "cell_type": "markdown",
   "metadata": {},
   "source": [
    "- 根据ipynb文件的内容\n",
    "\n",
    "这个方法比较好，可以灵活地选取需要的信息，读全所有数据也不会占太多内存"
   ]
  },
  {
   "cell_type": "code",
   "execution_count": 110,
   "metadata": {
    "ExecuteTime": {
     "end_time": "2021-01-13T12:11:14.241072Z",
     "start_time": "2021-01-13T12:10:41.494666Z"
    }
   },
   "outputs": [],
   "source": [
    "def readArxivFile(path, columns=['id', 'submitter', 'authors', 'title', 'comments', 'journal-ref', \n",
    "                                 'doi','report-no', 'categories', 'license', 'abstract', 'versions',\n",
    "                                 'update_date', 'authors_parsed'], count=None):\n",
    "    '''\n",
    "    定义读取文件的函数\n",
    "        path: 文件路径\n",
    "        columns: 需要选择的列\n",
    "        count: 读取行数\n",
    "    '''\n",
    "    \n",
    "    data  = []\n",
    "    with open(path, 'r') as f: \n",
    "        for idx, line in enumerate(f): \n",
    "            if idx == count:\n",
    "                break\n",
    "                \n",
    "            d = json.loads(line)\n",
    "            # 按行读入json数据\n",
    "            d = {col : d[col] for col in columns}\n",
    "            # 字典推导式，改写字典dict的结构\n",
    "            data.append(d)\n",
    "\n",
    "#     data = pd.DataFrame(data)\n",
    "    return data\n",
    "\n",
    "data = readArxivFile(r'..\\arxiv-metadata-oai-snapshot.json', ['id', 'categories', 'update_date'])"
   ]
  },
  {
   "cell_type": "code",
   "execution_count": 111,
   "metadata": {
    "ExecuteTime": {
     "end_time": "2021-01-13T12:11:21.358557Z",
     "start_time": "2021-01-13T12:11:19.970265Z"
    }
   },
   "outputs": [
    {
     "data": {
      "text/html": [
       "<div>\n",
       "<style scoped>\n",
       "    .dataframe tbody tr th:only-of-type {\n",
       "        vertical-align: middle;\n",
       "    }\n",
       "\n",
       "    .dataframe tbody tr th {\n",
       "        vertical-align: top;\n",
       "    }\n",
       "\n",
       "    .dataframe thead th {\n",
       "        text-align: right;\n",
       "    }\n",
       "</style>\n",
       "<table border=\"1\" class=\"dataframe\">\n",
       "  <thead>\n",
       "    <tr style=\"text-align: right;\">\n",
       "      <th></th>\n",
       "      <th>id</th>\n",
       "      <th>categories</th>\n",
       "      <th>update_date</th>\n",
       "    </tr>\n",
       "  </thead>\n",
       "  <tbody>\n",
       "    <tr>\n",
       "      <th>0</th>\n",
       "      <td>0704.0001</td>\n",
       "      <td>hep-ph</td>\n",
       "      <td>2008-11-26</td>\n",
       "    </tr>\n",
       "    <tr>\n",
       "      <th>1</th>\n",
       "      <td>0704.0002</td>\n",
       "      <td>math.CO cs.CG</td>\n",
       "      <td>2008-12-13</td>\n",
       "    </tr>\n",
       "    <tr>\n",
       "      <th>2</th>\n",
       "      <td>0704.0003</td>\n",
       "      <td>physics.gen-ph</td>\n",
       "      <td>2008-01-13</td>\n",
       "    </tr>\n",
       "    <tr>\n",
       "      <th>3</th>\n",
       "      <td>0704.0004</td>\n",
       "      <td>math.CO</td>\n",
       "      <td>2007-05-23</td>\n",
       "    </tr>\n",
       "    <tr>\n",
       "      <th>4</th>\n",
       "      <td>0704.0005</td>\n",
       "      <td>math.CA math.FA</td>\n",
       "      <td>2013-10-15</td>\n",
       "    </tr>\n",
       "  </tbody>\n",
       "</table>\n",
       "</div>"
      ],
      "text/plain": [
       "          id       categories update_date\n",
       "0  0704.0001           hep-ph  2008-11-26\n",
       "1  0704.0002    math.CO cs.CG  2008-12-13\n",
       "2  0704.0003   physics.gen-ph  2008-01-13\n",
       "3  0704.0004          math.CO  2007-05-23\n",
       "4  0704.0005  math.CA math.FA  2013-10-15"
      ]
     },
     "execution_count": 111,
     "metadata": {},
     "output_type": "execute_result"
    }
   ],
   "source": [
    "data = pd.DataFrame(data)\n",
    "data.head()"
   ]
  },
  {
   "cell_type": "markdown",
   "metadata": {},
   "source": [
    "### 数据预处理"
   ]
  },
  {
   "cell_type": "markdown",
   "metadata": {},
   "source": [
    "#### categories\n",
    "对论文的类别进行处理"
   ]
  },
  {
   "cell_type": "code",
   "execution_count": 17,
   "metadata": {
    "ExecuteTime": {
     "end_time": "2021-01-11T07:05:24.788180Z",
     "start_time": "2021-01-11T07:05:24.340738Z"
    }
   },
   "outputs": [
    {
     "data": {
      "text/plain": [
       "count      1796911\n",
       "unique       62055\n",
       "top       astro-ph\n",
       "freq         86914\n",
       "Name: categories, dtype: object"
      ]
     },
     "execution_count": 17,
     "metadata": {},
     "output_type": "execute_result"
    }
   ],
   "source": [
    "data[\"categories\"].describe()\n",
    "# 学到了，describe方法对object类的输出。之前一直以为describe方法只能输出数值的mean、max、corr等信息"
   ]
  },
  {
   "cell_type": "code",
   "execution_count": 18,
   "metadata": {
    "ExecuteTime": {
     "end_time": "2021-01-11T07:05:39.389614Z",
     "start_time": "2021-01-11T07:05:39.047511Z"
    }
   },
   "outputs": [
    {
     "data": {
      "text/plain": [
       "astro-ph                                                              86914\n",
       "hep-ph                                                                73550\n",
       "quant-ph                                                              53966\n",
       "hep-th                                                                53287\n",
       "cond-mat.mtrl-sci                                                     30107\n",
       "                                                                      ...  \n",
       "quant-ph cond-mat.mes-hall cs.CR cs.ET                                    1\n",
       "q-bio.QM physics.chem-ph physics.comp-ph                                  1\n",
       "cond-mat.supr-con cond-mat.mtrl-sci cond-mat.other physics.ins-det        1\n",
       "quant-ph math.NA physics.atom-ph physics.chem-ph physics.comp-ph          1\n",
       "cs.LG cs.DS math.OC stat.CO stat.ML                                       1\n",
       "Name: categories, Length: 62055, dtype: int64"
      ]
     },
     "execution_count": 18,
     "metadata": {},
     "output_type": "execute_result"
    }
   ],
   "source": [
    "data[\"categories\"].value_counts(ascending=False)\n",
    "# 可以发现，有些论文的类别是多种类混合的，下面得到论文分类的种类"
   ]
  },
  {
   "cell_type": "code",
   "execution_count": 5,
   "metadata": {
    "ExecuteTime": {
     "end_time": "2021-01-13T08:06:24.809741Z",
     "start_time": "2021-01-13T08:06:23.158061Z"
    }
   },
   "outputs": [
    {
     "data": {
      "text/plain": [
       "40"
      ]
     },
     "execution_count": 5,
     "metadata": {},
     "output_type": "execute_result"
    }
   ],
   "source": [
    "# 使用列表推导式将列表转为一维。示例代码的写法我理解起来有点吃力，且个人感觉可读性（变量名）不太好，就改写了一下\n",
    "category_lst_lst = [category_lst.split(' ') for category_lst in data[\"categories\"]]\n",
    "unique_categories = set([category for category_lst in category_lst_lst for category in category_lst])\n",
    "len(unique_categories)\n",
    "\n",
    "# 由于只求cs方向，这里做了筛选\n",
    "unique_cs_categories = [category for category in unique_categories if category.startswith('cs') ]\n",
    "len(unique_cs_categories)"
   ]
  },
  {
   "cell_type": "markdown",
   "metadata": {},
   "source": [
    "#### 筛出年份在2019年后的论文"
   ]
  },
  {
   "cell_type": "code",
   "execution_count": 6,
   "metadata": {
    "ExecuteTime": {
     "end_time": "2021-01-13T08:06:28.052432Z",
     "start_time": "2021-01-13T08:06:27.368666Z"
    }
   },
   "outputs": [],
   "source": [
    "data[\"year\"] = pd.to_datetime(data[\"update_date\"]).dt.year\n",
    "# 使用Pandas的dt接口（第一次接触到）得到年份信息，我之前都是用apply来使用字符串切片操作取年份的，学习了\n",
    "del data[\"update_date\"] \n",
    "data = data[data[\"year\"] >= 2019]"
   ]
  },
  {
   "cell_type": "code",
   "execution_count": 7,
   "metadata": {
    "ExecuteTime": {
     "end_time": "2021-01-13T08:06:57.310763Z",
     "start_time": "2021-01-13T08:06:57.278282Z"
    }
   },
   "outputs": [
    {
     "data": {
      "text/html": [
       "<div>\n",
       "<style scoped>\n",
       "    .dataframe tbody tr th:only-of-type {\n",
       "        vertical-align: middle;\n",
       "    }\n",
       "\n",
       "    .dataframe tbody tr th {\n",
       "        vertical-align: top;\n",
       "    }\n",
       "\n",
       "    .dataframe thead th {\n",
       "        text-align: right;\n",
       "    }\n",
       "</style>\n",
       "<table border=\"1\" class=\"dataframe\">\n",
       "  <thead>\n",
       "    <tr style=\"text-align: right;\">\n",
       "      <th></th>\n",
       "      <th>id</th>\n",
       "      <th>categories</th>\n",
       "      <th>year</th>\n",
       "    </tr>\n",
       "  </thead>\n",
       "  <tbody>\n",
       "    <tr>\n",
       "      <th>0</th>\n",
       "      <td>0704.0297</td>\n",
       "      <td>astro-ph</td>\n",
       "      <td>2019</td>\n",
       "    </tr>\n",
       "    <tr>\n",
       "      <th>1</th>\n",
       "      <td>0704.0342</td>\n",
       "      <td>math.AT</td>\n",
       "      <td>2019</td>\n",
       "    </tr>\n",
       "    <tr>\n",
       "      <th>2</th>\n",
       "      <td>0704.0360</td>\n",
       "      <td>astro-ph</td>\n",
       "      <td>2019</td>\n",
       "    </tr>\n",
       "    <tr>\n",
       "      <th>3</th>\n",
       "      <td>0704.0525</td>\n",
       "      <td>gr-qc</td>\n",
       "      <td>2019</td>\n",
       "    </tr>\n",
       "    <tr>\n",
       "      <th>4</th>\n",
       "      <td>0704.0535</td>\n",
       "      <td>astro-ph</td>\n",
       "      <td>2019</td>\n",
       "    </tr>\n",
       "    <tr>\n",
       "      <th>...</th>\n",
       "      <td>...</td>\n",
       "      <td>...</td>\n",
       "      <td>...</td>\n",
       "    </tr>\n",
       "    <tr>\n",
       "      <th>395118</th>\n",
       "      <td>quant-ph/9911051</td>\n",
       "      <td>quant-ph</td>\n",
       "      <td>2020</td>\n",
       "    </tr>\n",
       "    <tr>\n",
       "      <th>395119</th>\n",
       "      <td>solv-int/9511005</td>\n",
       "      <td>solv-int nlin.SI</td>\n",
       "      <td>2019</td>\n",
       "    </tr>\n",
       "    <tr>\n",
       "      <th>395120</th>\n",
       "      <td>solv-int/9809008</td>\n",
       "      <td>solv-int nlin.SI</td>\n",
       "      <td>2019</td>\n",
       "    </tr>\n",
       "    <tr>\n",
       "      <th>395121</th>\n",
       "      <td>solv-int/9909010</td>\n",
       "      <td>solv-int adap-org hep-th nlin.AO nlin.SI</td>\n",
       "      <td>2019</td>\n",
       "    </tr>\n",
       "    <tr>\n",
       "      <th>395122</th>\n",
       "      <td>solv-int/9909014</td>\n",
       "      <td>solv-int nlin.SI</td>\n",
       "      <td>2019</td>\n",
       "    </tr>\n",
       "  </tbody>\n",
       "</table>\n",
       "<p>395123 rows × 3 columns</p>\n",
       "</div>"
      ],
      "text/plain": [
       "                      id                                categories  year\n",
       "0              0704.0297                                  astro-ph  2019\n",
       "1              0704.0342                                   math.AT  2019\n",
       "2              0704.0360                                  astro-ph  2019\n",
       "3              0704.0525                                     gr-qc  2019\n",
       "4              0704.0535                                  astro-ph  2019\n",
       "...                  ...                                       ...   ...\n",
       "395118  quant-ph/9911051                                  quant-ph  2020\n",
       "395119  solv-int/9511005                          solv-int nlin.SI  2019\n",
       "395120  solv-int/9809008                          solv-int nlin.SI  2019\n",
       "395121  solv-int/9909010  solv-int adap-org hep-th nlin.AO nlin.SI  2019\n",
       "395122  solv-int/9909014                          solv-int nlin.SI  2019\n",
       "\n",
       "[395123 rows x 3 columns]"
      ]
     },
     "execution_count": 7,
     "metadata": {},
     "output_type": "execute_result"
    }
   ],
   "source": [
    "data = data.reset_index(drop=True)\n",
    "# 因为之前做了取部分数据的操作，需要重设index\n",
    "data"
   ]
  },
  {
   "cell_type": "markdown",
   "metadata": {},
   "source": [
    "#### 爬取所有类别\n",
    "该部分使用爬虫爬取数据。爬虫的内容还未接触，但最近期末，也没时间去了解爬虫包括正则表达式（Linux里有所接触），日后再补。"
   ]
  },
  {
   "cell_type": "code",
   "execution_count": 8,
   "metadata": {
    "ExecuteTime": {
     "end_time": "2021-01-13T08:08:10.033902Z",
     "start_time": "2021-01-13T08:08:07.865321Z"
    }
   },
   "outputs": [],
   "source": [
    "#爬取所有的类别\n",
    "website_url = requests.get('https://arxiv.org/category_taxonomy').text #获取网页的文本数据\n",
    "soup = BeautifulSoup(website_url,'lxml') #爬取数据，这里使用lxml的解析器，加速\n",
    "root = soup.find('div',{'id':'category_taxonomy_list'}) #找出 BeautifulSoup 对应的标签入口\n",
    "tags = root.find_all([\"h2\",\"h3\",\"h4\",\"p\"], recursive=True) #读取 tags"
   ]
  },
  {
   "cell_type": "code",
   "execution_count": 9,
   "metadata": {
    "ExecuteTime": {
     "end_time": "2021-01-13T08:08:11.803570Z",
     "start_time": "2021-01-13T08:08:11.799576Z"
    }
   },
   "outputs": [],
   "source": [
    "#初始化 str 和 list 变量\n",
    "level_1_name = \"\"\n",
    "level_2_name = \"\"\n",
    "level_2_code = \"\"\n",
    "level_1_names = []\n",
    "level_2_codes = []\n",
    "level_2_names = []\n",
    "level_3_codes = []\n",
    "level_3_names = []\n",
    "level_3_notes = []"
   ]
  },
  {
   "cell_type": "code",
   "execution_count": 10,
   "metadata": {
    "ExecuteTime": {
     "end_time": "2021-01-13T08:08:12.976518Z",
     "start_time": "2021-01-13T08:08:12.970600Z"
    }
   },
   "outputs": [],
   "source": [
    "#进行\n",
    "for t in tags:\n",
    "    if t.name == \"h2\":\n",
    "        level_1_name = t.text    \n",
    "        level_2_code = t.text\n",
    "        level_2_name = t.text\n",
    "    elif t.name == \"h3\":\n",
    "        raw = t.text\n",
    "        level_2_code = re.sub(r\"(.*)\\((.*)\\)\",r\"\\2\",raw) #正则表达式：模式字符串：(.*)\\((.*)\\)；被替换字符串\"\\2\"；被处理字符串：raw\n",
    "        level_2_name = re.sub(r\"(.*)\\((.*)\\)\",r\"\\1\",raw)\n",
    "    elif t.name == \"h4\":\n",
    "        raw = t.text\n",
    "        level_3_code = re.sub(r\"(.*) \\((.*)\\)\",r\"\\1\",raw)\n",
    "        level_3_name = re.sub(r\"(.*) \\((.*)\\)\",r\"\\2\",raw)\n",
    "    elif t.name == \"p\":\n",
    "        notes = t.text\n",
    "        level_1_names.append(level_1_name)\n",
    "        level_2_names.append(level_2_name)\n",
    "        level_2_codes.append(level_2_code)\n",
    "        level_3_names.append(level_3_name)\n",
    "        level_3_codes.append(level_3_code)\n",
    "        level_3_notes.append(notes)"
   ]
  },
  {
   "cell_type": "code",
   "execution_count": 11,
   "metadata": {
    "ExecuteTime": {
     "end_time": "2021-01-13T08:08:13.841279Z",
     "start_time": "2021-01-13T08:08:13.836237Z"
    }
   },
   "outputs": [],
   "source": [
    "#根据以上信息生成dataframe格式的数据\n",
    "df_taxonomy = pd.DataFrame({\n",
    "                            'group_name' : level_1_names,\n",
    "                            'archive_name' : level_2_names,\n",
    "                            'archive_id' : level_2_codes,\n",
    "                            'category_name' : level_3_names,\n",
    "                            'categories' : level_3_codes,\n",
    "                            'category_description': level_3_notes\n",
    "                            })"
   ]
  },
  {
   "cell_type": "code",
   "execution_count": 12,
   "metadata": {
    "ExecuteTime": {
     "end_time": "2021-01-13T08:08:15.023224Z",
     "start_time": "2021-01-13T08:08:15.011236Z"
    }
   },
   "outputs": [
    {
     "data": {
      "text/html": [
       "<div>\n",
       "<style scoped>\n",
       "    .dataframe tbody tr th:only-of-type {\n",
       "        vertical-align: middle;\n",
       "    }\n",
       "\n",
       "    .dataframe tbody tr th {\n",
       "        vertical-align: top;\n",
       "    }\n",
       "\n",
       "    .dataframe thead th {\n",
       "        text-align: right;\n",
       "    }\n",
       "</style>\n",
       "<table border=\"1\" class=\"dataframe\">\n",
       "  <thead>\n",
       "    <tr style=\"text-align: right;\">\n",
       "      <th></th>\n",
       "      <th>group_name</th>\n",
       "      <th>archive_name</th>\n",
       "      <th>archive_id</th>\n",
       "      <th>category_name</th>\n",
       "      <th>categories</th>\n",
       "      <th>category_description</th>\n",
       "    </tr>\n",
       "  </thead>\n",
       "  <tbody>\n",
       "    <tr>\n",
       "      <th>0</th>\n",
       "      <td>Computer Science</td>\n",
       "      <td>Computer Science</td>\n",
       "      <td>Computer Science</td>\n",
       "      <td>Artificial Intelligence</td>\n",
       "      <td>cs.AI</td>\n",
       "      <td>Covers all areas of AI except Vision, Robotics...</td>\n",
       "    </tr>\n",
       "    <tr>\n",
       "      <th>1</th>\n",
       "      <td>Computer Science</td>\n",
       "      <td>Computer Science</td>\n",
       "      <td>Computer Science</td>\n",
       "      <td>Hardware Architecture</td>\n",
       "      <td>cs.AR</td>\n",
       "      <td>Covers systems organization and hardware archi...</td>\n",
       "    </tr>\n",
       "    <tr>\n",
       "      <th>2</th>\n",
       "      <td>Computer Science</td>\n",
       "      <td>Computer Science</td>\n",
       "      <td>Computer Science</td>\n",
       "      <td>Computational Complexity</td>\n",
       "      <td>cs.CC</td>\n",
       "      <td>Covers models of computation, complexity class...</td>\n",
       "    </tr>\n",
       "    <tr>\n",
       "      <th>3</th>\n",
       "      <td>Computer Science</td>\n",
       "      <td>Computer Science</td>\n",
       "      <td>Computer Science</td>\n",
       "      <td>Computational Engineering, Finance, and Science</td>\n",
       "      <td>cs.CE</td>\n",
       "      <td>Covers applications of computer science to the...</td>\n",
       "    </tr>\n",
       "    <tr>\n",
       "      <th>4</th>\n",
       "      <td>Computer Science</td>\n",
       "      <td>Computer Science</td>\n",
       "      <td>Computer Science</td>\n",
       "      <td>Computational Geometry</td>\n",
       "      <td>cs.CG</td>\n",
       "      <td>Roughly includes material in ACM Subject Class...</td>\n",
       "    </tr>\n",
       "    <tr>\n",
       "      <th>...</th>\n",
       "      <td>...</td>\n",
       "      <td>...</td>\n",
       "      <td>...</td>\n",
       "      <td>...</td>\n",
       "      <td>...</td>\n",
       "      <td>...</td>\n",
       "    </tr>\n",
       "    <tr>\n",
       "      <th>150</th>\n",
       "      <td>Statistics</td>\n",
       "      <td>Statistics</td>\n",
       "      <td>Statistics</td>\n",
       "      <td>Computation</td>\n",
       "      <td>stat.CO</td>\n",
       "      <td>Algorithms, Simulation, Visualization</td>\n",
       "    </tr>\n",
       "    <tr>\n",
       "      <th>151</th>\n",
       "      <td>Statistics</td>\n",
       "      <td>Statistics</td>\n",
       "      <td>Statistics</td>\n",
       "      <td>Methodology</td>\n",
       "      <td>stat.ME</td>\n",
       "      <td>Design, Surveys, Model Selection, Multiple Tes...</td>\n",
       "    </tr>\n",
       "    <tr>\n",
       "      <th>152</th>\n",
       "      <td>Statistics</td>\n",
       "      <td>Statistics</td>\n",
       "      <td>Statistics</td>\n",
       "      <td>Machine Learning</td>\n",
       "      <td>stat.ML</td>\n",
       "      <td>Covers machine learning papers (supervised, un...</td>\n",
       "    </tr>\n",
       "    <tr>\n",
       "      <th>153</th>\n",
       "      <td>Statistics</td>\n",
       "      <td>Statistics</td>\n",
       "      <td>Statistics</td>\n",
       "      <td>Other Statistics</td>\n",
       "      <td>stat.OT</td>\n",
       "      <td>Work in statistics that does not fit into the ...</td>\n",
       "    </tr>\n",
       "    <tr>\n",
       "      <th>154</th>\n",
       "      <td>Statistics</td>\n",
       "      <td>Statistics</td>\n",
       "      <td>Statistics</td>\n",
       "      <td>Statistics Theory</td>\n",
       "      <td>stat.TH</td>\n",
       "      <td>stat.TH is an alias for math.ST. Asymptotics, ...</td>\n",
       "    </tr>\n",
       "  </tbody>\n",
       "</table>\n",
       "<p>155 rows × 6 columns</p>\n",
       "</div>"
      ],
      "text/plain": [
       "           group_name      archive_name        archive_id  \\\n",
       "0    Computer Science  Computer Science  Computer Science   \n",
       "1    Computer Science  Computer Science  Computer Science   \n",
       "2    Computer Science  Computer Science  Computer Science   \n",
       "3    Computer Science  Computer Science  Computer Science   \n",
       "4    Computer Science  Computer Science  Computer Science   \n",
       "..                ...               ...               ...   \n",
       "150        Statistics        Statistics        Statistics   \n",
       "151        Statistics        Statistics        Statistics   \n",
       "152        Statistics        Statistics        Statistics   \n",
       "153        Statistics        Statistics        Statistics   \n",
       "154        Statistics        Statistics        Statistics   \n",
       "\n",
       "                                       category_name categories  \\\n",
       "0                            Artificial Intelligence      cs.AI   \n",
       "1                              Hardware Architecture      cs.AR   \n",
       "2                           Computational Complexity      cs.CC   \n",
       "3    Computational Engineering, Finance, and Science      cs.CE   \n",
       "4                             Computational Geometry      cs.CG   \n",
       "..                                               ...        ...   \n",
       "150                                      Computation    stat.CO   \n",
       "151                                      Methodology    stat.ME   \n",
       "152                                 Machine Learning    stat.ML   \n",
       "153                                 Other Statistics    stat.OT   \n",
       "154                                Statistics Theory    stat.TH   \n",
       "\n",
       "                                  category_description  \n",
       "0    Covers all areas of AI except Vision, Robotics...  \n",
       "1    Covers systems organization and hardware archi...  \n",
       "2    Covers models of computation, complexity class...  \n",
       "3    Covers applications of computer science to the...  \n",
       "4    Roughly includes material in ACM Subject Class...  \n",
       "..                                                 ...  \n",
       "150              Algorithms, Simulation, Visualization  \n",
       "151  Design, Surveys, Model Selection, Multiple Tes...  \n",
       "152  Covers machine learning papers (supervised, un...  \n",
       "153  Work in statistics that does not fit into the ...  \n",
       "154  stat.TH is an alias for math.ST. Asymptotics, ...  \n",
       "\n",
       "[155 rows x 6 columns]"
      ]
     },
     "execution_count": 12,
     "metadata": {},
     "output_type": "execute_result"
    }
   ],
   "source": [
    "#按照 \"group_name\" 进行分组，在组内使用 \"archive_name\" 进行排序\n",
    "df_taxonomy.groupby([\"group_name\",\"archive_name\"])\n",
    "df_taxonomy"
   ]
  },
  {
   "cell_type": "markdown",
   "metadata": {},
   "source": [
    "**疑问-1：**\n",
    "\n",
    "为什么这里的种类比前面的unique_categories还少？"
   ]
  },
  {
   "cell_type": "code",
   "execution_count": 48,
   "metadata": {
    "ExecuteTime": {
     "end_time": "2021-01-11T11:33:23.687651Z",
     "start_time": "2021-01-11T11:33:23.671607Z"
    }
   },
   "outputs": [
    {
     "data": {
      "text/plain": [
       "['astro-ph',\n",
       " 'chem-ph',\n",
       " 'bayes-an',\n",
       " 'solv-int',\n",
       " 'ao-sci',\n",
       " 'q-bio',\n",
       " 'q-alg',\n",
       " 'funct-an',\n",
       " 'adap-org',\n",
       " 'dg-ga',\n",
       " 'acc-phys',\n",
       " 'chao-dyn',\n",
       " 'alg-geom',\n",
       " 'atom-ph',\n",
       " 'comp-gas',\n",
       " 'plasm-ph',\n",
       " 'mtrl-th',\n",
       " 'patt-sol',\n",
       " 'supr-con',\n",
       " 'cond-mat',\n",
       " 'cmp-lg']"
      ]
     },
     "execution_count": 48,
     "metadata": {},
     "output_type": "execute_result"
    }
   ],
   "source": [
    "# 求证过程：\n",
    "missing_lst = []\n",
    "for category in unique_categories:\n",
    "    if category in list(df_taxonomy['categories'].unique()):\n",
    "        continue\n",
    "    else:\n",
    "        missing_lst.append(category)\n",
    "missing_lst"
   ]
  },
  {
   "cell_type": "markdown",
   "metadata": {},
   "source": [
    "**发现：**\n",
    "\n",
    "缺失的部分其实是类名，应该是在爬虫部分省略了\n",
    "\n",
    "**衍生出来的疑问-2：**\n",
    "\n",
    "unique_categories里已经有类别数据了，为什么要爬取得到呢？如果说要全称，我觉得完全可以用字典映射来实现；如果说要group_name，也可用startwith来处理（规律很统一）"
   ]
  },
  {
   "cell_type": "markdown",
   "metadata": {},
   "source": [
    "### 数据分析"
   ]
  },
  {
   "cell_type": "markdown",
   "metadata": {},
   "source": [
    "#### 示例代码："
   ]
  },
  {
   "cell_type": "code",
   "execution_count": 113,
   "metadata": {
    "ExecuteTime": {
     "end_time": "2021-01-13T12:11:41.234309Z",
     "start_time": "2021-01-13T12:11:39.146983Z"
    }
   },
   "outputs": [
    {
     "data": {
      "text/html": [
       "<div>\n",
       "<style scoped>\n",
       "    .dataframe tbody tr th:only-of-type {\n",
       "        vertical-align: middle;\n",
       "    }\n",
       "\n",
       "    .dataframe tbody tr th {\n",
       "        vertical-align: top;\n",
       "    }\n",
       "\n",
       "    .dataframe thead th {\n",
       "        text-align: right;\n",
       "    }\n",
       "</style>\n",
       "<table border=\"1\" class=\"dataframe\">\n",
       "  <thead>\n",
       "    <tr style=\"text-align: right;\">\n",
       "      <th></th>\n",
       "      <th>group_name</th>\n",
       "      <th>id</th>\n",
       "    </tr>\n",
       "  </thead>\n",
       "  <tbody>\n",
       "    <tr>\n",
       "      <th>0</th>\n",
       "      <td>Physics</td>\n",
       "      <td>564423</td>\n",
       "    </tr>\n",
       "    <tr>\n",
       "      <th>1</th>\n",
       "      <td>Mathematics</td>\n",
       "      <td>217136</td>\n",
       "    </tr>\n",
       "    <tr>\n",
       "      <th>2</th>\n",
       "      <td>Computer Science</td>\n",
       "      <td>116539</td>\n",
       "    </tr>\n",
       "    <tr>\n",
       "      <th>3</th>\n",
       "      <td>Statistics</td>\n",
       "      <td>13459</td>\n",
       "    </tr>\n",
       "    <tr>\n",
       "      <th>4</th>\n",
       "      <td>Quantitative Biology</td>\n",
       "      <td>9022</td>\n",
       "    </tr>\n",
       "    <tr>\n",
       "      <th>5</th>\n",
       "      <td>Electrical Engineering and Systems Science</td>\n",
       "      <td>4464</td>\n",
       "    </tr>\n",
       "    <tr>\n",
       "      <th>6</th>\n",
       "      <td>Quantitative Finance</td>\n",
       "      <td>3116</td>\n",
       "    </tr>\n",
       "    <tr>\n",
       "      <th>7</th>\n",
       "      <td>Economics</td>\n",
       "      <td>724</td>\n",
       "    </tr>\n",
       "  </tbody>\n",
       "</table>\n",
       "</div>"
      ],
      "text/plain": [
       "                                   group_name      id\n",
       "0                                     Physics  564423\n",
       "1                                 Mathematics  217136\n",
       "2                            Computer Science  116539\n",
       "3                                  Statistics   13459\n",
       "4                        Quantitative Biology    9022\n",
       "5  Electrical Engineering and Systems Science    4464\n",
       "6                        Quantitative Finance    3116\n",
       "7                                   Economics     724"
      ]
     },
     "execution_count": 113,
     "metadata": {},
     "output_type": "execute_result"
    }
   ],
   "source": [
    "\n",
    "_df = data.merge(df_taxonomy, on=\"categories\", how=\"left\").drop_duplicates([\"id\",\"group_name\"]).groupby(\"group_name\").agg({\"id\":\"count\"}).sort_values(by=\"id\",ascending=False).reset_index()\n",
    "_df['id'].sum() # 182366\n",
    "\n",
    "_df"
   ]
  },
  {
   "cell_type": "markdown",
   "metadata": {},
   "source": [
    "#### 我的处理：接**疑问-2**"
   ]
  },
  {
   "cell_type": "code",
   "execution_count": null,
   "metadata": {
    "ExecuteTime": {
     "end_time": "2021-01-13T12:04:01.903599Z",
     "start_time": "2021-01-13T12:04:00.176561Z"
    }
   },
   "outputs": [],
   "source": [
    "# 统计\n",
    "def getGroupName(string): return string.split('.')[0]\n",
    "# 这里的category_lst和category_lst_lst是之前生成的\n",
    "category_lst = [getGroupName(string) for string in [category for category_lst in category_lst_lst for category in category_lst]]\n",
    "s = set(category_lst)\n",
    "d = {category:0 for category in s}\n",
    "\n",
    "# d = {category:d.get(category)+1 for category_lst in category_lst_lst for category in category_lst}\n",
    "# 错误做法，运算时先进行字典推导再进行赋值操作，所以不能达到值的累加的目的\n",
    "\n",
    "# 使用二重循环实现出现次数的统计\n",
    "for category in category_lst:\n",
    "    d[category] = d.get(category,0)+1"
   ]
  },
  {
   "cell_type": "code",
   "execution_count": null,
   "metadata": {
    "ExecuteTime": {
     "end_time": "2021-01-13T12:04:01.903599Z",
     "start_time": "2021-01-13T12:04:00.176561Z"
    }
   },
   "outputs": [],
   "source": [
    "# 转化为能够转换为DataFrame的形式(第一次尝试这种转换，没有什么好的想法)\n",
    "toDataframeCountLst = []\n",
    "for k,v in d.items():\n",
    "    toDataframeCountLst.append(eval('{'+\"'groupname':'{}','mapname':{}\".format(k,v)+'}'))"
   ]
  },
  {
   "cell_type": "code",
   "execution_count": null,
   "metadata": {
    "ExecuteTime": {
     "end_time": "2021-01-13T12:04:01.903599Z",
     "start_time": "2021-01-13T12:04:00.176561Z"
    }
   },
   "outputs": [],
   "source": [
    "# 建立groupname的字典映射\n",
    "nameMap = {'cs':'Computer Science',\n",
    "           'econ':'Economics',\n",
    "           'eess':'Electrical Engineering and Systems Science',\n",
    "           'math':'Mathematics',\n",
    "           'astro-ph':'Physics',\n",
    "           'cond-mat':'Physics',\n",
    "           'gr-qc':'Physics',\n",
    "           'hep-ex':'Physics',\n",
    "           'hep-lat':'Physics',\n",
    "           'hep-ph':'Physics',\n",
    "           'hep-th':'Physics',\n",
    "           'math-ph':'Physics',\n",
    "           'nlin':'Physics',\n",
    "           'nucl-ex':'Physics',\n",
    "           'nucl-th':'Physics',\n",
    "           'physics':'Physics',\n",
    "           'quant-ph':'Physics',\n",
    "           'q-fin':'Quantitative Finance',\n",
    "           'stat':'Statistics'}"
   ]
  },
  {
   "cell_type": "code",
   "execution_count": null,
   "metadata": {
    "ExecuteTime": {
     "end_time": "2021-01-13T12:04:01.903599Z",
     "start_time": "2021-01-13T12:04:00.176561Z"
    }
   },
   "outputs": [],
   "source": [
    "# 转换为dataframe，并做groupname的转换\n",
    "CountDataframe = pd.DataFrame(toDataframeCountLst)\n",
    "CountDataframe['groupname'] = CountDataframe['groupname'].map(nameMap)"
   ]
  },
  {
   "cell_type": "code",
   "execution_count": 121,
   "metadata": {
    "ExecuteTime": {
     "end_time": "2021-01-13T12:20:10.750655Z",
     "start_time": "2021-01-13T12:20:10.741943Z"
    }
   },
   "outputs": [
    {
     "data": {
      "text/html": [
       "<div>\n",
       "<style scoped>\n",
       "    .dataframe tbody tr th:only-of-type {\n",
       "        vertical-align: middle;\n",
       "    }\n",
       "\n",
       "    .dataframe tbody tr th {\n",
       "        vertical-align: top;\n",
       "    }\n",
       "\n",
       "    .dataframe thead th {\n",
       "        text-align: right;\n",
       "    }\n",
       "</style>\n",
       "<table border=\"1\" class=\"dataframe\">\n",
       "  <thead>\n",
       "    <tr style=\"text-align: right;\">\n",
       "      <th></th>\n",
       "      <th>groupname</th>\n",
       "      <th>mapname</th>\n",
       "    </tr>\n",
       "  </thead>\n",
       "  <tbody>\n",
       "    <tr>\n",
       "      <th>0</th>\n",
       "      <td>Physics</td>\n",
       "      <td>1657286</td>\n",
       "    </tr>\n",
       "    <tr>\n",
       "      <th>1</th>\n",
       "      <td>Mathematics</td>\n",
       "      <td>652409</td>\n",
       "    </tr>\n",
       "    <tr>\n",
       "      <th>2</th>\n",
       "      <td>Computer Science</td>\n",
       "      <td>441894</td>\n",
       "    </tr>\n",
       "    <tr>\n",
       "      <th>3</th>\n",
       "      <td>Statistics</td>\n",
       "      <td>94838</td>\n",
       "    </tr>\n",
       "    <tr>\n",
       "      <th>4</th>\n",
       "      <td>Electrical Engineering and Systems Science</td>\n",
       "      <td>29440</td>\n",
       "    </tr>\n",
       "    <tr>\n",
       "      <th>5</th>\n",
       "      <td>Quantitative Finance</td>\n",
       "      <td>15033</td>\n",
       "    </tr>\n",
       "    <tr>\n",
       "      <th>6</th>\n",
       "      <td>Economics</td>\n",
       "      <td>3236</td>\n",
       "    </tr>\n",
       "  </tbody>\n",
       "</table>\n",
       "</div>"
      ],
      "text/plain": [
       "                                    groupname  mapname\n",
       "0                                     Physics  1657286\n",
       "1                                 Mathematics   652409\n",
       "2                            Computer Science   441894\n",
       "3                                  Statistics    94838\n",
       "4  Electrical Engineering and Systems Science    29440\n",
       "5                        Quantitative Finance    15033\n",
       "6                                   Economics     3236"
      ]
     },
     "execution_count": 121,
     "metadata": {},
     "output_type": "execute_result"
    }
   ],
   "source": [
    "# 合并数据，得到结果\n",
    "CountDataframe = CountDataframe[CountDataframe['groupname'].notnull()].groupby(by='groupname').sum().\\\n",
    "                 sort_values(by='mapname',ascending=False).reset_index()\n",
    "CountDataframe"
   ]
  },
  {
   "cell_type": "markdown",
   "metadata": {},
   "source": [
    "**疑问：**好像数据上差别比较大？\n",
    "\n",
    "示例代码总共只有18万，这里是全部数据"
   ]
  },
  {
   "cell_type": "markdown",
   "metadata": {},
   "source": [
    "### 数据可视化"
   ]
  },
  {
   "cell_type": "markdown",
   "metadata": {},
   "source": [
    "#### 示例代码："
   ]
  },
  {
   "cell_type": "code",
   "execution_count": 130,
   "metadata": {
    "ExecuteTime": {
     "end_time": "2021-01-13T12:23:55.379340Z",
     "start_time": "2021-01-13T12:23:55.231494Z"
    }
   },
   "outputs": [
    {
     "data": {
      "image/png": "[encoded data removed]",
      "text/plain": [
       "<Figure size 1080x864 with 1 Axes>"
      ]
     },
     "metadata": {},
     "output_type": "display_data"
    }
   ],
   "source": [
    "fig = plt.figure(figsize=(15,12))\n",
    "explode = (0, 0, 0, 0.2, 0.3, 0.3, 0.2, 0.1) \n",
    "plt.pie(_df[\"id\"],  labels=_df[\"group_name\"], autopct='%1.2f%%', startangle=160, explode=explode)\n",
    "plt.tight_layout()\n",
    "plt.show()"
   ]
  },
  {
   "cell_type": "markdown",
   "metadata": {},
   "source": [
    "#### cHEn"
   ]
  },
  {
   "cell_type": "code",
   "execution_count": 138,
   "metadata": {
    "ExecuteTime": {
     "end_time": "2021-01-13T12:27:10.672783Z",
     "start_time": "2021-01-13T12:27:10.530986Z"
    },
    "scrolled": false
   },
   "outputs": [
    {
     "data": {
      "image/png": "[encoded data removed]",
      "text/plain": [
       "<Figure size 1080x864 with 1 Axes>"
      ]
     },
     "metadata": {},
     "output_type": "display_data"
    }
   ],
   "source": [
    "fig = plt.figure(figsize=(15,12))\n",
    "explode = (0, 0, 0, 0.2, 0.3, 0.3, 0.2) \n",
    "patches,l_text,p_text = plt.pie(CountDataframe['mapname'],labels=CountDataframe[\"groupname\"],autopct='%1.2f%%', \\\n",
    "                                startangle=160, colors=dark_color, explode=explode)\n",
    "# 循环调整字体大小\n",
    "for t in l_text:\n",
    "    t.set_size(20)\n",
    "for t in p_text:\n",
    "    t.set_size(20)\n",
    "\n",
    "plt.tight_layout()\n",
    "plt.show()"
   ]
  },
  {
   "cell_type": "markdown",
   "metadata": {},
   "source": [
    "\n",
    "相关笔记可以前往：\n",
    "\n",
    "https://github.com/chenjiyan2001/Datawhale-2021.1-team-learning-AcademicTrends/tree/main/%E7%AC%94%E8%AE%B0"
   ]
  },
  {
   "cell_type": "code",
   "execution_count": null,
   "metadata": {},
   "outputs": [],
   "source": []
  }
 ],
 "metadata": {
  "kernelspec": {
   "display_name": "Python 3",
   "language": "python",
   "name": "python3"
  },
  "language_info": {
   "codemirror_mode": {
    "name": "ipython",
    "version": 3
   },
   "file_extension": ".py",
   "mimetype": "text/x-python",
   "name": "python",
   "nbconvert_exporter": "python",
   "pygments_lexer": "ipython3",
   "version": "3.7.0"
  },
  "toc": {
   "base_numbering": 1,
   "nav_menu": {},
   "number_sections": true,
   "sideBar": true,
   "skip_h1_title": false,
   "title_cell": "Table of Contents",
   "title_sidebar": "Contents",
   "toc_cell": false,
   "toc_position": {},
   "toc_section_display": true,
   "toc_window_display": false
  }
 },
 "nbformat": 4,
 "nbformat_minor": 2
}
