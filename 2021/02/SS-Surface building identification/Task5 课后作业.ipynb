{
 "cells": [
  {
   "cell_type": "markdown",
   "metadata": {},
   "source": [
    "# 搭一个简单的CNN\n",
    "仅包含：训练、验证和预测"
   ]
  },
  {
   "cell_type": "markdown",
   "metadata": {},
   "source": [
    "## 导入库并配置变量"
   ]
  },
  {
   "cell_type": "code",
   "execution_count": 3,
   "metadata": {
    "ExecuteTime": {
     "end_time": "2021-03-04T04:46:01.761020Z",
     "start_time": "2021-03-04T04:46:01.755036Z"
    },
    "code_folding": [
     4,
     15
    ]
   },
   "outputs": [],
   "source": [
    "import numpy as np\n",
    "import pandas as pd\n",
    "from tqdm.notebook import tqdm_notebook\n",
    "\n",
    "def rle_encode(im):\n",
    "    '''\n",
    "    im: numpy array, 1 - mask, 0 - background\n",
    "    Returns run length as string formated\n",
    "    '''\n",
    "    pixels = im.flatten(order = 'F')\n",
    "    pixels = np.concatenate([[0], pixels, [0]])\n",
    "    runs = np.where(pixels[1:] != pixels[:-1])[0] + 1\n",
    "    runs[1::2] -= runs[::2]\n",
    "    return ' '.join(str(x) for x in runs)\n",
    "\n",
    "def rle_decode(mask_rle, shape=(512, 512)):\n",
    "    '''\n",
    "    mask_rle: run-length as string formated (start length)\n",
    "    shape: (height,width) of array to return \n",
    "    Returns numpy array, 1 - mask, 0 - background\n",
    "\n",
    "    '''\n",
    "    s = mask_rle.split()\n",
    "    starts, lengths = [np.asarray(x, dtype=int) for x in (s[0:][::2], s[1:][::2])]\n",
    "    starts -= 1\n",
    "    ends = starts + lengths\n",
    "    img = np.zeros(shape[0]*shape[1], dtype=np.uint8)\n",
    "    for lo, hi in zip(starts, ends):\n",
    "        img[lo:hi] = 1\n",
    "    return img.reshape(shape, order='F')"
   ]
  },
  {
   "cell_type": "code",
   "execution_count": 29,
   "metadata": {
    "ExecuteTime": {
     "end_time": "2021-03-04T05:14:00.334256Z",
     "start_time": "2021-03-04T05:13:55.085876Z"
    }
   },
   "outputs": [],
   "source": [
    "import torch\n",
    "import torch.nn as nn\n",
    "import albumentations as A"
   ]
  },
  {
   "cell_type": "code",
   "execution_count": 50,
   "metadata": {
    "ExecuteTime": {
     "end_time": "2021-03-04T05:49:52.228220Z",
     "start_time": "2021-03-04T05:49:52.211292Z"
    }
   },
   "outputs": [],
   "source": [
    "PATH='./data/'\n",
    "\n",
    "EPOCHES = 20\n",
    "BATCH_SIZE = 32\n",
    "IMAGE_SIZE = 256\n",
    "DEVICE = 'cpu'\n",
    "\n",
    "trfm = A.Compose([\n",
    "                    A.Resize(IMAGE_SIZE, IMAGE_SIZE),\n",
    "                    A.HorizontalFlip(p=0.5),\n",
    "                    A.VerticalFlip(p=0.5),\n",
    "                    A.RandomRotate90(),\n",
    "                ])"
   ]
  },
  {
   "cell_type": "markdown",
   "metadata": {},
   "source": [
    "定义Dataset类"
   ]
  },
  {
   "cell_type": "code",
   "execution_count": 32,
   "metadata": {
    "ExecuteTime": {
     "end_time": "2021-03-04T05:14:50.177118Z",
     "start_time": "2021-03-04T05:14:50.170090Z"
    }
   },
   "outputs": [],
   "source": [
    "import torch.utils.data as D\n",
    "import cv2\n",
    "from torchvision import transforms as T\n",
    "\n",
    "class MyDataset(D.Dataset):\n",
    "    def __init__(self,paths,masks,transform):\n",
    "        self.paths = paths\n",
    "        self.masks = masks\n",
    "        self.transform = transform\n",
    "        \n",
    "        self.len = len(paths)\n",
    "        self.as_tensor = T.Compose([\n",
    "                                    T.ToPILImage(),\n",
    "                                    T.Resize(IMAGE_SIZE),\n",
    "                                    T.ToTensor(),\n",
    "                                    T.Normalize([0.625, 0.448, 0.688],\n",
    "                                                [0.131, 0.177, 0.101]),\n",
    "                                    ])\n",
    "        \n",
    "    def __getitem__(self,index):\n",
    "        img = cv2.imread(self.paths[index])\n",
    "        mask = rle_decode(self.masks[index])\n",
    "        augments = self.transform(image=img, mask=mask)\n",
    "        return self.as_tensor(augments['image']), augments['mask'][None]\n",
    "        \n",
    "    def __len__(self):\n",
    "        return self.len"
   ]
  },
  {
   "cell_type": "markdown",
   "metadata": {},
   "source": [
    "读取数据"
   ]
  },
  {
   "cell_type": "code",
   "execution_count": 25,
   "metadata": {
    "ExecuteTime": {
     "end_time": "2021-03-04T05:12:26.216391Z",
     "start_time": "2021-03-04T05:12:24.223447Z"
    }
   },
   "outputs": [],
   "source": [
    "train_mask = pd.read_csv(PATH + 'train_mask.csv', sep='\\t', names=['name', 'mask'])\n",
    "train_mask['pathname'] = train_mask['name'].apply(lambda x: PATH + 'train/' + x)"
   ]
  },
  {
   "cell_type": "code",
   "execution_count": 33,
   "metadata": {
    "ExecuteTime": {
     "end_time": "2021-03-04T05:14:54.413502Z",
     "start_time": "2021-03-04T05:14:54.405524Z"
    }
   },
   "outputs": [],
   "source": [
    "dataset = MyDataset(\n",
    "                    train_mask['pathname'].values,\n",
    "                    train_mask['mask'].fillna('').values,\n",
    "                    trfm\n",
    "                    )"
   ]
  },
  {
   "cell_type": "code",
   "execution_count": 41,
   "metadata": {
    "ExecuteTime": {
     "end_time": "2021-03-04T05:17:43.600666Z",
     "start_time": "2021-03-04T05:17:43.579718Z"
    }
   },
   "outputs": [],
   "source": [
    "# 抽取数据，缩短训练时间\n",
    "valid_idx, train_idx = [], []\n",
    "for i in range(len(dataset)):\n",
    "    if i % 30 == 0:\n",
    "        valid_idx.append(i)\n",
    "    elif i % 30 == 1:\n",
    "        train_idx.append(i)"
   ]
  },
  {
   "cell_type": "code",
   "execution_count": 42,
   "metadata": {
    "ExecuteTime": {
     "end_time": "2021-03-04T05:17:45.668274Z",
     "start_time": "2021-03-04T05:17:45.650281Z"
    }
   },
   "outputs": [],
   "source": [
    "train_ds = D.Subset(dataset, train_idx)\n",
    "valid_ds = D.Subset(dataset, valid_idx)"
   ]
  },
  {
   "cell_type": "code",
   "execution_count": 44,
   "metadata": {
    "ExecuteTime": {
     "end_time": "2021-03-04T05:18:18.169153Z",
     "start_time": "2021-03-04T05:18:18.151201Z"
    }
   },
   "outputs": [],
   "source": [
    "loader = D.DataLoader(train_ds, batch_size=BATCH_SIZE, shuffle=True, num_workers=0)\n",
    "vloader = D.DataLoader(valid_ds, batch_size=BATCH_SIZE, shuffle=False, num_workers=0)"
   ]
  },
  {
   "cell_type": "markdown",
   "metadata": {},
   "source": [
    "构建模型"
   ]
  },
  {
   "cell_type": "code",
   "execution_count": 48,
   "metadata": {
    "ExecuteTime": {
     "end_time": "2021-03-04T05:49:32.251974Z",
     "start_time": "2021-03-04T05:49:32.238012Z"
    }
   },
   "outputs": [],
   "source": [
    "import torchvision\n",
    "def get_model():\n",
    "    model = torchvision.models.segmentation.fcn_resnet50(True)\n",
    "    model.classifier[4] = nn.Conv2d(512, 1, kernel_size=(1, 1), stride=(1, 1))\n",
    "    return model\n",
    "\n",
    "@torch.no_grad()\n",
    "def validation(model, loader, loss_fn):\n",
    "    losses = []\n",
    "    model.eval()\n",
    "    for image, target in loader:\n",
    "        image, target = image.to(DEVICE), target.float().to(DEVICE)\n",
    "        output = model(image)['out']\n",
    "        loss = loss_fn(output, target)\n",
    "        losses.append(loss.item())\n",
    "        \n",
    "    return np.array(losses).mean()"
   ]
  },
  {
   "cell_type": "code",
   "execution_count": 51,
   "metadata": {
    "ExecuteTime": {
     "end_time": "2021-03-04T05:49:58.486637Z",
     "start_time": "2021-03-04T05:49:57.665832Z"
    }
   },
   "outputs": [],
   "source": [
    "model = get_model()\n",
    "model.to(DEVICE);\n",
    "\n",
    "optimizer = torch.optim.AdamW(model.parameters(), lr=1e-4, weight_decay=1e-3)"
   ]
  },
  {
   "cell_type": "code",
   "execution_count": 52,
   "metadata": {
    "ExecuteTime": {
     "end_time": "2021-03-04T05:50:58.875350Z",
     "start_time": "2021-03-04T05:50:58.866378Z"
    }
   },
   "outputs": [],
   "source": [
    "class SoftDiceLoss(nn.Module):\n",
    "    def __init__(self, smooth=1., dims=(-2,-1)):\n",
    "\n",
    "        super(SoftDiceLoss, self).__init__()\n",
    "        self.smooth = smooth\n",
    "        self.dims = dims\n",
    "    \n",
    "    def forward(self, x, y):\n",
    "        tp = (x * y).sum(self.dims)\n",
    "        fp = (x * (1 - y)).sum(self.dims)\n",
    "        fn = ((1 - x) * y).sum(self.dims)\n",
    "        \n",
    "        dc = (2 * tp + self.smooth) / (2 * tp + fp + fn + self.smooth)\n",
    "        dc = dc.mean()\n",
    "        return 1 - dc"
   ]
  },
  {
   "cell_type": "code",
   "execution_count": 53,
   "metadata": {
    "ExecuteTime": {
     "end_time": "2021-03-04T05:51:19.356932Z",
     "start_time": "2021-03-04T05:51:19.350957Z"
    }
   },
   "outputs": [],
   "source": [
    "bce_fn = nn.BCEWithLogitsLoss()\n",
    "dice_fn = SoftDiceLoss()\n",
    "\n",
    "def loss_fn(y_pred, y_true):\n",
    "    bce = bce_fn(y_pred, y_true)\n",
    "    dice = dice_fn(y_pred.sigmoid(), y_true)\n",
    "    return 0.8*bce+ 0.2*dice"
   ]
  },
  {
   "cell_type": "code",
   "execution_count": 55,
   "metadata": {
    "ExecuteTime": {
     "end_time": "2021-03-04T08:02:15.601679Z",
     "start_time": "2021-03-04T05:51:57.770099Z"
    }
   },
   "outputs": [
    {
     "name": "stdout",
     "output_type": "stream",
     "text": [
      "\n",
      "        Train | Valid\n",
      "Epoch |  Loss |  Loss | Time, m\n",
      "\n"
     ]
    },
    {
     "data": {
      "application/vnd.jupyter.widget-view+json": {
       "model_id": "fd295e9def064f0c9d22cba8cc1c22fd",
       "version_major": 2,
       "version_minor": 0
      },
      "text/plain": [
       "  0%|          | 0/32 [00:00<?, ?it/s]"
      ]
     },
     "metadata": {},
     "output_type": "display_data"
    },
    {
     "name": "stdout",
     "output_type": "stream",
     "text": [
      "     1│  0.484│  0.383│ 27.39\n"
     ]
    },
    {
     "data": {
      "application/vnd.jupyter.widget-view+json": {
       "model_id": "12787c2959304695ac1b846e140ead54",
       "version_major": 2,
       "version_minor": 0
      },
      "text/plain": [
       "  0%|          | 0/32 [00:00<?, ?it/s]"
      ]
     },
     "metadata": {},
     "output_type": "display_data"
    },
    {
     "name": "stdout",
     "output_type": "stream",
     "text": [
      "     2│  0.357│  0.313│ 26.91\n"
     ]
    },
    {
     "data": {
      "application/vnd.jupyter.widget-view+json": {
       "model_id": "4fb7187141364a10b88a8c491fc2d573",
       "version_major": 2,
       "version_minor": 0
      },
      "text/plain": [
       "  0%|          | 0/32 [00:00<?, ?it/s]"
      ]
     },
     "metadata": {},
     "output_type": "display_data"
    },
    {
     "name": "stdout",
     "output_type": "stream",
     "text": [
      "     3│  0.319│  0.299│ 26.53\n"
     ]
    },
    {
     "data": {
      "application/vnd.jupyter.widget-view+json": {
       "model_id": "63275d367c5443738a56af5511d9c4f1",
       "version_major": 2,
       "version_minor": 0
      },
      "text/plain": [
       "  0%|          | 0/32 [00:00<?, ?it/s]"
      ]
     },
     "metadata": {},
     "output_type": "display_data"
    },
    {
     "name": "stdout",
     "output_type": "stream",
     "text": [
      "     4│  0.292│  0.278│ 24.78\n"
     ]
    },
    {
     "data": {
      "application/vnd.jupyter.widget-view+json": {
       "model_id": "13a19fa47ec64acfa1fc767a502231d7",
       "version_major": 2,
       "version_minor": 0
      },
      "text/plain": [
       "  0%|          | 0/32 [00:00<?, ?it/s]"
      ]
     },
     "metadata": {},
     "output_type": "display_data"
    },
    {
     "name": "stdout",
     "output_type": "stream",
     "text": [
      "     5│  0.265│  0.263│ 24.66\n"
     ]
    }
   ],
   "source": [
    "import time\n",
    "header = r'''\n",
    "        Train | Valid\n",
    "Epoch |  Loss |  Loss | Time, m\n",
    "'''\n",
    "#          Epoch         metrics            time\n",
    "raw_line = '{:6d}' + '\\u2502{:7.3f}'*2 + '\\u2502{:6.2f}'\n",
    "print(header)\n",
    "\n",
    "EPOCHES = 5\n",
    "best_loss = 10\n",
    "for epoch in range(1, EPOCHES+1):\n",
    "    losses = []\n",
    "    start_time = time.time()\n",
    "    model.train()\n",
    "    for image, target in tqdm_notebook(loader):\n",
    "        \n",
    "        image, target = image.to(DEVICE), target.float().to(DEVICE)\n",
    "        optimizer.zero_grad()\n",
    "        output = model(image)['out']\n",
    "        loss = loss_fn(output, target)\n",
    "        loss.backward()\n",
    "        optimizer.step()\n",
    "        losses.append(loss.item())\n",
    "        # print(loss.item())\n",
    "        \n",
    "    vloss = validation(model, vloader, loss_fn)\n",
    "    print(raw_line.format(epoch, np.array(losses).mean(), vloss, (time.time()-start_time)/60**1))\n",
    "    losses = []\n",
    "    \n",
    "    if vloss < best_loss:\n",
    "        best_loss = vloss\n",
    "        torch.save(model.state_dict(), 'small_model_best.pth')"
   ]
  },
  {
   "cell_type": "code",
   "execution_count": null,
   "metadata": {},
   "outputs": [],
   "source": []
  }
 ],
 "metadata": {
  "kernelspec": {
   "display_name": "Python 3",
   "language": "python",
   "name": "python3"
  },
  "language_info": {
   "codemirror_mode": {
    "name": "ipython",
    "version": 3
   },
   "file_extension": ".py",
   "mimetype": "text/x-python",
   "name": "python",
   "nbconvert_exporter": "python",
   "pygments_lexer": "ipython3",
   "version": "3.7.0"
  },
  "nbTranslate": {
   "displayLangs": [
    "*"
   ],
   "hotkey": "alt-t",
   "langInMainMenu": true,
   "sourceLang": "en",
   "targetLang": "fr",
   "useGoogleTranslate": true
  },
  "toc": {
   "base_numbering": 1,
   "nav_menu": {},
   "number_sections": true,
   "sideBar": true,
   "skip_h1_title": true,
   "title_cell": "Table of Contents",
   "title_sidebar": "Contents",
   "toc_cell": false,
   "toc_position": {},
   "toc_section_display": true,
   "toc_window_display": false
  },
  "varInspector": {
   "cols": {
    "lenName": 16,
    "lenType": 16,
    "lenVar": 40
   },
   "kernels_config": {
    "python": {
     "delete_cmd_postfix": "",
     "delete_cmd_prefix": "del ",
     "library": "var_list.py",
     "varRefreshCmd": "print(var_dic_list())"
    },
    "r": {
     "delete_cmd_postfix": ") ",
     "delete_cmd_prefix": "rm(",
     "library": "var_list.r",
     "varRefreshCmd": "cat(var_dic_list()) "
    }
   },
   "types_to_exclude": [
    "module",
    "function",
    "builtin_function_or_method",
    "instance",
    "_Feature"
   ],
   "window_display": false
  }
 },
 "nbformat": 4,
 "nbformat_minor": 2
}
