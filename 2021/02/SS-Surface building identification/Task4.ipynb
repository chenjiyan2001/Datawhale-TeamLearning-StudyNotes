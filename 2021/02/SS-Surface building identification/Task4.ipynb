{
 "cells": [
  {
   "cell_type": "markdown",
   "metadata": {},
   "source": [
    "# 导入库和数据"
   ]
  },
  {
   "cell_type": "code",
   "execution_count": 48,
   "metadata": {
    "ExecuteTime": {
     "end_time": "2021-03-01T15:41:38.456248Z",
     "start_time": "2021-03-01T15:41:38.441288Z"
    },
    "init_cell": true
   },
   "outputs": [],
   "source": [
    "import pandas as pd\n",
    "import numpy as np\n",
    "import cv2\n",
    "import matplotlib.pyplot as plt\n",
    "from tqdm.notebook import tqdm_notebook\n",
    "import torchvision\n",
    "import torch\n",
    "import torch.nn as nn\n",
    "from torchvision import transforms as T"
   ]
  },
  {
   "cell_type": "code",
   "execution_count": 5,
   "metadata": {
    "ExecuteTime": {
     "end_time": "2021-03-01T15:22:28.818997Z",
     "start_time": "2021-03-01T15:22:28.776208Z"
    },
    "init_cell": true
   },
   "outputs": [],
   "source": [
    "# 将图片编码为rle格式\n",
    "def rle_encode(im):\n",
    "    '''\n",
    "    im: numpy array, 1 - mask, 0 - background\n",
    "    Returns run length as string formated\n",
    "    '''\n",
    "    pixels = im.flatten(order = 'F')\n",
    "    pixels = np.concatenate([[0], pixels, [0]])\n",
    "    runs = np.where(pixels[1:] != pixels[:-1])[0] + 1\n",
    "    runs[1::2] -= runs[::2]\n",
    "    return ' '.join(str(x) for x in runs)\n",
    "\n",
    "# 将rle格式进行解码为图片\n",
    "def rle_decode(mask_rle, shape=(512, 512)):\n",
    "    '''\n",
    "    mask_rle: run-length as string formated (start length)\n",
    "    shape: (height,width) of array to return\n",
    "    Returns numpy array, 1 - mask, 0 - background\n",
    "    '''\n",
    "    s = mask_rle.split()\n",
    "    starts, lengths = [np.asarray(x, dtype=int) for x in (s[0:][::2], s[1:][::2])]\n",
    "    starts -= 1\n",
    "    ends = starts + lengths\n",
    "    img = np.zeros(shape[0]*shape[1], dtype=np.uint8)\n",
    "    for lo, hi in zip(starts, ends):\n",
    "        img[lo:hi] = 1\n",
    "    return img.reshape(shape, order='F')"
   ]
  },
  {
   "cell_type": "code",
   "execution_count": null,
   "metadata": {
    "ExecuteTime": {
     "end_time": "2021-03-01T15:46:00.512488Z",
     "start_time": "2021-03-01T15:45:58.523592Z"
    },
    "init_cell": true
   },
   "outputs": [],
   "source": [
    "PATH = './data/'\n",
    "IMAGE_SIZE = 256\n",
    "DEVICE = 'cuda' if torch.cuda.is_available() else 'cpu' "
   ]
  },
  {
   "cell_type": "code",
   "execution_count": 73,
   "metadata": {
    "ExecuteTime": {
     "end_time": "2021-03-01T15:47:53.542105Z",
     "start_time": "2021-03-01T15:47:51.371135Z"
    },
    "init_cell": true
   },
   "outputs": [],
   "source": [
    "train_mask = pd.read_csv(PATH+'train_mask.csv', sep='\\t', names=['name', 'mask']).fillna('')\n",
    "\n",
    "pred_mask = pd.read_csv('tmp.csv',sep='\\t',header=None).fillna('')\n",
    "pred_mask.columns=['name','mask']"
   ]
  },
  {
   "cell_type": "code",
   "execution_count": 106,
   "metadata": {
    "ExecuteTime": {
     "end_time": "2021-03-01T15:58:21.655273Z",
     "start_time": "2021-03-01T15:58:20.781692Z"
    }
   },
   "outputs": [],
   "source": [
    "trfm = T.Compose([\n",
    "    T.ToPILImage(),\n",
    "    T.Resize(IMAGE_SIZE),\n",
    "    T.ToTensor(),\n",
    "    T.Normalize([0.625, 0.448, 0.688],\n",
    "                [0.131, 0.177, 0.101]),\n",
    "])\n",
    "\n",
    "# 读取之前训练的模型\n",
    "model = torchvision.models.segmentation.fcn_resnet50(True)\n",
    "model.classifier[4] = nn.Conv2d(512, 1, kernel_size=(1, 1), stride=(1, 1))\n",
    "model.load_state_dict(torch.load(\"./model_best.pth\"))\n",
    "\n",
    "output = []"
   ]
  },
  {
   "cell_type": "code",
   "execution_count": 107,
   "metadata": {
    "ExecuteTime": {
     "end_time": "2021-03-01T15:58:28.894365Z",
     "start_time": "2021-03-01T15:58:26.617393Z"
    }
   },
   "outputs": [
    {
     "data": {
      "application/vnd.jupyter.widget-view+json": {
       "model_id": "64d5f36a7f8c45838b8bad4315c33617",
       "version_major": 2,
       "version_minor": 0
      },
      "text/plain": [
       "  0%|          | 0/30000 [00:00<?, ?it/s]"
      ]
     },
     "metadata": {},
     "output_type": "display_data"
    }
   ],
   "source": [
    "train_mask['path'] = train_mask['name'].apply(lambda x: PATH+'train/' + x)\n",
    "\n",
    "for idx, name in enumerate(tqdm_notebook(train_mask['path'].iloc[:])):\n",
    "    if idx>=4:\n",
    "        break\n",
    "    image = cv2.imread(name)\n",
    "    image = trfm(image)\n",
    "    with torch.no_grad():\n",
    "        image = image.to(DEVICE)[None]\n",
    "        score = model(image)['out'][0][0]\n",
    "        score_sigmoid = score.sigmoid().cpu().numpy()\n",
    "        score_sigmoid = (score_sigmoid > 0.5).astype(np.uint8)\n",
    "        score_sigmoid = cv2.resize(score_sigmoid, (512, 512))\n",
    "\n",
    "        \n",
    "        # break\n",
    "    output.append([name.split('/')[-1], rle_encode(score_sigmoid)])"
   ]
  },
  {
   "cell_type": "code",
   "execution_count": 108,
   "metadata": {
    "ExecuteTime": {
     "end_time": "2021-03-01T15:58:31.315622Z",
     "start_time": "2021-03-01T15:58:31.300686Z"
    }
   },
   "outputs": [],
   "source": [
    "output_df = pd.DataFrame(output)\n",
    "output_df.columns=['name','mask']"
   ]
  },
  {
   "cell_type": "code",
   "execution_count": 109,
   "metadata": {
    "ExecuteTime": {
     "end_time": "2021-03-01T15:58:32.940195Z",
     "start_time": "2021-03-01T15:58:32.926181Z"
    }
   },
   "outputs": [],
   "source": [
    "target_df = pd.DataFrame()\n",
    "for name in output_df['name']:\n",
    "    target_df = target_df.append(train_mask[train_mask['name']==name])\n",
    "target_df = target_df[['name','mask']]"
   ]
  },
  {
   "cell_type": "code",
   "execution_count": 110,
   "metadata": {
    "ExecuteTime": {
     "end_time": "2021-03-01T15:58:34.022849Z",
     "start_time": "2021-03-01T15:58:34.009818Z"
    }
   },
   "outputs": [],
   "source": [
    "output_df['pic'] = output_df['mask'].apply(rle_decode)\n",
    "target_df['pic'] = target_df['mask'].apply(rle_decode)"
   ]
  },
  {
   "cell_type": "code",
   "execution_count": 111,
   "metadata": {
    "ExecuteTime": {
     "end_time": "2021-03-01T15:58:35.995839Z",
     "start_time": "2021-03-01T15:58:35.981012Z"
    }
   },
   "outputs": [],
   "source": [
    "output_pic = output_df['pic']\n",
    "target_pic = target_df['pic']"
   ]
  },
  {
   "cell_type": "code",
   "execution_count": 121,
   "metadata": {
    "ExecuteTime": {
     "end_time": "2021-03-01T16:03:29.895062Z",
     "start_time": "2021-03-01T16:03:29.188330Z"
    }
   },
   "outputs": [
    {
     "data": {
      "image/png": "[encoded data removed]",
      "text/plain": [
       "<Figure size 1152x576 with 8 Axes>"
      ]
     },
     "metadata": {
      "needs_background": "light"
     },
     "output_type": "display_data"
    }
   ],
   "source": [
    "plt.figure(figsize=(16,8))\n",
    "plt.subplot(2,4,1)\n",
    "plt.imshow(output_pic[0] ,cmap='gray')\n",
    "plt.title('output_pic1')\n",
    "plt.subplot(2,4,2)\n",
    "plt.imshow(output_pic[1] ,cmap='gray')\n",
    "plt.title('output_pic2')\n",
    "plt.subplot(2,4,3)\n",
    "plt.imshow(output_pic[2] ,cmap='gray')\n",
    "plt.title('output_pic3')\n",
    "plt.subplot(2,4,4)\n",
    "plt.imshow(output_pic[3] ,cmap='gray')\n",
    "plt.title('output_pic4')\n",
    "plt.subplot(2,4,5)\n",
    "plt.imshow(target_pic[0] ,cmap='gray')\n",
    "plt.title('target_pic1')\n",
    "plt.subplot(2,4,6)\n",
    "plt.imshow(target_pic[1] ,cmap='gray')\n",
    "plt.title('target_pic2')\n",
    "plt.subplot(2,4,7)\n",
    "plt.imshow(target_pic[2] ,cmap='gray')\n",
    "plt.title('target_pic3')\n",
    "plt.subplot(2,4,8)\n",
    "plt.imshow(target_pic[3] ,cmap='gray')\n",
    "plt.title('target_pic4')\n",
    "plt.show()"
   ]
  },
  {
   "cell_type": "markdown",
   "metadata": {},
   "source": [
    "Dice loss"
   ]
  },
  {
   "cell_type": "code",
   "execution_count": 122,
   "metadata": {
    "ExecuteTime": {
     "end_time": "2021-03-01T16:03:56.844106Z",
     "start_time": "2021-03-01T16:03:56.830144Z"
    }
   },
   "outputs": [],
   "source": [
    "def dice(output, target):\n",
    "    '''计算Dice系数'''\n",
    "    smooth = 1e-6 # 避免0为除数\n",
    "    intersection = (output * target).sum()\n",
    "    return (2. * intersection + smooth) / (output.sum() + target.sum() + smooth)"
   ]
  },
  {
   "cell_type": "code",
   "execution_count": 142,
   "metadata": {
    "ExecuteTime": {
     "end_time": "2021-03-01T16:10:41.900915Z",
     "start_time": "2021-03-01T16:10:41.878974Z"
    }
   },
   "outputs": [
    {
     "name": "stdout",
     "output_type": "stream",
     "text": [
      "第1张图的dice\t=  0.5091781773765482\n",
      "第2张图的dice\t=  1.930800123533928e-11\n",
      "第3张图的dice\t=  2.346316283379955e-11\n",
      "第4张图的dice\t=  0.7218656829622047\n"
     ]
    }
   ],
   "source": [
    "for i in range(4):\n",
    "    output = output_pic[i]\n",
    "    target = target_pic[i]\n",
    "    print('第'+str(i+1)+'张图的dice\\t=  '+str(dice(output,target)))"
   ]
  },
  {
   "cell_type": "markdown",
   "metadata": {},
   "source": [
    "IoU"
   ]
  },
  {
   "cell_type": "code",
   "execution_count": 134,
   "metadata": {
    "ExecuteTime": {
     "end_time": "2021-03-01T16:09:46.672511Z",
     "start_time": "2021-03-01T16:09:46.659551Z"
    }
   },
   "outputs": [],
   "source": [
    "def iou_score(output, target):\n",
    "    '''计算IoU指标'''\n",
    "    intersection = np.logical_and(target, output)\n",
    "    union = np.logical_or(target, output)\n",
    "    return np.sum(intersection) / np.sum(union)"
   ]
  },
  {
   "cell_type": "code",
   "execution_count": 141,
   "metadata": {
    "ExecuteTime": {
     "end_time": "2021-03-01T16:10:38.078879Z",
     "start_time": "2021-03-01T16:10:38.064916Z"
    }
   },
   "outputs": [
    {
     "name": "stdout",
     "output_type": "stream",
     "text": [
      "第1张图的iou_score\t=  0.34154193991961074\n",
      "第2张图的iou_score\t=  0.0\n",
      "第3张图的iou_score\t=  0.0\n",
      "第4张图的iou_score\t=  0.5647807693828332\n"
     ]
    }
   ],
   "source": [
    "for i in range(4):\n",
    "    output = output_pic[i]\n",
    "    target = target_pic[i]\n",
    "    print('第'+str(i+1)+'张图的iou_score\\t=  '+str(iou_score(output,target)))"
   ]
  },
  {
   "cell_type": "markdown",
   "metadata": {},
   "source": [
    "BCE"
   ]
  },
  {
   "cell_type": "code",
   "execution_count": 151,
   "metadata": {
    "ExecuteTime": {
     "end_time": "2021-03-01T16:15:49.111368Z",
     "start_time": "2021-03-01T16:15:49.058523Z"
    }
   },
   "outputs": [
    {
     "name": "stdout",
     "output_type": "stream",
     "text": [
      "第1张图的loss_bce\t=  0.6224266472030244\n",
      "第1张图的loss_bce_sig\t=  0.6224266472030244\n",
      "第2张图的loss_bce\t=  0.8156637002757623\n",
      "第2张图的loss_bce_sig\t=  0.8156637002757623\n",
      "第3张图的loss_bce\t=  0.7939668838015292\n",
      "第3张图的loss_bce_sig\t=  0.7939668838015292\n",
      "第4张图的loss_bce\t=  0.6969886712734124\n",
      "第4张图的loss_bce_sig\t=  0.6969886712734124\n"
     ]
    }
   ],
   "source": [
    "import torch\n",
    "import torch.nn as nn\n",
    "\n",
    "bce = nn.BCELoss()\n",
    "bce_sig = nn.BCEWithLogitsLoss()\n",
    "\n",
    "for i in range(4):\n",
    "    output = torch.from_numpy(output_pic[i].astype(np.float64))\n",
    "    target = torch.from_numpy(target_pic[i].astype(np.float64))\n",
    "    pre = nn.Sigmoid()(output)\n",
    "\n",
    "    loss_bce = bce(pre, target)\n",
    "    loss_bce_sig = bce_sig(output, target)\n",
    "    print('第'+str(i+1)+'张图的loss_bce\\t=  '+str(loss_bce.item()))\n",
    "    print('第'+str(i+1)+'张图的loss_bce_sig\\t=  '+str(loss_bce_sig.item()))"
   ]
  },
  {
   "cell_type": "markdown",
   "metadata": {},
   "source": [
    "Focal Loss"
   ]
  },
  {
   "cell_type": "code",
   "execution_count": 156,
   "metadata": {
    "ExecuteTime": {
     "end_time": "2021-03-01T16:20:01.990946Z",
     "start_time": "2021-03-01T16:20:01.980974Z"
    }
   },
   "outputs": [],
   "source": [
    "import torch.nn as nn\n",
    "import torch\n",
    "import torch.nn.functional as F\n",
    "\n",
    "class FocalLoss(nn.Module):\n",
    "    def __init__(self, alpha=1, gamma=2, logits=False, reduce=True):\n",
    "        super(FocalLoss, self).__init__()\n",
    "        self.alpha = alpha\n",
    "        self.gamma = gamma\n",
    "        self.logits = logits\t# 如果BEC带logits则损失函数在计算BECloss之前会自动计算softmax/sigmoid将其映射到[0,1]\n",
    "        self.reduce = reduce\n",
    "\n",
    "    def forward(self, inputs, targets):\n",
    "        if self.logits:\n",
    "            BCE_loss = F.binary_cross_entropy_with_logits(inputs, targets, reduction='none') # reduce=Fasle会弹警告\n",
    "        else:\n",
    "            BCE_loss = F.binary_cross_entropy(inputs, targets, reduction='none') # reduce=Fasle会弹警告\n",
    "        pt = torch.exp(-BCE_loss)\n",
    "        F_loss = self.alpha * (1-pt)**self.gamma * BCE_loss\n",
    "\n",
    "        if self.reduce:\n",
    "            return torch.mean(F_loss)\n",
    "        else:\n",
    "            return F_loss"
   ]
  },
  {
   "cell_type": "code",
   "execution_count": 157,
   "metadata": {
    "ExecuteTime": {
     "end_time": "2021-03-01T16:20:03.840667Z",
     "start_time": "2021-03-01T16:20:03.764905Z"
    }
   },
   "outputs": [
    {
     "name": "stdout",
     "output_type": "stream",
     "text": [
      "第1张图的f_loss_1\t=  0.1471357900120513\n",
      "第1张图的f_loss_2\t=  0.1471357900120513\n",
      "第2张图的f_loss_1\t=  0.27771906700732746\n",
      "第2张图的f_loss_2\t=  0.27771906700732746\n",
      "第3张图的f_loss_1\t=  0.2592248440082687\n",
      "第3张图的f_loss_2\t=  0.2592248440082687\n",
      "第4张图的f_loss_1\t=  0.18599851706095155\n",
      "第4张图的f_loss_2\t=  0.18599851706095155\n"
     ]
    }
   ],
   "source": [
    "FL1 = FocalLoss(logits=False)\n",
    "FL2 = FocalLoss(logits=True)\n",
    "\n",
    "for i in range(4):\n",
    "    output = torch.from_numpy(output_pic[i].astype(np.float64))\n",
    "    target = torch.from_numpy(target_pic[i].astype(np.float64))\n",
    "    pre = nn.Sigmoid()(output)\n",
    "\n",
    "    f_loss_1 = FL1(pre, target)\n",
    "    f_loss_2 = FL2(output, target)\n",
    "    print('第'+str(i+1)+'张图的f_loss_1\\t=  '+str(f_loss_1.item()))\n",
    "    print('第'+str(i+1)+'张图的f_loss_2\\t=  '+str(f_loss_1.item()))"
   ]
  },
  {
   "cell_type": "code",
   "execution_count": null,
   "metadata": {},
   "outputs": [],
   "source": []
  }
 ],
 "metadata": {
  "kernelspec": {
   "display_name": "Python 3",
   "language": "python",
   "name": "python3"
  },
  "language_info": {
   "codemirror_mode": {
    "name": "ipython",
    "version": 3
   },
   "file_extension": ".py",
   "mimetype": "text/x-python",
   "name": "python",
   "nbconvert_exporter": "python",
   "pygments_lexer": "ipython3",
   "version": "3.7.0"
  },
  "nbTranslate": {
   "displayLangs": [
    "*"
   ],
   "hotkey": "alt-t",
   "langInMainMenu": true,
   "sourceLang": "en",
   "targetLang": "fr",
   "useGoogleTranslate": true
  },
  "toc": {
   "base_numbering": 1,
   "nav_menu": {},
   "number_sections": true,
   "sideBar": true,
   "skip_h1_title": true,
   "title_cell": "Table of Contents",
   "title_sidebar": "Contents",
   "toc_cell": false,
   "toc_position": {},
   "toc_section_display": true,
   "toc_window_display": false
  },
  "varInspector": {
   "cols": {
    "lenName": 16,
    "lenType": 16,
    "lenVar": 40
   },
   "kernels_config": {
    "python": {
     "delete_cmd_postfix": "",
     "delete_cmd_prefix": "del ",
     "library": "var_list.py",
     "varRefreshCmd": "print(var_dic_list())"
    },
    "r": {
     "delete_cmd_postfix": ") ",
     "delete_cmd_prefix": "rm(",
     "library": "var_list.r",
     "varRefreshCmd": "cat(var_dic_list()) "
    }
   },
   "types_to_exclude": [
    "module",
    "function",
    "builtin_function_or_method",
    "instance",
    "_Feature"
   ],
   "window_display": false
  }
 },
 "nbformat": 4,
 "nbformat_minor": 2
}
