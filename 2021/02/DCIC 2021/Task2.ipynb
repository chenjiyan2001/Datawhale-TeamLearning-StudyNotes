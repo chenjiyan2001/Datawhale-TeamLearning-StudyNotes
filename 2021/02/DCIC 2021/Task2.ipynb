{
 "cells": [
  {
   "cell_type": "markdown",
   "metadata": {},
   "source": [
    "# Baseline优化"
   ]
  },
  {
   "cell_type": "markdown",
   "metadata": {},
   "source": [
    "## 导入库并配置环境"
   ]
  },
  {
   "cell_type": "code",
   "execution_count": 1,
   "metadata": {
    "ExecuteTime": {
     "end_time": "2021-02-24T18:33:57.926842Z",
     "start_time": "2021-02-24T18:33:52.693990Z"
    }
   },
   "outputs": [],
   "source": [
    "import os, codecs\n",
    "import pandas as pd\n",
    "import numpy as np\n",
    "from tqdm.notebook import tqdm\n",
    "\n",
    "# %pylab inline\n",
    "from IPython.display import set_matplotlib_formats\n",
    "set_matplotlib_formats('svg')\n",
    "\n",
    "from matplotlib import font_manager as fm, rcParams\n",
    "import matplotlib.pyplot as plt\n",
    "import seaborn as sns\n",
    "\n",
    "# 弃用，改为geopandas\n",
    "# import geohash\n",
    "# from geopy.distance import geodesic\n",
    "import geopandas as gpd\n",
    "from shapely import geometry\n",
    "\n",
    "import hnswlib"
   ]
  },
  {
   "cell_type": "code",
   "execution_count": 2,
   "metadata": {
    "ExecuteTime": {
     "end_time": "2021-02-24T18:33:57.943797Z",
     "start_time": "2021-02-24T18:33:57.928837Z"
    }
   },
   "outputs": [],
   "source": [
    "PATH = './数据/'\n",
    "plt.style.use('Solarize_Light2')"
   ]
  },
  {
   "cell_type": "markdown",
   "metadata": {},
   "source": [
    "## 读取数据集\n",
    "导入围栏数据（可得到区域面积、区域中心）、订单数据（锁的开/闭作为流出/入）、轨迹数据（同订单）"
   ]
  },
  {
   "cell_type": "markdown",
   "metadata": {},
   "source": [
    "- 围栏数据"
   ]
  },
  {
   "cell_type": "code",
   "execution_count": 3,
   "metadata": {
    "ExecuteTime": {
     "end_time": "2021-02-24T17:44:03.534713Z",
     "start_time": "2021-02-24T17:44:03.349209Z"
    }
   },
   "outputs": [
    {
     "data": {
      "text/html": [
       "<div>\n",
       "<style scoped>\n",
       "    .dataframe tbody tr th:only-of-type {\n",
       "        vertical-align: middle;\n",
       "    }\n",
       "\n",
       "    .dataframe tbody tr th {\n",
       "        vertical-align: top;\n",
       "    }\n",
       "\n",
       "    .dataframe thead th {\n",
       "        text-align: right;\n",
       "    }\n",
       "</style>\n",
       "<table border=\"1\" class=\"dataframe\">\n",
       "  <thead>\n",
       "    <tr style=\"text-align: right;\">\n",
       "      <th></th>\n",
       "      <th>FENCE_ID</th>\n",
       "      <th>FENCE_LOC</th>\n",
       "    </tr>\n",
       "  </thead>\n",
       "  <tbody>\n",
       "    <tr>\n",
       "      <th>0</th>\n",
       "      <td>长乐路0_L_A17001</td>\n",
       "      <td>[[118.103198, 24.527338], [118.103224, 24.5273...</td>\n",
       "    </tr>\n",
       "    <tr>\n",
       "      <th>1</th>\n",
       "      <td>长乐路0_L_A17002</td>\n",
       "      <td>[[118.103171, 24.527303], [118.103198, 24.5273...</td>\n",
       "    </tr>\n",
       "    <tr>\n",
       "      <th>2</th>\n",
       "      <td>长乐路0_L_A17003</td>\n",
       "      <td>[[118.103231, 24.527386], [118.103257, 24.5274...</td>\n",
       "    </tr>\n",
       "  </tbody>\n",
       "</table>\n",
       "</div>"
      ],
      "text/plain": [
       "        FENCE_ID                                          FENCE_LOC\n",
       "0  长乐路0_L_A17001  [[118.103198, 24.527338], [118.103224, 24.5273...\n",
       "1  长乐路0_L_A17002  [[118.103171, 24.527303], [118.103198, 24.5273...\n",
       "2  长乐路0_L_A17003  [[118.103231, 24.527386], [118.103257, 24.5274..."
      ]
     },
     "execution_count": 3,
     "metadata": {},
     "output_type": "execute_result"
    }
   ],
   "source": [
    "def bike_fence_format(s):\n",
    "    # 将FENCE_LOC字段由五个列表合并为一个array\n",
    "    s = s.replace('[', '').replace(']', '').split(',')\n",
    "    s = np.array(s).astype(float).reshape(5, -1)\n",
    "    return s\n",
    "\n",
    "bike_fence = pd.read_csv(PATH + 'gxdc_tcd.csv')\n",
    "bike_fence['FENCE_LOC'] = bike_fence['FENCE_LOC'].apply(bike_fence_format)\n",
    "bike_fence.head(3)"
   ]
  },
  {
   "cell_type": "markdown",
   "metadata": {},
   "source": [
    "- 订单数据"
   ]
  },
  {
   "cell_type": "code",
   "execution_count": 3,
   "metadata": {
    "ExecuteTime": {
     "end_time": "2021-02-24T18:34:14.549214Z",
     "start_time": "2021-02-24T18:34:13.653592Z"
    }
   },
   "outputs": [
    {
     "data": {
      "text/html": [
       "<div>\n",
       "<style scoped>\n",
       "    .dataframe tbody tr th:only-of-type {\n",
       "        vertical-align: middle;\n",
       "    }\n",
       "\n",
       "    .dataframe tbody tr th {\n",
       "        vertical-align: top;\n",
       "    }\n",
       "\n",
       "    .dataframe thead th {\n",
       "        text-align: right;\n",
       "    }\n",
       "</style>\n",
       "<table border=\"1\" class=\"dataframe\">\n",
       "  <thead>\n",
       "    <tr style=\"text-align: right;\">\n",
       "      <th></th>\n",
       "      <th>BICYCLE_ID</th>\n",
       "      <th>LATITUDE</th>\n",
       "      <th>LONGITUDE</th>\n",
       "      <th>LOCK_STATUS</th>\n",
       "      <th>UPDATE_TIME</th>\n",
       "    </tr>\n",
       "  </thead>\n",
       "  <tbody>\n",
       "    <tr>\n",
       "      <th>0</th>\n",
       "      <td>0000ff105fd5f9099b866bccd157dc50</td>\n",
       "      <td>24.521156</td>\n",
       "      <td>118.140385</td>\n",
       "      <td>0</td>\n",
       "      <td>2020/12/21 6:32:48</td>\n",
       "    </tr>\n",
       "    <tr>\n",
       "      <th>1</th>\n",
       "      <td>0000ff105fd5f9099b866bccd157dc50</td>\n",
       "      <td>24.496578</td>\n",
       "      <td>118.142543</td>\n",
       "      <td>1</td>\n",
       "      <td>2020/12/21 6:50:18</td>\n",
       "    </tr>\n",
       "    <tr>\n",
       "      <th>2</th>\n",
       "      <td>0000ff105fd5f9099b866bccd157dc50</td>\n",
       "      <td>24.496582</td>\n",
       "      <td>118.142612</td>\n",
       "      <td>0</td>\n",
       "      <td>2020/12/21 8:23:32</td>\n",
       "    </tr>\n",
       "  </tbody>\n",
       "</table>\n",
       "</div>"
      ],
      "text/plain": [
       "                         BICYCLE_ID   LATITUDE   LONGITUDE  LOCK_STATUS  \\\n",
       "0  0000ff105fd5f9099b866bccd157dc50  24.521156  118.140385            0   \n",
       "1  0000ff105fd5f9099b866bccd157dc50  24.496578  118.142543            1   \n",
       "2  0000ff105fd5f9099b866bccd157dc50  24.496582  118.142612            0   \n",
       "\n",
       "          UPDATE_TIME  \n",
       "0  2020/12/21 6:32:48  \n",
       "1  2020/12/21 6:50:18  \n",
       "2  2020/12/21 8:23:32  "
      ]
     },
     "execution_count": 3,
     "metadata": {},
     "output_type": "execute_result"
    }
   ],
   "source": [
    "bike_order = pd.read_csv(PATH + 'gxdc_dd.csv')\n",
    "bike_order = bike_order.sort_values(['BICYCLE_ID', 'UPDATE_TIME']).reset_index(drop=True)\n",
    "bike_order.head(3)"
   ]
  },
  {
   "cell_type": "markdown",
   "metadata": {},
   "source": [
    "- 轨迹数据\n",
    "\n",
    "**注意：**ID与订单数据不匹配"
   ]
  },
  {
   "cell_type": "code",
   "execution_count": 5,
   "metadata": {
    "ExecuteTime": {
     "end_time": "2021-02-24T17:44:25.977058Z",
     "start_time": "2021-02-24T17:44:07.791290Z"
    }
   },
   "outputs": [
    {
     "data": {
      "text/html": [
       "<div>\n",
       "<style scoped>\n",
       "    .dataframe tbody tr th:only-of-type {\n",
       "        vertical-align: middle;\n",
       "    }\n",
       "\n",
       "    .dataframe tbody tr th {\n",
       "        vertical-align: top;\n",
       "    }\n",
       "\n",
       "    .dataframe thead th {\n",
       "        text-align: right;\n",
       "    }\n",
       "</style>\n",
       "<table border=\"1\" class=\"dataframe\">\n",
       "  <thead>\n",
       "    <tr style=\"text-align: right;\">\n",
       "      <th></th>\n",
       "      <th>BICYCLE_ID</th>\n",
       "      <th>LOCATING_TIME</th>\n",
       "      <th>LATITUDE</th>\n",
       "      <th>LONGITUDE</th>\n",
       "      <th>source</th>\n",
       "      <th>LOCATING_TIME1</th>\n",
       "      <th>date</th>\n",
       "      <th>day</th>\n",
       "      <th>time</th>\n",
       "      <th>hour</th>\n",
       "    </tr>\n",
       "  </thead>\n",
       "  <tbody>\n",
       "    <tr>\n",
       "      <th>0</th>\n",
       "      <td>efdf62549732f4d75fb911dccffc044f</td>\n",
       "      <td>2020-12-21 06:00:12</td>\n",
       "      <td>24.521047</td>\n",
       "      <td>118.161504</td>\n",
       "      <td>CSXZGLZFJ</td>\n",
       "      <td>2020-12-21 06:00:12</td>\n",
       "      <td>2020-12-21</td>\n",
       "      <td>21</td>\n",
       "      <td>06:00:12</td>\n",
       "      <td>6</td>\n",
       "    </tr>\n",
       "    <tr>\n",
       "      <th>1</th>\n",
       "      <td>efdf62549732f4d75fb911dccffc044f</td>\n",
       "      <td>2020-12-21 06:00:27</td>\n",
       "      <td>24.520763</td>\n",
       "      <td>118.161702</td>\n",
       "      <td>CSXZGLZFJ</td>\n",
       "      <td>2020-12-21 06:00:27</td>\n",
       "      <td>2020-12-21</td>\n",
       "      <td>21</td>\n",
       "      <td>06:00:27</td>\n",
       "      <td>6</td>\n",
       "    </tr>\n",
       "    <tr>\n",
       "      <th>2</th>\n",
       "      <td>efdf62549732f4d75fb911dccffc044f</td>\n",
       "      <td>2020-12-21 06:00:42</td>\n",
       "      <td>24.520385</td>\n",
       "      <td>118.162053</td>\n",
       "      <td>CSXZGLZFJ</td>\n",
       "      <td>2020-12-21 06:00:42</td>\n",
       "      <td>2020-12-21</td>\n",
       "      <td>21</td>\n",
       "      <td>06:00:42</td>\n",
       "      <td>6</td>\n",
       "    </tr>\n",
       "  </tbody>\n",
       "</table>\n",
       "</div>"
      ],
      "text/plain": [
       "                         BICYCLE_ID        LOCATING_TIME   LATITUDE  \\\n",
       "0  efdf62549732f4d75fb911dccffc044f  2020-12-21 06:00:12  24.521047   \n",
       "1  efdf62549732f4d75fb911dccffc044f  2020-12-21 06:00:27  24.520763   \n",
       "2  efdf62549732f4d75fb911dccffc044f  2020-12-21 06:00:42  24.520385   \n",
       "\n",
       "    LONGITUDE     source       LOCATING_TIME1        date  day       time  \\\n",
       "0  118.161504  CSXZGLZFJ  2020-12-21 06:00:12  2020-12-21   21   06:00:12   \n",
       "1  118.161702  CSXZGLZFJ  2020-12-21 06:00:27  2020-12-21   21   06:00:27   \n",
       "2  118.162053  CSXZGLZFJ  2020-12-21 06:00:42  2020-12-21   21   06:00:42   \n",
       "\n",
       "   hour  \n",
       "0     6  \n",
       "1     6  \n",
       "2     6  "
      ]
     },
     "execution_count": 5,
     "metadata": {},
     "output_type": "execute_result"
    }
   ],
   "source": [
    "bike_track1 = pd.read_csv(PATH + 'gxdc_gj20201221.csv')\n",
    "bike_track2 = pd.read_csv(PATH + 'gxdc_gj20201222.csv')\n",
    "bike_track3 = pd.read_csv(PATH + 'gxdc_gj20201223.csv')\n",
    "bike_track4 = pd.read_csv(PATH + 'gxdc_gj20201224.csv')\n",
    "bike_track5 = pd.read_csv(PATH + 'gxdc_gj20201225.csv')\n",
    "\n",
    "bike_track = pd.concat([bike_track1, bike_track2, bike_track3, bike_track4, bike_track5]).reset_index(drop=True)\n",
    "bike_track.head(3)"
   ]
  },
  {
   "cell_type": "code",
   "execution_count": 9,
   "metadata": {
    "ExecuteTime": {
     "end_time": "2021-02-24T17:45:14.268838Z",
     "start_time": "2021-02-24T17:45:14.050723Z"
    }
   },
   "outputs": [],
   "source": [
    "# 释放内存\n",
    "del bike_track1\n",
    "del bike_track2\n",
    "del bike_track3\n",
    "del bike_track4\n",
    "del bike_track5"
   ]
  },
  {
   "cell_type": "markdown",
   "metadata": {},
   "source": [
    "## 数据处理"
   ]
  },
  {
   "cell_type": "markdown",
   "metadata": {},
   "source": [
    "### 缺失值处理\n",
    "无缺失值"
   ]
  },
  {
   "cell_type": "code",
   "execution_count": 41,
   "metadata": {
    "ExecuteTime": {
     "end_time": "2021-02-24T08:21:38.422958Z",
     "start_time": "2021-02-24T08:21:38.408993Z"
    },
    "collapsed": true
   },
   "outputs": [
    {
     "data": {
      "text/plain": [
       "FENCE_ID     0\n",
       "FENCE_LOC    0\n",
       "dtype: int64"
      ]
     },
     "execution_count": 41,
     "metadata": {},
     "output_type": "execute_result"
    }
   ],
   "source": [
    "bike_fence.isnull().sum(axis=0)"
   ]
  },
  {
   "cell_type": "code",
   "execution_count": 42,
   "metadata": {
    "ExecuteTime": {
     "end_time": "2021-02-24T08:21:38.500657Z",
     "start_time": "2021-02-24T08:21:38.425950Z"
    },
    "collapsed": true
   },
   "outputs": [
    {
     "data": {
      "text/plain": [
       "BICYCLE_ID     0\n",
       "LATITUDE       0\n",
       "LONGITUDE      0\n",
       "LOCK_STATUS    0\n",
       "UPDATE_TIME    0\n",
       "dtype: int64"
      ]
     },
     "execution_count": 42,
     "metadata": {},
     "output_type": "execute_result"
    }
   ],
   "source": [
    "bike_order.isnull().sum(axis=0)"
   ]
  },
  {
   "cell_type": "code",
   "execution_count": 43,
   "metadata": {
    "ExecuteTime": {
     "end_time": "2021-02-24T08:21:40.727430Z",
     "start_time": "2021-02-24T08:21:38.502351Z"
    },
    "collapsed": true
   },
   "outputs": [
    {
     "data": {
      "text/plain": [
       "BICYCLE_ID        0\n",
       "LOCATING_TIME     0\n",
       "LATITUDE          0\n",
       "LONGITUDE         0\n",
       "source            0\n",
       "LOCATING_TIME1    0\n",
       "date              0\n",
       "day               0\n",
       "time              0\n",
       "hour              0\n",
       "dtype: int64"
      ]
     },
     "execution_count": 43,
     "metadata": {},
     "output_type": "execute_result"
    }
   ],
   "source": [
    "bike_track.isnull().sum(axis=0)"
   ]
  },
  {
   "cell_type": "markdown",
   "metadata": {},
   "source": [
    "### 字段调整"
   ]
  },
  {
   "cell_type": "markdown",
   "metadata": {},
   "source": [
    "- 围栏数据"
   ]
  },
  {
   "cell_type": "code",
   "execution_count": 21,
   "metadata": {
    "ExecuteTime": {
     "end_time": "2021-02-24T18:41:49.338921Z",
     "start_time": "2021-02-24T18:41:49.187328Z"
    }
   },
   "outputs": [],
   "source": [
    "def loc_geo(item):\n",
    "    return geometry.Polygon([(x,y) for x,y in item[:-1]])\n",
    "\n",
    "bike_fence['LOC_GEO'] = bike_fence['FENCE_LOC'].apply(loc_geo)"
   ]
  },
  {
   "cell_type": "code",
   "execution_count": 29,
   "metadata": {
    "ExecuteTime": {
     "end_time": "2021-02-24T18:43:54.415935Z",
     "start_time": "2021-02-24T18:43:54.401973Z"
    }
   },
   "outputs": [
    {
     "data": {
      "text/html": [
       "<div>\n",
       "<style scoped>\n",
       "    .dataframe tbody tr th:only-of-type {\n",
       "        vertical-align: middle;\n",
       "    }\n",
       "\n",
       "    .dataframe tbody tr th {\n",
       "        vertical-align: top;\n",
       "    }\n",
       "\n",
       "    .dataframe thead th {\n",
       "        text-align: right;\n",
       "    }\n",
       "</style>\n",
       "<table border=\"1\" class=\"dataframe\">\n",
       "  <thead>\n",
       "    <tr style=\"text-align: right;\">\n",
       "      <th></th>\n",
       "      <th>FENCE_ID</th>\n",
       "      <th>LOC_GEO</th>\n",
       "    </tr>\n",
       "  </thead>\n",
       "  <tbody>\n",
       "    <tr>\n",
       "      <th>0</th>\n",
       "      <td>长乐路0_L_A17001</td>\n",
       "      <td>POLYGON ((118.10320 24.52734, 118.10322 24.527...</td>\n",
       "    </tr>\n",
       "    <tr>\n",
       "      <th>1</th>\n",
       "      <td>长乐路0_L_A17002</td>\n",
       "      <td>POLYGON ((118.10317 24.52730, 118.10320 24.527...</td>\n",
       "    </tr>\n",
       "    <tr>\n",
       "      <th>2</th>\n",
       "      <td>长乐路0_L_A17003</td>\n",
       "      <td>POLYGON ((118.10323 24.52739, 118.10326 24.527...</td>\n",
       "    </tr>\n",
       "  </tbody>\n",
       "</table>\n",
       "</div>"
      ],
      "text/plain": [
       "        FENCE_ID                                            LOC_GEO\n",
       "0  长乐路0_L_A17001  POLYGON ((118.10320 24.52734, 118.10322 24.527...\n",
       "1  长乐路0_L_A17002  POLYGON ((118.10317 24.52730, 118.10320 24.527...\n",
       "2  长乐路0_L_A17003  POLYGON ((118.10323 24.52739, 118.10326 24.527..."
      ]
     },
     "execution_count": 29,
     "metadata": {},
     "output_type": "execute_result"
    }
   ],
   "source": [
    "bike_fence = gpd.GeoDataFrame(bike_fence,geometry='LOC_GEO')\n",
    "del bike_fence['FENCE_LOC']\n",
    "bike_fence.head(3)"
   ]
  },
  {
   "cell_type": "markdown",
   "metadata": {},
   "source": [
    "- 订单数据"
   ]
  },
  {
   "cell_type": "code",
   "execution_count": 4,
   "metadata": {
    "ExecuteTime": {
     "end_time": "2021-02-24T18:34:30.151483Z",
     "start_time": "2021-02-24T18:34:18.526271Z"
    }
   },
   "outputs": [],
   "source": [
    "# 坐标 Time 11.6s\n",
    "bike_order = gpd.GeoDataFrame(bike_order, geometry=gpd.points_from_xy(bike_order.LONGITUDE, bike_order.LATITUDE))\n",
    "del bike_order['LONGITUDE']\n",
    "del bike_order['LATITUDE']"
   ]
  },
  {
   "cell_type": "code",
   "execution_count": 9,
   "metadata": {
    "ExecuteTime": {
     "end_time": "2021-02-24T18:36:38.280731Z",
     "start_time": "2021-02-24T18:36:36.761434Z"
    }
   },
   "outputs": [
    {
     "data": {
      "text/html": [
       "<div>\n",
       "<style scoped>\n",
       "    .dataframe tbody tr th:only-of-type {\n",
       "        vertical-align: middle;\n",
       "    }\n",
       "\n",
       "    .dataframe tbody tr th {\n",
       "        vertical-align: top;\n",
       "    }\n",
       "\n",
       "    .dataframe thead th {\n",
       "        text-align: right;\n",
       "    }\n",
       "</style>\n",
       "<table border=\"1\" class=\"dataframe\">\n",
       "  <thead>\n",
       "    <tr style=\"text-align: right;\">\n",
       "      <th></th>\n",
       "      <th>BICYCLE_ID</th>\n",
       "      <th>LOCK_STATUS</th>\n",
       "      <th>geometry</th>\n",
       "      <th>day</th>\n",
       "      <th>hour</th>\n",
       "      <th>min</th>\n",
       "      <th>day+hour+min</th>\n",
       "      <th>day+hour</th>\n",
       "      <th>hour+min</th>\n",
       "    </tr>\n",
       "  </thead>\n",
       "  <tbody>\n",
       "    <tr>\n",
       "      <th>0</th>\n",
       "      <td>0000ff105fd5f9099b866bccd157dc50</td>\n",
       "      <td>0</td>\n",
       "      <td>POINT (118.14039 24.52116)</td>\n",
       "      <td>21</td>\n",
       "      <td>06</td>\n",
       "      <td>32</td>\n",
       "      <td>210632</td>\n",
       "      <td>2106</td>\n",
       "      <td>0632</td>\n",
       "    </tr>\n",
       "    <tr>\n",
       "      <th>1</th>\n",
       "      <td>0000ff105fd5f9099b866bccd157dc50</td>\n",
       "      <td>1</td>\n",
       "      <td>POINT (118.14254 24.49658)</td>\n",
       "      <td>21</td>\n",
       "      <td>06</td>\n",
       "      <td>50</td>\n",
       "      <td>210650</td>\n",
       "      <td>2106</td>\n",
       "      <td>0650</td>\n",
       "    </tr>\n",
       "    <tr>\n",
       "      <th>2</th>\n",
       "      <td>0000ff105fd5f9099b866bccd157dc50</td>\n",
       "      <td>0</td>\n",
       "      <td>POINT (118.14261 24.49658)</td>\n",
       "      <td>21</td>\n",
       "      <td>08</td>\n",
       "      <td>23</td>\n",
       "      <td>210823</td>\n",
       "      <td>2108</td>\n",
       "      <td>0823</td>\n",
       "    </tr>\n",
       "  </tbody>\n",
       "</table>\n",
       "</div>"
      ],
      "text/plain": [
       "                         BICYCLE_ID  LOCK_STATUS                    geometry  \\\n",
       "0  0000ff105fd5f9099b866bccd157dc50            0  POINT (118.14039 24.52116)   \n",
       "1  0000ff105fd5f9099b866bccd157dc50            1  POINT (118.14254 24.49658)   \n",
       "2  0000ff105fd5f9099b866bccd157dc50            0  POINT (118.14261 24.49658)   \n",
       "\n",
       "  day hour min day+hour+min day+hour hour+min  \n",
       "0  21   06  32       210632     2106     0632  \n",
       "1  21   06  50       210650     2106     0650  \n",
       "2  21   08  23       210823     2108     0823  "
      ]
     },
     "execution_count": 9,
     "metadata": {},
     "output_type": "execute_result"
    }
   ],
   "source": [
    "# 时间 Time 1.07s\n",
    "bike_order['UPDATE_TIME'] = pd.to_datetime(bike_order['UPDATE_TIME'])\n",
    "\n",
    "bike_order['day'] = bike_order['UPDATE_TIME'].dt.day.apply(str)\n",
    "bike_order['hour'] = bike_order['UPDATE_TIME'].dt.hour.apply(str).str.pad(width=2,side='left',fillchar='0')\n",
    "bike_order['min'] = bike_order['UPDATE_TIME'].dt.minute.apply(str).str.pad(width=2,side='left',fillchar='0')\n",
    "\n",
    "bike_order['day+hour+min'] = bike_order['day'] + bike_order['hour'] + bike_order['min']\n",
    "bike_order['day+hour'] = bike_order['day+hour+min'].apply(lambda x:x[:4])\n",
    "bike_order['hour+min'] = bike_order['day+hour+min'].apply(lambda x:x[-4:])\n",
    "\n",
    "del bike_order['UPDATE_TIME']\n",
    "bike_order.head(3)"
   ]
  },
  {
   "cell_type": "markdown",
   "metadata": {},
   "source": [
    "- 轨迹数据"
   ]
  },
  {
   "cell_type": "code",
   "execution_count": 16,
   "metadata": {
    "ExecuteTime": {
     "end_time": "2021-02-24T17:47:02.710944Z",
     "start_time": "2021-02-24T17:47:02.600214Z"
    }
   },
   "outputs": [],
   "source": [
    "# source\n",
    "del bike_track['source'] # 全部相同，删去"
   ]
  },
  {
   "cell_type": "code",
   "execution_count": 17,
   "metadata": {
    "ExecuteTime": {
     "end_time": "2021-02-24T17:47:04.115160Z",
     "start_time": "2021-02-24T17:47:03.277044Z"
    }
   },
   "outputs": [],
   "source": [
    "# LOCATING_TIME1\n",
    "(bike_track['LOCATING_TIME'] != bike_track['LOCATING_TIME1']).sum() # 0\n",
    "del bike_track['LOCATING_TIME1']"
   ]
  },
  {
   "cell_type": "code",
   "execution_count": 18,
   "metadata": {
    "ExecuteTime": {
     "end_time": "2021-02-24T17:47:04.130642Z",
     "start_time": "2021-02-24T17:47:04.115899Z"
    }
   },
   "outputs": [],
   "source": [
    "# time\n",
    "del bike_track['time']"
   ]
  },
  {
   "cell_type": "code",
   "execution_count": 19,
   "metadata": {
    "ExecuteTime": {
     "end_time": "2021-02-24T17:47:06.098807Z",
     "start_time": "2021-02-24T17:47:04.219810Z"
    }
   },
   "outputs": [],
   "source": [
    "# date\n",
    "(bike_track['day'] != pd.to_datetime(bike_track['date']).dt.day).sum() # 0\n",
    "del bike_track['date']"
   ]
  },
  {
   "cell_type": "code",
   "execution_count": 20,
   "metadata": {
    "ExecuteTime": {
     "end_time": "2021-02-24T17:51:13.713036Z",
     "start_time": "2021-02-24T17:47:16.238600Z"
    }
   },
   "outputs": [
    {
     "data": {
      "text/html": [
       "<div>\n",
       "<style scoped>\n",
       "    .dataframe tbody tr th:only-of-type {\n",
       "        vertical-align: middle;\n",
       "    }\n",
       "\n",
       "    .dataframe tbody tr th {\n",
       "        vertical-align: top;\n",
       "    }\n",
       "\n",
       "    .dataframe thead th {\n",
       "        text-align: right;\n",
       "    }\n",
       "</style>\n",
       "<table border=\"1\" class=\"dataframe\">\n",
       "  <thead>\n",
       "    <tr style=\"text-align: right;\">\n",
       "      <th></th>\n",
       "      <th>BICYCLE_ID</th>\n",
       "      <th>LOCATING_TIME</th>\n",
       "      <th>day</th>\n",
       "      <th>hour</th>\n",
       "      <th>geometry</th>\n",
       "    </tr>\n",
       "  </thead>\n",
       "  <tbody>\n",
       "    <tr>\n",
       "      <th>0</th>\n",
       "      <td>efdf62549732f4d75fb911dccffc044f</td>\n",
       "      <td>2020-12-21 06:00:12</td>\n",
       "      <td>21</td>\n",
       "      <td>6</td>\n",
       "      <td>POINT (118.16150 24.52105)</td>\n",
       "    </tr>\n",
       "    <tr>\n",
       "      <th>1</th>\n",
       "      <td>efdf62549732f4d75fb911dccffc044f</td>\n",
       "      <td>2020-12-21 06:00:27</td>\n",
       "      <td>21</td>\n",
       "      <td>6</td>\n",
       "      <td>POINT (118.16170 24.52076)</td>\n",
       "    </tr>\n",
       "    <tr>\n",
       "      <th>2</th>\n",
       "      <td>efdf62549732f4d75fb911dccffc044f</td>\n",
       "      <td>2020-12-21 06:00:42</td>\n",
       "      <td>21</td>\n",
       "      <td>6</td>\n",
       "      <td>POINT (118.16205 24.52038)</td>\n",
       "    </tr>\n",
       "  </tbody>\n",
       "</table>\n",
       "</div>"
      ],
      "text/plain": [
       "                         BICYCLE_ID        LOCATING_TIME  day  hour  \\\n",
       "0  efdf62549732f4d75fb911dccffc044f  2020-12-21 06:00:12   21     6   \n",
       "1  efdf62549732f4d75fb911dccffc044f  2020-12-21 06:00:27   21     6   \n",
       "2  efdf62549732f4d75fb911dccffc044f  2020-12-21 06:00:42   21     6   \n",
       "\n",
       "                     geometry  \n",
       "0  POINT (118.16150 24.52105)  \n",
       "1  POINT (118.16170 24.52076)  \n",
       "2  POINT (118.16205 24.52038)  "
      ]
     },
     "execution_count": 20,
     "metadata": {},
     "output_type": "execute_result"
    }
   ],
   "source": [
    "# 坐标 Time 4m02s\n",
    "bike_track = gpd.GeoDataFrame(bike_track, geometry=gpd.points_from_xy(bike_track.LONGITUDE, bike_track.LATITUDE))\n",
    "\n",
    "del bike_track['LONGITUDE']\n",
    "del bike_track['LATITUDE']\n",
    "\n",
    "bike_track.head(3)"
   ]
  },
  {
   "cell_type": "code",
   "execution_count": 26,
   "metadata": {
    "ExecuteTime": {
     "end_time": "2021-02-24T17:54:52.100010Z",
     "start_time": "2021-02-24T17:54:28.389749Z"
    }
   },
   "outputs": [
    {
     "data": {
      "text/html": [
       "<div>\n",
       "<style scoped>\n",
       "    .dataframe tbody tr th:only-of-type {\n",
       "        vertical-align: middle;\n",
       "    }\n",
       "\n",
       "    .dataframe tbody tr th {\n",
       "        vertical-align: top;\n",
       "    }\n",
       "\n",
       "    .dataframe thead th {\n",
       "        text-align: right;\n",
       "    }\n",
       "</style>\n",
       "<table border=\"1\" class=\"dataframe\">\n",
       "  <thead>\n",
       "    <tr style=\"text-align: right;\">\n",
       "      <th></th>\n",
       "      <th>BICYCLE_ID</th>\n",
       "      <th>LOCATING_TIME</th>\n",
       "      <th>day</th>\n",
       "      <th>hour</th>\n",
       "      <th>geometry</th>\n",
       "      <th>min</th>\n",
       "      <th>day+hour+min</th>\n",
       "    </tr>\n",
       "  </thead>\n",
       "  <tbody>\n",
       "    <tr>\n",
       "      <th>0</th>\n",
       "      <td>efdf62549732f4d75fb911dccffc044f</td>\n",
       "      <td>2020-12-21 06:00:12</td>\n",
       "      <td>21</td>\n",
       "      <td>06</td>\n",
       "      <td>POINT (118.16150 24.52105)</td>\n",
       "      <td>00</td>\n",
       "      <td>210600</td>\n",
       "    </tr>\n",
       "    <tr>\n",
       "      <th>1</th>\n",
       "      <td>efdf62549732f4d75fb911dccffc044f</td>\n",
       "      <td>2020-12-21 06:00:27</td>\n",
       "      <td>21</td>\n",
       "      <td>06</td>\n",
       "      <td>POINT (118.16170 24.52076)</td>\n",
       "      <td>00</td>\n",
       "      <td>210600</td>\n",
       "    </tr>\n",
       "    <tr>\n",
       "      <th>2</th>\n",
       "      <td>efdf62549732f4d75fb911dccffc044f</td>\n",
       "      <td>2020-12-21 06:00:42</td>\n",
       "      <td>21</td>\n",
       "      <td>06</td>\n",
       "      <td>POINT (118.16205 24.52038)</td>\n",
       "      <td>00</td>\n",
       "      <td>210600</td>\n",
       "    </tr>\n",
       "  </tbody>\n",
       "</table>\n",
       "</div>"
      ],
      "text/plain": [
       "                         BICYCLE_ID       LOCATING_TIME day hour  \\\n",
       "0  efdf62549732f4d75fb911dccffc044f 2020-12-21 06:00:12  21   06   \n",
       "1  efdf62549732f4d75fb911dccffc044f 2020-12-21 06:00:27  21   06   \n",
       "2  efdf62549732f4d75fb911dccffc044f 2020-12-21 06:00:42  21   06   \n",
       "\n",
       "                     geometry min day+hour+min  \n",
       "0  POINT (118.16150 24.52105)  00       210600  \n",
       "1  POINT (118.16170 24.52076)  00       210600  \n",
       "2  POINT (118.16205 24.52038)  00       210600  "
      ]
     },
     "execution_count": 26,
     "metadata": {},
     "output_type": "execute_result"
    }
   ],
   "source": [
    "# 时间 Time 21.8s\n",
    "bike_track['LOCATING_TIME'] = pd.to_datetime(bike_track['LOCATING_TIME'])\n",
    "\n",
    "bike_track['day'] = bike_track['LOCATING_TIME'].dt.day.apply(str)\n",
    "bike_track['hour'] = bike_track['LOCATING_TIME'].dt.hour.apply(str).str.pad(width=2,side='left',fillchar='0')\n",
    "bike_track['min'] = bike_track['LOCATING_TIME'].dt.minute.apply(str).str.pad(width=2,side='left',fillchar='0')\n",
    "\n",
    "bike_track['day+hour+min'] = bike_track['day'] +bike_track['hour'] + bike_track['min']\n",
    "# bike_track['day+hour'] = bike_track['day+hour+min'].apply(lambda x:x[:4])\n",
    "# bike_track['hour+min'] = bike_track['day+hour+min'].apply(lambda x:x[-4:])\n",
    "\n",
    "bike_track.head(3)"
   ]
  },
  {
   "cell_type": "markdown",
   "metadata": {},
   "source": [
    "### 数据筛选"
   ]
  },
  {
   "cell_type": "markdown",
   "metadata": {},
   "source": [
    "- 仅取在时段在7-9直接的数据"
   ]
  },
  {
   "cell_type": "code",
   "execution_count": 10,
   "metadata": {
    "ExecuteTime": {
     "end_time": "2021-02-24T18:36:43.509969Z",
     "start_time": "2021-02-24T18:36:43.118821Z"
    }
   },
   "outputs": [],
   "source": [
    "# bike_order\n",
    "bike_order = bike_order[(bike_order.hour>='07')&(bike_order.hour<='09')].reset_index(drop=True)\n",
    "# bike_track\n",
    "bike_track = bike_track[(bike_track.hour>='07')&(bike_track.hour<='09')].reset_index(drop=True)"
   ]
  },
  {
   "cell_type": "markdown",
   "metadata": {},
   "source": [
    "### 数据保存"
   ]
  },
  {
   "cell_type": "code",
   "execution_count": 31,
   "metadata": {
    "ExecuteTime": {
     "end_time": "2021-02-24T18:44:04.149860Z",
     "start_time": "2021-02-24T18:44:02.337761Z"
    }
   },
   "outputs": [],
   "source": [
    "# Time 1.81s\n",
    "bike_fence.to_file(PATH+'bike_fence.json' ,driver='GeoJSON', encoding='utf-8')\n",
    "# Time 53.9s\n",
    "bike_order.to_file(PATH+'bike_order.json' ,driver='GeoJSON', encoding='utf-8')\n",
    "# Time 23m18s\n",
    "bike_track.to_file(PATH+'bike_track.json' ,driver='GeoJSON', encoding='utf-8')"
   ]
  },
  {
   "cell_type": "code",
   "execution_count": 39,
   "metadata": {
    "ExecuteTime": {
     "end_time": "2021-02-24T18:32:04.542582Z",
     "start_time": "2021-02-24T18:32:04.523624Z"
    },
    "collapsed": true
   },
   "outputs": [
    {
     "ename": "NameError",
     "evalue": "name 'bike_track' is not defined",
     "output_type": "error",
     "traceback": [
      "\u001b[1;31m---------------------------------------------------------------------------\u001b[0m",
      "\u001b[1;31mNameError\u001b[0m                                 Traceback (most recent call last)",
      "\u001b[1;32m<ipython-input-39-9f3d1cc04569>\u001b[0m in \u001b[0;36m<module>\u001b[1;34m()\u001b[0m\n\u001b[0;32m      1\u001b[0m \u001b[1;31m# del bike_fence\u001b[0m\u001b[1;33m\u001b[0m\u001b[1;33m\u001b[0m\u001b[0m\n\u001b[0;32m      2\u001b[0m \u001b[1;31m# del bike_order\u001b[0m\u001b[1;33m\u001b[0m\u001b[1;33m\u001b[0m\u001b[0m\n\u001b[1;32m----> 3\u001b[1;33m \u001b[1;32mdel\u001b[0m \u001b[0mbike_track\u001b[0m\u001b[1;33m\u001b[0m\u001b[0m\n\u001b[0m",
      "\u001b[1;31mNameError\u001b[0m: name 'bike_track' is not defined"
     ]
    }
   ],
   "source": [
    "del bike_fence\n",
    "del bike_order\n",
    "del bike_track"
   ]
  },
  {
   "cell_type": "markdown",
   "metadata": {},
   "source": [
    "## 数据初步分析"
   ]
  },
  {
   "cell_type": "markdown",
   "metadata": {},
   "source": [
    "- 读取处理后的数据"
   ]
  },
  {
   "cell_type": "code",
   "execution_count": 32,
   "metadata": {
    "ExecuteTime": {
     "end_time": "2021-02-24T18:44:44.018567Z",
     "start_time": "2021-02-24T18:44:43.111686Z"
    }
   },
   "outputs": [
    {
     "data": {
      "text/html": [
       "<div>\n",
       "<style scoped>\n",
       "    .dataframe tbody tr th:only-of-type {\n",
       "        vertical-align: middle;\n",
       "    }\n",
       "\n",
       "    .dataframe tbody tr th {\n",
       "        vertical-align: top;\n",
       "    }\n",
       "\n",
       "    .dataframe thead th {\n",
       "        text-align: right;\n",
       "    }\n",
       "</style>\n",
       "<table border=\"1\" class=\"dataframe\">\n",
       "  <thead>\n",
       "    <tr style=\"text-align: right;\">\n",
       "      <th></th>\n",
       "      <th>FENCE_ID</th>\n",
       "      <th>geometry</th>\n",
       "    </tr>\n",
       "  </thead>\n",
       "  <tbody>\n",
       "    <tr>\n",
       "      <th>0</th>\n",
       "      <td>长乐路0_L_A17001</td>\n",
       "      <td>POLYGON ((118.10320 24.52734, 118.10322 24.527...</td>\n",
       "    </tr>\n",
       "    <tr>\n",
       "      <th>1</th>\n",
       "      <td>长乐路0_L_A17002</td>\n",
       "      <td>POLYGON ((118.10317 24.52730, 118.10320 24.527...</td>\n",
       "    </tr>\n",
       "    <tr>\n",
       "      <th>2</th>\n",
       "      <td>长乐路0_L_A17003</td>\n",
       "      <td>POLYGON ((118.10323 24.52739, 118.10326 24.527...</td>\n",
       "    </tr>\n",
       "  </tbody>\n",
       "</table>\n",
       "</div>"
      ],
      "text/plain": [
       "        FENCE_ID                                           geometry\n",
       "0  长乐路0_L_A17001  POLYGON ((118.10320 24.52734, 118.10322 24.527...\n",
       "1  长乐路0_L_A17002  POLYGON ((118.10317 24.52730, 118.10320 24.527...\n",
       "2  长乐路0_L_A17003  POLYGON ((118.10323 24.52739, 118.10326 24.527..."
      ]
     },
     "execution_count": 32,
     "metadata": {},
     "output_type": "execute_result"
    }
   ],
   "source": [
    "# Time <1s\n",
    "bike_fence = gpd.read_file(PATH+'bike_fence.json')\n",
    "bike_fence.head(3)"
   ]
  },
  {
   "cell_type": "code",
   "execution_count": 15,
   "metadata": {
    "ExecuteTime": {
     "end_time": "2021-02-24T18:40:01.665801Z",
     "start_time": "2021-02-24T18:39:29.683725Z"
    },
    "collapsed": true
   },
   "outputs": [
    {
     "data": {
      "text/html": [
       "<div>\n",
       "<style scoped>\n",
       "    .dataframe tbody tr th:only-of-type {\n",
       "        vertical-align: middle;\n",
       "    }\n",
       "\n",
       "    .dataframe tbody tr th {\n",
       "        vertical-align: top;\n",
       "    }\n",
       "\n",
       "    .dataframe thead th {\n",
       "        text-align: right;\n",
       "    }\n",
       "</style>\n",
       "<table border=\"1\" class=\"dataframe\">\n",
       "  <thead>\n",
       "    <tr style=\"text-align: right;\">\n",
       "      <th></th>\n",
       "      <th>BICYCLE_ID</th>\n",
       "      <th>LOCK_STATUS</th>\n",
       "      <th>day</th>\n",
       "      <th>hour</th>\n",
       "      <th>min</th>\n",
       "      <th>day+hour+min</th>\n",
       "      <th>day+hour</th>\n",
       "      <th>hour+min</th>\n",
       "      <th>geometry</th>\n",
       "    </tr>\n",
       "  </thead>\n",
       "  <tbody>\n",
       "    <tr>\n",
       "      <th>0</th>\n",
       "      <td>0000ff105fd5f9099b866bccd157dc50</td>\n",
       "      <td>0</td>\n",
       "      <td>21</td>\n",
       "      <td>08</td>\n",
       "      <td>23</td>\n",
       "      <td>210823</td>\n",
       "      <td>2108</td>\n",
       "      <td>0823</td>\n",
       "      <td>POINT (118.14261 24.49658)</td>\n",
       "    </tr>\n",
       "    <tr>\n",
       "      <th>1</th>\n",
       "      <td>0000ff105fd5f9099b866bccd157dc50</td>\n",
       "      <td>1</td>\n",
       "      <td>21</td>\n",
       "      <td>08</td>\n",
       "      <td>44</td>\n",
       "      <td>210844</td>\n",
       "      <td>2108</td>\n",
       "      <td>0844</td>\n",
       "      <td>POINT (118.16750 24.48135)</td>\n",
       "    </tr>\n",
       "    <tr>\n",
       "      <th>2</th>\n",
       "      <td>0000ff105fd5f9099b866bccd157dc50</td>\n",
       "      <td>0</td>\n",
       "      <td>22</td>\n",
       "      <td>08</td>\n",
       "      <td>00</td>\n",
       "      <td>220800</td>\n",
       "      <td>2208</td>\n",
       "      <td>0800</td>\n",
       "      <td>POINT (118.15522 24.50961)</td>\n",
       "    </tr>\n",
       "  </tbody>\n",
       "</table>\n",
       "</div>"
      ],
      "text/plain": [
       "                         BICYCLE_ID  LOCK_STATUS day hour min day+hour+min  \\\n",
       "0  0000ff105fd5f9099b866bccd157dc50            0  21   08  23       210823   \n",
       "1  0000ff105fd5f9099b866bccd157dc50            1  21   08  44       210844   \n",
       "2  0000ff105fd5f9099b866bccd157dc50            0  22   08  00       220800   \n",
       "\n",
       "  day+hour hour+min                    geometry  \n",
       "0     2108     0823  POINT (118.14261 24.49658)  \n",
       "1     2108     0844  POINT (118.16750 24.48135)  \n",
       "2     2208     0800  POINT (118.15522 24.50961)  "
      ]
     },
     "execution_count": 15,
     "metadata": {},
     "output_type": "execute_result"
    }
   ],
   "source": [
    "# Time 32s\n",
    "bike_order = gpd.read_file(PATH+'bike_order.json')\n",
    "bike_order.head(3)"
   ]
  },
  {
   "cell_type": "code",
   "execution_count": 162,
   "metadata": {
    "ExecuteTime": {
     "end_time": "2021-02-24T15:36:02.982891Z",
     "start_time": "2021-02-24T15:35:51.818249Z"
    },
    "collapsed": true
   },
   "outputs": [
    {
     "data": {
      "text/html": [
       "<div>\n",
       "<style scoped>\n",
       "    .dataframe tbody tr th:only-of-type {\n",
       "        vertical-align: middle;\n",
       "    }\n",
       "\n",
       "    .dataframe tbody tr th {\n",
       "        vertical-align: top;\n",
       "    }\n",
       "\n",
       "    .dataframe thead th {\n",
       "        text-align: right;\n",
       "    }\n",
       "</style>\n",
       "<table border=\"1\" class=\"dataframe\">\n",
       "  <thead>\n",
       "    <tr style=\"text-align: right;\">\n",
       "      <th></th>\n",
       "      <th>BICYCLE_ID</th>\n",
       "      <th>LOCATING_TIME</th>\n",
       "      <th>LATITUDE</th>\n",
       "      <th>LONGITUDE</th>\n",
       "      <th>day</th>\n",
       "      <th>hour</th>\n",
       "      <th>min</th>\n",
       "      <th>day+hour+min</th>\n",
       "      <th>day+hour</th>\n",
       "      <th>hour+min</th>\n",
       "    </tr>\n",
       "  </thead>\n",
       "  <tbody>\n",
       "    <tr>\n",
       "      <th>0</th>\n",
       "      <td>d703dde34bd7a027b7ed37de73ce9fa7</td>\n",
       "      <td>2020-12-21 07:00:10</td>\n",
       "      <td>24.491634</td>\n",
       "      <td>118.106267</td>\n",
       "      <td>21</td>\n",
       "      <td>7</td>\n",
       "      <td>0</td>\n",
       "      <td>210700</td>\n",
       "      <td>2107</td>\n",
       "      <td>700</td>\n",
       "    </tr>\n",
       "    <tr>\n",
       "      <th>1</th>\n",
       "      <td>d703dde34bd7a027b7ed37de73ce9fa7</td>\n",
       "      <td>2020-12-21 07:00:25</td>\n",
       "      <td>24.491640</td>\n",
       "      <td>118.106298</td>\n",
       "      <td>21</td>\n",
       "      <td>7</td>\n",
       "      <td>0</td>\n",
       "      <td>210700</td>\n",
       "      <td>2107</td>\n",
       "      <td>700</td>\n",
       "    </tr>\n",
       "    <tr>\n",
       "      <th>2</th>\n",
       "      <td>d703dde34bd7a027b7ed37de73ce9fa7</td>\n",
       "      <td>2020-12-21 07:00:40</td>\n",
       "      <td>24.491642</td>\n",
       "      <td>118.106305</td>\n",
       "      <td>21</td>\n",
       "      <td>7</td>\n",
       "      <td>0</td>\n",
       "      <td>210700</td>\n",
       "      <td>2107</td>\n",
       "      <td>700</td>\n",
       "    </tr>\n",
       "  </tbody>\n",
       "</table>\n",
       "</div>"
      ],
      "text/plain": [
       "                         BICYCLE_ID        LOCATING_TIME   LATITUDE  \\\n",
       "0  d703dde34bd7a027b7ed37de73ce9fa7  2020-12-21 07:00:10  24.491634   \n",
       "1  d703dde34bd7a027b7ed37de73ce9fa7  2020-12-21 07:00:25  24.491640   \n",
       "2  d703dde34bd7a027b7ed37de73ce9fa7  2020-12-21 07:00:40  24.491642   \n",
       "\n",
       "    LONGITUDE  day  hour  min  day+hour+min  day+hour  hour+min  \n",
       "0  118.106267   21     7    0        210700      2107       700  \n",
       "1  118.106298   21     7    0        210700      2107       700  \n",
       "2  118.106305   21     7    0        210700      2107       700  "
      ]
     },
     "execution_count": 162,
     "metadata": {},
     "output_type": "execute_result"
    }
   ],
   "source": [
    "# Time \n",
    "bike_track = gpd.read_file(PATH+'bike_track.json')\n",
    "bike_track.head(3)"
   ]
  },
  {
   "cell_type": "markdown",
   "metadata": {},
   "source": [
    "### 单车使用情况[未做]\n",
    "   有些单车的使用情况异常多，很可能是异常数据，需要考察"
   ]
  },
  {
   "cell_type": "markdown",
   "metadata": {},
   "source": [
    "- 订单数据"
   ]
  },
  {
   "cell_type": "code",
   "execution_count": 8,
   "metadata": {
    "ExecuteTime": {
     "end_time": "2021-02-24T14:05:30.524846Z",
     "start_time": "2021-02-24T14:05:29.727896Z"
    }
   },
   "outputs": [
    {
     "data": {
      "image/png": "[encoded data removed]",
      "text/plain": [
       "<Figure size 720x360 with 2 Axes>"
      ]
     },
     "metadata": {},
     "output_type": "display_data"
    }
   ],
   "source": [
    "orderID_count = bike_order.groupby(by='BICYCLE_ID').count()['min']\n",
    "orderID_count_val = orderID_count.sort_values(ascending=False).values\n",
    "\n",
    "plt.figure(figsize=(10,5))\n",
    "plt.subplot(1,2,1); plt.plot(orderID_count_val)\n",
    "plt.subplot(1,2,2); sns.kdeplot(orderID_count_val)\n",
    "plt.show()"
   ]
  },
  {
   "cell_type": "code",
   "execution_count": 38,
   "metadata": {
    "ExecuteTime": {
     "end_time": "2021-02-24T14:09:46.765796Z",
     "start_time": "2021-02-24T14:09:46.716867Z"
    },
    "collapsed": true
   },
   "outputs": [
    {
     "data": {
      "text/html": [
       "<div>\n",
       "<style scoped>\n",
       "    .dataframe tbody tr th:only-of-type {\n",
       "        vertical-align: middle;\n",
       "    }\n",
       "\n",
       "    .dataframe tbody tr th {\n",
       "        vertical-align: top;\n",
       "    }\n",
       "\n",
       "    .dataframe thead th {\n",
       "        text-align: right;\n",
       "    }\n",
       "</style>\n",
       "<table border=\"1\" class=\"dataframe\">\n",
       "  <thead>\n",
       "    <tr style=\"text-align: right;\">\n",
       "      <th></th>\n",
       "      <th>BICYCLE_ID</th>\n",
       "      <th>LATITUDE</th>\n",
       "      <th>LONGITUDE</th>\n",
       "      <th>LOCK_STATUS</th>\n",
       "      <th>day</th>\n",
       "      <th>hour</th>\n",
       "      <th>min</th>\n",
       "    </tr>\n",
       "  </thead>\n",
       "  <tbody>\n",
       "    <tr>\n",
       "      <th>53606</th>\n",
       "      <td>1677a23507c85c2e90f7d6f7fb30d07e</td>\n",
       "      <td>24.486072</td>\n",
       "      <td>118.163798</td>\n",
       "      <td>0</td>\n",
       "      <td>21</td>\n",
       "      <td>7</td>\n",
       "      <td>44</td>\n",
       "    </tr>\n",
       "    <tr>\n",
       "      <th>53607</th>\n",
       "      <td>1677a23507c85c2e90f7d6f7fb30d07e</td>\n",
       "      <td>24.484676</td>\n",
       "      <td>118.171765</td>\n",
       "      <td>1</td>\n",
       "      <td>21</td>\n",
       "      <td>7</td>\n",
       "      <td>53</td>\n",
       "    </tr>\n",
       "    <tr>\n",
       "      <th>53608</th>\n",
       "      <td>1677a23507c85c2e90f7d6f7fb30d07e</td>\n",
       "      <td>24.485426</td>\n",
       "      <td>118.171097</td>\n",
       "      <td>0</td>\n",
       "      <td>21</td>\n",
       "      <td>7</td>\n",
       "      <td>57</td>\n",
       "    </tr>\n",
       "  </tbody>\n",
       "</table>\n",
       "</div>"
      ],
      "text/plain": [
       "                             BICYCLE_ID   LATITUDE   LONGITUDE  LOCK_STATUS  \\\n",
       "53606  1677a23507c85c2e90f7d6f7fb30d07e  24.486072  118.163798            0   \n",
       "53607  1677a23507c85c2e90f7d6f7fb30d07e  24.484676  118.171765            1   \n",
       "53608  1677a23507c85c2e90f7d6f7fb30d07e  24.485426  118.171097            0   \n",
       "\n",
       "       day  hour  min  \n",
       "53606   21     7   44  \n",
       "53607   21     7   53  \n",
       "53608   21     7   57  "
      ]
     },
     "execution_count": 38,
     "metadata": {},
     "output_type": "execute_result"
    }
   ],
   "source": [
    "orderID_count_m40 = orderID_count[orderID_count>=40].sort_values(ascending=False)\n",
    "bike_order[bike_order['BICYCLE_ID'] == orderID_count_m40.idxmax()].head(3)"
   ]
  },
  {
   "cell_type": "markdown",
   "metadata": {},
   "source": [
    "- 轨迹数据"
   ]
  },
  {
   "cell_type": "code",
   "execution_count": 39,
   "metadata": {
    "ExecuteTime": {
     "end_time": "2021-02-24T14:09:58.068595Z",
     "start_time": "2021-02-24T14:09:55.663553Z"
    }
   },
   "outputs": [
    {
     "data": {
      "image/png": "[encoded data removed]",
      "text/plain": [
       "<Figure size 720x360 with 2 Axes>"
      ]
     },
     "metadata": {},
     "output_type": "display_data"
    }
   ],
   "source": [
    "trackID_count = bike_track.groupby(by='BICYCLE_ID').count()['min']\n",
    "trackID_count_val = trackID_count.sort_values(ascending=False).values\n",
    "\n",
    "plt.figure(figsize=(10,5))\n",
    "plt.subplot(1,2,1); plt.plot(trackID_count_val)\n",
    "plt.subplot(1,2,2); sns.kdeplot(trackID_count_val)\n",
    "plt.show()"
   ]
  },
  {
   "cell_type": "code",
   "execution_count": 40,
   "metadata": {
    "ExecuteTime": {
     "end_time": "2021-02-24T14:09:59.158901Z",
     "start_time": "2021-02-24T14:09:58.625818Z"
    },
    "collapsed": true
   },
   "outputs": [
    {
     "data": {
      "text/html": [
       "<div>\n",
       "<style scoped>\n",
       "    .dataframe tbody tr th:only-of-type {\n",
       "        vertical-align: middle;\n",
       "    }\n",
       "\n",
       "    .dataframe tbody tr th {\n",
       "        vertical-align: top;\n",
       "    }\n",
       "\n",
       "    .dataframe thead th {\n",
       "        text-align: right;\n",
       "    }\n",
       "</style>\n",
       "<table border=\"1\" class=\"dataframe\">\n",
       "  <thead>\n",
       "    <tr style=\"text-align: right;\">\n",
       "      <th></th>\n",
       "      <th>BICYCLE_ID</th>\n",
       "      <th>LATITUDE</th>\n",
       "      <th>LONGITUDE</th>\n",
       "      <th>day</th>\n",
       "      <th>hour</th>\n",
       "      <th>min</th>\n",
       "    </tr>\n",
       "  </thead>\n",
       "  <tbody>\n",
       "    <tr>\n",
       "      <th>1026097</th>\n",
       "      <td>1f14a3dfdcd045f8d340482751c9bfba</td>\n",
       "      <td>24.471142</td>\n",
       "      <td>117.984211</td>\n",
       "      <td>21</td>\n",
       "      <td>6</td>\n",
       "      <td>0</td>\n",
       "    </tr>\n",
       "    <tr>\n",
       "      <th>1026098</th>\n",
       "      <td>1f14a3dfdcd045f8d340482751c9bfba</td>\n",
       "      <td>24.471142</td>\n",
       "      <td>117.984211</td>\n",
       "      <td>21</td>\n",
       "      <td>6</td>\n",
       "      <td>0</td>\n",
       "    </tr>\n",
       "    <tr>\n",
       "      <th>1026099</th>\n",
       "      <td>1f14a3dfdcd045f8d340482751c9bfba</td>\n",
       "      <td>24.471142</td>\n",
       "      <td>117.984211</td>\n",
       "      <td>21</td>\n",
       "      <td>6</td>\n",
       "      <td>0</td>\n",
       "    </tr>\n",
       "  </tbody>\n",
       "</table>\n",
       "</div>"
      ],
      "text/plain": [
       "                               BICYCLE_ID   LATITUDE   LONGITUDE  day  hour  \\\n",
       "1026097  1f14a3dfdcd045f8d340482751c9bfba  24.471142  117.984211   21     6   \n",
       "1026098  1f14a3dfdcd045f8d340482751c9bfba  24.471142  117.984211   21     6   \n",
       "1026099  1f14a3dfdcd045f8d340482751c9bfba  24.471142  117.984211   21     6   \n",
       "\n",
       "         min  \n",
       "1026097    0  \n",
       "1026098    0  \n",
       "1026099    0  "
      ]
     },
     "execution_count": 40,
     "metadata": {},
     "output_type": "execute_result"
    }
   ],
   "source": [
    "trackID_count_m500 = trackID_count[trackID_count>500].sort_values(ascending=False)\n",
    "bike_track[bike_track['BICYCLE_ID'] == trackID_count_m500.idxmax()].head(3)"
   ]
  },
  {
   "cell_type": "markdown",
   "metadata": {},
   "source": [
    "### 地理坐标可视化[未做]\n",
    "查看围栏区域、单车轨迹"
   ]
  },
  {
   "cell_type": "markdown",
   "metadata": {},
   "source": [
    "- 围栏"
   ]
  },
  {
   "cell_type": "markdown",
   "metadata": {},
   "source": [
    "- 轨迹"
   ]
  },
  {
   "cell_type": "markdown",
   "metadata": {},
   "source": [
    "### 时间-单车使用可视化[未做]"
   ]
  },
  {
   "cell_type": "markdown",
   "metadata": {},
   "source": [
    "### 其他内容..."
   ]
  },
  {
   "cell_type": "markdown",
   "metadata": {},
   "source": [
    "## 特征工程"
   ]
  },
  {
   "cell_type": "markdown",
   "metadata": {},
   "source": [
    "### 围栏数据"
   ]
  },
  {
   "cell_type": "markdown",
   "metadata": {},
   "source": [
    "- 面积:FENCE_AREA"
   ]
  },
  {
   "cell_type": "code",
   "execution_count": 17,
   "metadata": {
    "ExecuteTime": {
     "end_time": "2021-02-24T18:40:37.823425Z",
     "start_time": "2021-02-24T18:40:37.804449Z"
    },
    "collapsed": true
   },
   "outputs": [
    {
     "ename": "NameError",
     "evalue": "name 'bike_fence' is not defined",
     "output_type": "error",
     "traceback": [
      "\u001b[1;31m---------------------------------------------------------------------------\u001b[0m",
      "\u001b[1;31mNameError\u001b[0m                                 Traceback (most recent call last)",
      "\u001b[1;32m<ipython-input-17-2d59ac016f6a>\u001b[0m in \u001b[0;36m<module>\u001b[1;34m()\u001b[0m\n\u001b[1;32m----> 1\u001b[1;33m \u001b[0mbike_fence\u001b[0m\u001b[1;33m[\u001b[0m\u001b[1;34m'FENCE_AREA'\u001b[0m\u001b[1;33m]\u001b[0m \u001b[1;33m=\u001b[0m \u001b[0mbike_fence\u001b[0m\u001b[1;33m[\u001b[0m\u001b[1;34m'LOC_GEO'\u001b[0m\u001b[1;33m]\u001b[0m\u001b[1;33m.\u001b[0m\u001b[0marea\u001b[0m\u001b[1;33m\u001b[0m\u001b[0m\n\u001b[0m\u001b[0;32m      2\u001b[0m \u001b[0mbike_fence\u001b[0m\u001b[1;33m.\u001b[0m\u001b[0mhead\u001b[0m\u001b[1;33m(\u001b[0m\u001b[1;36m3\u001b[0m\u001b[1;33m)\u001b[0m\u001b[1;33m\u001b[0m\u001b[0m\n",
      "\u001b[1;31mNameError\u001b[0m: name 'bike_fence' is not defined"
     ]
    }
   ],
   "source": [
    "bike_fence['FENCE_AREA'] = bike_fence['LOC_GEO'].area\n",
    "bike_fence.head(3)"
   ]
  },
  {
   "cell_type": "markdown",
   "metadata": {},
   "source": [
    "- 路名:ROAD_NAME"
   ]
  },
  {
   "cell_type": "code",
   "execution_count": 36,
   "metadata": {
    "ExecuteTime": {
     "end_time": "2021-02-24T17:22:20.595292Z",
     "start_time": "2021-02-24T17:22:20.563365Z"
    },
    "collapsed": true
   },
   "outputs": [
    {
     "data": {
      "text/html": [
       "<div>\n",
       "<style scoped>\n",
       "    .dataframe tbody tr th:only-of-type {\n",
       "        vertical-align: middle;\n",
       "    }\n",
       "\n",
       "    .dataframe tbody tr th {\n",
       "        vertical-align: top;\n",
       "    }\n",
       "\n",
       "    .dataframe thead th {\n",
       "        text-align: right;\n",
       "    }\n",
       "</style>\n",
       "<table border=\"1\" class=\"dataframe\">\n",
       "  <thead>\n",
       "    <tr style=\"text-align: right;\">\n",
       "      <th></th>\n",
       "      <th>FENCE_ID</th>\n",
       "      <th>FENCE_LOC</th>\n",
       "      <th>LOC_GEO</th>\n",
       "      <th>FENCE_AREA</th>\n",
       "      <th>FENCE_CENTER</th>\n",
       "      <th>ROAD_NAME</th>\n",
       "    </tr>\n",
       "  </thead>\n",
       "  <tbody>\n",
       "    <tr>\n",
       "      <th>0</th>\n",
       "      <td>长乐路0_L_A17001</td>\n",
       "      <td>[[118.103198, 24.527338], [118.103224, 24.5273...</td>\n",
       "      <td>POLYGON ((118.10320 24.52734, 118.10322 24.527...</td>\n",
       "      <td>5.880000e-10</td>\n",
       "      <td>POINT (118.10322 24.52735)</td>\n",
       "      <td>长乐路0</td>\n",
       "    </tr>\n",
       "    <tr>\n",
       "      <th>1</th>\n",
       "      <td>长乐路0_L_A17002</td>\n",
       "      <td>[[118.103171, 24.527303], [118.103198, 24.5273...</td>\n",
       "      <td>POLYGON ((118.10317 24.52730, 118.10320 24.527...</td>\n",
       "      <td>5.740000e-10</td>\n",
       "      <td>POINT (118.10319 24.52732)</td>\n",
       "      <td>长乐路0</td>\n",
       "    </tr>\n",
       "    <tr>\n",
       "      <th>2</th>\n",
       "      <td>长乐路0_L_A17003</td>\n",
       "      <td>[[118.103231, 24.527386], [118.103257, 24.5274...</td>\n",
       "      <td>POLYGON ((118.10323 24.52739, 118.10326 24.527...</td>\n",
       "      <td>6.630000e-10</td>\n",
       "      <td>POINT (118.10325 24.52740)</td>\n",
       "      <td>长乐路0</td>\n",
       "    </tr>\n",
       "  </tbody>\n",
       "</table>\n",
       "</div>"
      ],
      "text/plain": [
       "        FENCE_ID                                          FENCE_LOC  \\\n",
       "0  长乐路0_L_A17001  [[118.103198, 24.527338], [118.103224, 24.5273...   \n",
       "1  长乐路0_L_A17002  [[118.103171, 24.527303], [118.103198, 24.5273...   \n",
       "2  长乐路0_L_A17003  [[118.103231, 24.527386], [118.103257, 24.5274...   \n",
       "\n",
       "                                             LOC_GEO    FENCE_AREA  \\\n",
       "0  POLYGON ((118.10320 24.52734, 118.10322 24.527...  5.880000e-10   \n",
       "1  POLYGON ((118.10317 24.52730, 118.10320 24.527...  5.740000e-10   \n",
       "2  POLYGON ((118.10323 24.52739, 118.10326 24.527...  6.630000e-10   \n",
       "\n",
       "                 FENCE_CENTER ROAD_NAME  \n",
       "0  POINT (118.10322 24.52735)      长乐路0  \n",
       "1  POINT (118.10319 24.52732)      长乐路0  \n",
       "2  POINT (118.10325 24.52740)      长乐路0  "
      ]
     },
     "execution_count": 36,
     "metadata": {},
     "output_type": "execute_result"
    }
   ],
   "source": [
    "bike_fence['ROAD_NAME'] = bike_fence['FENCE_ID'].apply(lambda x:x.split('_')[0])\n",
    "bike_fence.head(3)"
   ]
  },
  {
   "cell_type": "markdown",
   "metadata": {},
   "source": [
    "- 路段围栏数:ROAD_COUNT"
   ]
  },
  {
   "cell_type": "code",
   "execution_count": 37,
   "metadata": {
    "ExecuteTime": {
     "end_time": "2021-02-24T17:22:30.726017Z",
     "start_time": "2021-02-24T17:22:30.692029Z"
    },
    "collapsed": true
   },
   "outputs": [
    {
     "data": {
      "text/html": [
       "<div>\n",
       "<style scoped>\n",
       "    .dataframe tbody tr th:only-of-type {\n",
       "        vertical-align: middle;\n",
       "    }\n",
       "\n",
       "    .dataframe tbody tr th {\n",
       "        vertical-align: top;\n",
       "    }\n",
       "\n",
       "    .dataframe thead th {\n",
       "        text-align: right;\n",
       "    }\n",
       "</style>\n",
       "<table border=\"1\" class=\"dataframe\">\n",
       "  <thead>\n",
       "    <tr style=\"text-align: right;\">\n",
       "      <th></th>\n",
       "      <th>FENCE_ID</th>\n",
       "      <th>FENCE_LOC</th>\n",
       "      <th>LOC_GEO</th>\n",
       "      <th>FENCE_AREA</th>\n",
       "      <th>FENCE_CENTER</th>\n",
       "      <th>ROAD_NAME</th>\n",
       "      <th>ROAD_COUNT</th>\n",
       "    </tr>\n",
       "  </thead>\n",
       "  <tbody>\n",
       "    <tr>\n",
       "      <th>0</th>\n",
       "      <td>长乐路0_L_A17001</td>\n",
       "      <td>[[118.103198, 24.527338], [118.103224, 24.5273...</td>\n",
       "      <td>POLYGON ((118.10320 24.52734, 118.10322 24.527...</td>\n",
       "      <td>5.880000e-10</td>\n",
       "      <td>POINT (118.10322 24.52735)</td>\n",
       "      <td>长乐路0</td>\n",
       "      <td>70</td>\n",
       "    </tr>\n",
       "    <tr>\n",
       "      <th>1</th>\n",
       "      <td>长乐路0_L_A17002</td>\n",
       "      <td>[[118.103171, 24.527303], [118.103198, 24.5273...</td>\n",
       "      <td>POLYGON ((118.10317 24.52730, 118.10320 24.527...</td>\n",
       "      <td>5.740000e-10</td>\n",
       "      <td>POINT (118.10319 24.52732)</td>\n",
       "      <td>长乐路0</td>\n",
       "      <td>70</td>\n",
       "    </tr>\n",
       "    <tr>\n",
       "      <th>2</th>\n",
       "      <td>长乐路0_L_A17003</td>\n",
       "      <td>[[118.103231, 24.527386], [118.103257, 24.5274...</td>\n",
       "      <td>POLYGON ((118.10323 24.52739, 118.10326 24.527...</td>\n",
       "      <td>6.630000e-10</td>\n",
       "      <td>POINT (118.10325 24.52740)</td>\n",
       "      <td>长乐路0</td>\n",
       "      <td>70</td>\n",
       "    </tr>\n",
       "  </tbody>\n",
       "</table>\n",
       "</div>"
      ],
      "text/plain": [
       "        FENCE_ID                                          FENCE_LOC  \\\n",
       "0  长乐路0_L_A17001  [[118.103198, 24.527338], [118.103224, 24.5273...   \n",
       "1  长乐路0_L_A17002  [[118.103171, 24.527303], [118.103198, 24.5273...   \n",
       "2  长乐路0_L_A17003  [[118.103231, 24.527386], [118.103257, 24.5274...   \n",
       "\n",
       "                                             LOC_GEO    FENCE_AREA  \\\n",
       "0  POLYGON ((118.10320 24.52734, 118.10322 24.527...  5.880000e-10   \n",
       "1  POLYGON ((118.10317 24.52730, 118.10320 24.527...  5.740000e-10   \n",
       "2  POLYGON ((118.10323 24.52739, 118.10326 24.527...  6.630000e-10   \n",
       "\n",
       "                 FENCE_CENTER ROAD_NAME  ROAD_COUNT  \n",
       "0  POINT (118.10322 24.52735)      长乐路0          70  \n",
       "1  POINT (118.10319 24.52732)      长乐路0          70  \n",
       "2  POINT (118.10325 24.52740)      长乐路0          70  "
      ]
     },
     "execution_count": 37,
     "metadata": {},
     "output_type": "execute_result"
    }
   ],
   "source": [
    "# 得到字典 {路名:围栏个数}\n",
    "road_count_series = bike_fence.groupby(by='ROAD_NAME').count()['FENCE_ID']\n",
    "road_count_dic = {index:value for index,value in road_count_series.items()}\n",
    "# 映射到数据表\n",
    "bike_fence['ROAD_COUNT'] = bike_fence['ROAD_NAME'].map(road_count_dic)\n",
    "bike_fence.head(3)"
   ]
  },
  {
   "cell_type": "markdown",
   "metadata": {},
   "source": [
    "- 路段围栏总面积:AREA_SUM"
   ]
  },
  {
   "cell_type": "code",
   "execution_count": 38,
   "metadata": {
    "ExecuteTime": {
     "end_time": "2021-02-24T17:22:34.165452Z",
     "start_time": "2021-02-24T17:22:34.124562Z"
    },
    "collapsed": true
   },
   "outputs": [
    {
     "data": {
      "text/html": [
       "<div>\n",
       "<style scoped>\n",
       "    .dataframe tbody tr th:only-of-type {\n",
       "        vertical-align: middle;\n",
       "    }\n",
       "\n",
       "    .dataframe tbody tr th {\n",
       "        vertical-align: top;\n",
       "    }\n",
       "\n",
       "    .dataframe thead th {\n",
       "        text-align: right;\n",
       "    }\n",
       "</style>\n",
       "<table border=\"1\" class=\"dataframe\">\n",
       "  <thead>\n",
       "    <tr style=\"text-align: right;\">\n",
       "      <th></th>\n",
       "      <th>FENCE_ID</th>\n",
       "      <th>FENCE_LOC</th>\n",
       "      <th>LOC_GEO</th>\n",
       "      <th>FENCE_AREA</th>\n",
       "      <th>FENCE_CENTER</th>\n",
       "      <th>ROAD_NAME</th>\n",
       "      <th>ROAD_COUNT</th>\n",
       "      <th>AREA_SUM</th>\n",
       "    </tr>\n",
       "  </thead>\n",
       "  <tbody>\n",
       "    <tr>\n",
       "      <th>0</th>\n",
       "      <td>长乐路0_L_A17001</td>\n",
       "      <td>[[118.103198, 24.527338], [118.103224, 24.5273...</td>\n",
       "      <td>POLYGON ((118.10320 24.52734, 118.10322 24.527...</td>\n",
       "      <td>5.880000e-10</td>\n",
       "      <td>POINT (118.10322 24.52735)</td>\n",
       "      <td>长乐路0</td>\n",
       "      <td>70</td>\n",
       "      <td>5.861268e-08</td>\n",
       "    </tr>\n",
       "    <tr>\n",
       "      <th>1</th>\n",
       "      <td>长乐路0_L_A17002</td>\n",
       "      <td>[[118.103171, 24.527303], [118.103198, 24.5273...</td>\n",
       "      <td>POLYGON ((118.10317 24.52730, 118.10320 24.527...</td>\n",
       "      <td>5.740000e-10</td>\n",
       "      <td>POINT (118.10319 24.52732)</td>\n",
       "      <td>长乐路0</td>\n",
       "      <td>70</td>\n",
       "      <td>5.861268e-08</td>\n",
       "    </tr>\n",
       "    <tr>\n",
       "      <th>2</th>\n",
       "      <td>长乐路0_L_A17003</td>\n",
       "      <td>[[118.103231, 24.527386], [118.103257, 24.5274...</td>\n",
       "      <td>POLYGON ((118.10323 24.52739, 118.10326 24.527...</td>\n",
       "      <td>6.630000e-10</td>\n",
       "      <td>POINT (118.10325 24.52740)</td>\n",
       "      <td>长乐路0</td>\n",
       "      <td>70</td>\n",
       "      <td>5.861268e-08</td>\n",
       "    </tr>\n",
       "  </tbody>\n",
       "</table>\n",
       "</div>"
      ],
      "text/plain": [
       "        FENCE_ID                                          FENCE_LOC  \\\n",
       "0  长乐路0_L_A17001  [[118.103198, 24.527338], [118.103224, 24.5273...   \n",
       "1  长乐路0_L_A17002  [[118.103171, 24.527303], [118.103198, 24.5273...   \n",
       "2  长乐路0_L_A17003  [[118.103231, 24.527386], [118.103257, 24.5274...   \n",
       "\n",
       "                                             LOC_GEO    FENCE_AREA  \\\n",
       "0  POLYGON ((118.10320 24.52734, 118.10322 24.527...  5.880000e-10   \n",
       "1  POLYGON ((118.10317 24.52730, 118.10320 24.527...  5.740000e-10   \n",
       "2  POLYGON ((118.10323 24.52739, 118.10326 24.527...  6.630000e-10   \n",
       "\n",
       "                 FENCE_CENTER ROAD_NAME  ROAD_COUNT      AREA_SUM  \n",
       "0  POINT (118.10322 24.52735)      长乐路0          70  5.861268e-08  \n",
       "1  POINT (118.10319 24.52732)      长乐路0          70  5.861268e-08  \n",
       "2  POINT (118.10325 24.52740)      长乐路0          70  5.861268e-08  "
      ]
     },
     "execution_count": 38,
     "metadata": {},
     "output_type": "execute_result"
    }
   ],
   "source": [
    "# 得到字典 {路名:围栏总面积}\n",
    "area_sum_series = bike_fence.groupby(by='ROAD_NAME').sum()['FENCE_AREA']\n",
    "area_sum_dic = {index:value for index,value in area_sum_series.items()}\n",
    "# 映射到数据表\n",
    "bike_fence['AREA_SUM'] = bike_fence['ROAD_NAME'].map(area_sum_dic)\n",
    "bike_fence.head(3)"
   ]
  },
  {
   "cell_type": "markdown",
   "metadata": {},
   "source": [
    "- 路段围栏面积平均数:AREA_MEAN"
   ]
  },
  {
   "cell_type": "code",
   "execution_count": 40,
   "metadata": {
    "ExecuteTime": {
     "end_time": "2021-02-24T17:22:47.913256Z",
     "start_time": "2021-02-24T17:22:47.892342Z"
    },
    "collapsed": true
   },
   "outputs": [
    {
     "data": {
      "text/html": [
       "<div>\n",
       "<style scoped>\n",
       "    .dataframe tbody tr th:only-of-type {\n",
       "        vertical-align: middle;\n",
       "    }\n",
       "\n",
       "    .dataframe tbody tr th {\n",
       "        vertical-align: top;\n",
       "    }\n",
       "\n",
       "    .dataframe thead th {\n",
       "        text-align: right;\n",
       "    }\n",
       "</style>\n",
       "<table border=\"1\" class=\"dataframe\">\n",
       "  <thead>\n",
       "    <tr style=\"text-align: right;\">\n",
       "      <th></th>\n",
       "      <th>FENCE_ID</th>\n",
       "      <th>FENCE_LOC</th>\n",
       "      <th>LOC_GEO</th>\n",
       "      <th>FENCE_AREA</th>\n",
       "      <th>FENCE_CENTER</th>\n",
       "      <th>ROAD_NAME</th>\n",
       "      <th>ROAD_COUNT</th>\n",
       "      <th>AREA_SUM</th>\n",
       "      <th>AREA_MEAN</th>\n",
       "    </tr>\n",
       "  </thead>\n",
       "  <tbody>\n",
       "    <tr>\n",
       "      <th>0</th>\n",
       "      <td>长乐路0_L_A17001</td>\n",
       "      <td>[[118.103198, 24.527338], [118.103224, 24.5273...</td>\n",
       "      <td>POLYGON ((118.10320 24.52734, 118.10322 24.527...</td>\n",
       "      <td>5.880000e-10</td>\n",
       "      <td>POINT (118.10322 24.52735)</td>\n",
       "      <td>长乐路0</td>\n",
       "      <td>70</td>\n",
       "      <td>5.861268e-08</td>\n",
       "      <td>8.373240e-10</td>\n",
       "    </tr>\n",
       "    <tr>\n",
       "      <th>1</th>\n",
       "      <td>长乐路0_L_A17002</td>\n",
       "      <td>[[118.103171, 24.527303], [118.103198, 24.5273...</td>\n",
       "      <td>POLYGON ((118.10317 24.52730, 118.10320 24.527...</td>\n",
       "      <td>5.740000e-10</td>\n",
       "      <td>POINT (118.10319 24.52732)</td>\n",
       "      <td>长乐路0</td>\n",
       "      <td>70</td>\n",
       "      <td>5.861268e-08</td>\n",
       "      <td>8.373240e-10</td>\n",
       "    </tr>\n",
       "    <tr>\n",
       "      <th>2</th>\n",
       "      <td>长乐路0_L_A17003</td>\n",
       "      <td>[[118.103231, 24.527386], [118.103257, 24.5274...</td>\n",
       "      <td>POLYGON ((118.10323 24.52739, 118.10326 24.527...</td>\n",
       "      <td>6.630000e-10</td>\n",
       "      <td>POINT (118.10325 24.52740)</td>\n",
       "      <td>长乐路0</td>\n",
       "      <td>70</td>\n",
       "      <td>5.861268e-08</td>\n",
       "      <td>8.373240e-10</td>\n",
       "    </tr>\n",
       "  </tbody>\n",
       "</table>\n",
       "</div>"
      ],
      "text/plain": [
       "        FENCE_ID                                          FENCE_LOC  \\\n",
       "0  长乐路0_L_A17001  [[118.103198, 24.527338], [118.103224, 24.5273...   \n",
       "1  长乐路0_L_A17002  [[118.103171, 24.527303], [118.103198, 24.5273...   \n",
       "2  长乐路0_L_A17003  [[118.103231, 24.527386], [118.103257, 24.5274...   \n",
       "\n",
       "                                             LOC_GEO    FENCE_AREA  \\\n",
       "0  POLYGON ((118.10320 24.52734, 118.10322 24.527...  5.880000e-10   \n",
       "1  POLYGON ((118.10317 24.52730, 118.10320 24.527...  5.740000e-10   \n",
       "2  POLYGON ((118.10323 24.52739, 118.10326 24.527...  6.630000e-10   \n",
       "\n",
       "                 FENCE_CENTER ROAD_NAME  ROAD_COUNT      AREA_SUM  \\\n",
       "0  POINT (118.10322 24.52735)      长乐路0          70  5.861268e-08   \n",
       "1  POINT (118.10319 24.52732)      长乐路0          70  5.861268e-08   \n",
       "2  POINT (118.10325 24.52740)      长乐路0          70  5.861268e-08   \n",
       "\n",
       "      AREA_MEAN  \n",
       "0  8.373240e-10  \n",
       "1  8.373240e-10  \n",
       "2  8.373240e-10  "
      ]
     },
     "execution_count": 40,
     "metadata": {},
     "output_type": "execute_result"
    }
   ],
   "source": [
    "bike_fence['AREA_MEAN'] = bike_fence['AREA_SUM']/bike_fence['ROAD_COUNT']\n",
    "bike_fence.head(3)"
   ]
  },
  {
   "cell_type": "markdown",
   "metadata": {},
   "source": [
    "- 路段围栏面积是否大于平均值:AREA_FLAG"
   ]
  },
  {
   "cell_type": "code",
   "execution_count": 41,
   "metadata": {
    "ExecuteTime": {
     "end_time": "2021-02-24T17:22:49.855054Z",
     "start_time": "2021-02-24T17:22:49.825096Z"
    },
    "collapsed": true
   },
   "outputs": [
    {
     "data": {
      "text/html": [
       "<div>\n",
       "<style scoped>\n",
       "    .dataframe tbody tr th:only-of-type {\n",
       "        vertical-align: middle;\n",
       "    }\n",
       "\n",
       "    .dataframe tbody tr th {\n",
       "        vertical-align: top;\n",
       "    }\n",
       "\n",
       "    .dataframe thead th {\n",
       "        text-align: right;\n",
       "    }\n",
       "</style>\n",
       "<table border=\"1\" class=\"dataframe\">\n",
       "  <thead>\n",
       "    <tr style=\"text-align: right;\">\n",
       "      <th></th>\n",
       "      <th>FENCE_ID</th>\n",
       "      <th>FENCE_LOC</th>\n",
       "      <th>LOC_GEO</th>\n",
       "      <th>FENCE_AREA</th>\n",
       "      <th>FENCE_CENTER</th>\n",
       "      <th>ROAD_NAME</th>\n",
       "      <th>ROAD_COUNT</th>\n",
       "      <th>AREA_SUM</th>\n",
       "      <th>AREA_MEAN</th>\n",
       "      <th>AREA_FLAG</th>\n",
       "    </tr>\n",
       "  </thead>\n",
       "  <tbody>\n",
       "    <tr>\n",
       "      <th>0</th>\n",
       "      <td>长乐路0_L_A17001</td>\n",
       "      <td>[[118.103198, 24.527338], [118.103224, 24.5273...</td>\n",
       "      <td>POLYGON ((118.10320 24.52734, 118.10322 24.527...</td>\n",
       "      <td>5.880000e-10</td>\n",
       "      <td>POINT (118.10322 24.52735)</td>\n",
       "      <td>长乐路0</td>\n",
       "      <td>70</td>\n",
       "      <td>5.861268e-08</td>\n",
       "      <td>8.373240e-10</td>\n",
       "      <td>False</td>\n",
       "    </tr>\n",
       "    <tr>\n",
       "      <th>1</th>\n",
       "      <td>长乐路0_L_A17002</td>\n",
       "      <td>[[118.103171, 24.527303], [118.103198, 24.5273...</td>\n",
       "      <td>POLYGON ((118.10317 24.52730, 118.10320 24.527...</td>\n",
       "      <td>5.740000e-10</td>\n",
       "      <td>POINT (118.10319 24.52732)</td>\n",
       "      <td>长乐路0</td>\n",
       "      <td>70</td>\n",
       "      <td>5.861268e-08</td>\n",
       "      <td>8.373240e-10</td>\n",
       "      <td>False</td>\n",
       "    </tr>\n",
       "    <tr>\n",
       "      <th>2</th>\n",
       "      <td>长乐路0_L_A17003</td>\n",
       "      <td>[[118.103231, 24.527386], [118.103257, 24.5274...</td>\n",
       "      <td>POLYGON ((118.10323 24.52739, 118.10326 24.527...</td>\n",
       "      <td>6.630000e-10</td>\n",
       "      <td>POINT (118.10325 24.52740)</td>\n",
       "      <td>长乐路0</td>\n",
       "      <td>70</td>\n",
       "      <td>5.861268e-08</td>\n",
       "      <td>8.373240e-10</td>\n",
       "      <td>False</td>\n",
       "    </tr>\n",
       "  </tbody>\n",
       "</table>\n",
       "</div>"
      ],
      "text/plain": [
       "        FENCE_ID                                          FENCE_LOC  \\\n",
       "0  长乐路0_L_A17001  [[118.103198, 24.527338], [118.103224, 24.5273...   \n",
       "1  长乐路0_L_A17002  [[118.103171, 24.527303], [118.103198, 24.5273...   \n",
       "2  长乐路0_L_A17003  [[118.103231, 24.527386], [118.103257, 24.5274...   \n",
       "\n",
       "                                             LOC_GEO    FENCE_AREA  \\\n",
       "0  POLYGON ((118.10320 24.52734, 118.10322 24.527...  5.880000e-10   \n",
       "1  POLYGON ((118.10317 24.52730, 118.10320 24.527...  5.740000e-10   \n",
       "2  POLYGON ((118.10323 24.52739, 118.10326 24.527...  6.630000e-10   \n",
       "\n",
       "                 FENCE_CENTER ROAD_NAME  ROAD_COUNT      AREA_SUM  \\\n",
       "0  POINT (118.10322 24.52735)      长乐路0          70  5.861268e-08   \n",
       "1  POINT (118.10319 24.52732)      长乐路0          70  5.861268e-08   \n",
       "2  POINT (118.10325 24.52740)      长乐路0          70  5.861268e-08   \n",
       "\n",
       "      AREA_MEAN  AREA_FLAG  \n",
       "0  8.373240e-10      False  \n",
       "1  8.373240e-10      False  \n",
       "2  8.373240e-10      False  "
      ]
     },
     "execution_count": 41,
     "metadata": {},
     "output_type": "execute_result"
    }
   ],
   "source": [
    "bike_fence['AREA_FLAG'] = bike_fence['FENCE_AREA']>=bike_fence['AREA_MEAN']\n",
    "bike_fence.head(3)"
   ]
  },
  {
   "cell_type": "markdown",
   "metadata": {},
   "source": [
    "- 围栏区域中心:FENCE_CENTER"
   ]
  },
  {
   "cell_type": "code",
   "execution_count": 33,
   "metadata": {
    "ExecuteTime": {
     "end_time": "2021-02-24T17:21:43.101511Z",
     "start_time": "2021-02-24T17:21:42.731531Z"
    },
    "collapsed": true
   },
   "outputs": [
    {
     "data": {
      "text/html": [
       "<div>\n",
       "<style scoped>\n",
       "    .dataframe tbody tr th:only-of-type {\n",
       "        vertical-align: middle;\n",
       "    }\n",
       "\n",
       "    .dataframe tbody tr th {\n",
       "        vertical-align: top;\n",
       "    }\n",
       "\n",
       "    .dataframe thead th {\n",
       "        text-align: right;\n",
       "    }\n",
       "</style>\n",
       "<table border=\"1\" class=\"dataframe\">\n",
       "  <thead>\n",
       "    <tr style=\"text-align: right;\">\n",
       "      <th></th>\n",
       "      <th>FENCE_ID</th>\n",
       "      <th>FENCE_LOC</th>\n",
       "      <th>LOC_GEO</th>\n",
       "      <th>FENCE_AREA</th>\n",
       "      <th>FENCE_CENTER</th>\n",
       "    </tr>\n",
       "  </thead>\n",
       "  <tbody>\n",
       "    <tr>\n",
       "      <th>0</th>\n",
       "      <td>长乐路0_L_A17001</td>\n",
       "      <td>[[118.103198, 24.527338], [118.103224, 24.5273...</td>\n",
       "      <td>POLYGON ((118.10320 24.52734, 118.10322 24.527...</td>\n",
       "      <td>5.880000e-10</td>\n",
       "      <td>POINT (118.10322 24.52735)</td>\n",
       "    </tr>\n",
       "    <tr>\n",
       "      <th>1</th>\n",
       "      <td>长乐路0_L_A17002</td>\n",
       "      <td>[[118.103171, 24.527303], [118.103198, 24.5273...</td>\n",
       "      <td>POLYGON ((118.10317 24.52730, 118.10320 24.527...</td>\n",
       "      <td>5.740000e-10</td>\n",
       "      <td>POINT (118.10319 24.52732)</td>\n",
       "    </tr>\n",
       "    <tr>\n",
       "      <th>2</th>\n",
       "      <td>长乐路0_L_A17003</td>\n",
       "      <td>[[118.103231, 24.527386], [118.103257, 24.5274...</td>\n",
       "      <td>POLYGON ((118.10323 24.52739, 118.10326 24.527...</td>\n",
       "      <td>6.630000e-10</td>\n",
       "      <td>POINT (118.10325 24.52740)</td>\n",
       "    </tr>\n",
       "  </tbody>\n",
       "</table>\n",
       "</div>"
      ],
      "text/plain": [
       "        FENCE_ID                                          FENCE_LOC  \\\n",
       "0  长乐路0_L_A17001  [[118.103198, 24.527338], [118.103224, 24.5273...   \n",
       "1  长乐路0_L_A17002  [[118.103171, 24.527303], [118.103198, 24.5273...   \n",
       "2  长乐路0_L_A17003  [[118.103231, 24.527386], [118.103257, 24.5274...   \n",
       "\n",
       "                                             LOC_GEO    FENCE_AREA  \\\n",
       "0  POLYGON ((118.10320 24.52734, 118.10322 24.527...  5.880000e-10   \n",
       "1  POLYGON ((118.10317 24.52730, 118.10320 24.527...  5.740000e-10   \n",
       "2  POLYGON ((118.10323 24.52739, 118.10326 24.527...  6.630000e-10   \n",
       "\n",
       "                 FENCE_CENTER  \n",
       "0  POINT (118.10322 24.52735)  \n",
       "1  POINT (118.10319 24.52732)  \n",
       "2  POINT (118.10325 24.52740)  "
      ]
     },
     "execution_count": 33,
     "metadata": {},
     "output_type": "execute_result"
    }
   ],
   "source": [
    "bike_fence['FENCE_CENTER'] = bike_fence['LOC_GEO'].centroid\n",
    "bike_fence.head(3)"
   ]
  },
  {
   "cell_type": "markdown",
   "metadata": {},
   "source": [
    "### 订单数据"
   ]
  },
  {
   "cell_type": "code",
   "execution_count": 18,
   "metadata": {
    "ExecuteTime": {
     "end_time": "2021-02-24T18:40:46.390098Z",
     "start_time": "2021-02-24T18:40:46.367540Z"
    },
    "collapsed": true
   },
   "outputs": [
    {
     "data": {
      "text/html": [
       "<div>\n",
       "<style scoped>\n",
       "    .dataframe tbody tr th:only-of-type {\n",
       "        vertical-align: middle;\n",
       "    }\n",
       "\n",
       "    .dataframe tbody tr th {\n",
       "        vertical-align: top;\n",
       "    }\n",
       "\n",
       "    .dataframe thead th {\n",
       "        text-align: right;\n",
       "    }\n",
       "</style>\n",
       "<table border=\"1\" class=\"dataframe\">\n",
       "  <thead>\n",
       "    <tr style=\"text-align: right;\">\n",
       "      <th></th>\n",
       "      <th>BICYCLE_ID</th>\n",
       "      <th>LOCK_STATUS</th>\n",
       "      <th>day</th>\n",
       "      <th>hour</th>\n",
       "      <th>min</th>\n",
       "      <th>day+hour+min</th>\n",
       "      <th>day+hour</th>\n",
       "      <th>hour+min</th>\n",
       "      <th>geometry</th>\n",
       "    </tr>\n",
       "  </thead>\n",
       "  <tbody>\n",
       "    <tr>\n",
       "      <th>0</th>\n",
       "      <td>0000ff105fd5f9099b866bccd157dc50</td>\n",
       "      <td>0</td>\n",
       "      <td>21</td>\n",
       "      <td>08</td>\n",
       "      <td>23</td>\n",
       "      <td>210823</td>\n",
       "      <td>2108</td>\n",
       "      <td>0823</td>\n",
       "      <td>POINT (118.14261 24.49658)</td>\n",
       "    </tr>\n",
       "    <tr>\n",
       "      <th>1</th>\n",
       "      <td>0000ff105fd5f9099b866bccd157dc50</td>\n",
       "      <td>1</td>\n",
       "      <td>21</td>\n",
       "      <td>08</td>\n",
       "      <td>44</td>\n",
       "      <td>210844</td>\n",
       "      <td>2108</td>\n",
       "      <td>0844</td>\n",
       "      <td>POINT (118.16750 24.48135)</td>\n",
       "    </tr>\n",
       "    <tr>\n",
       "      <th>2</th>\n",
       "      <td>0000ff105fd5f9099b866bccd157dc50</td>\n",
       "      <td>0</td>\n",
       "      <td>22</td>\n",
       "      <td>08</td>\n",
       "      <td>00</td>\n",
       "      <td>220800</td>\n",
       "      <td>2208</td>\n",
       "      <td>0800</td>\n",
       "      <td>POINT (118.15522 24.50961)</td>\n",
       "    </tr>\n",
       "    <tr>\n",
       "      <th>3</th>\n",
       "      <td>0000ff105fd5f9099b866bccd157dc50</td>\n",
       "      <td>1</td>\n",
       "      <td>22</td>\n",
       "      <td>08</td>\n",
       "      <td>14</td>\n",
       "      <td>220814</td>\n",
       "      <td>2208</td>\n",
       "      <td>0814</td>\n",
       "      <td>POINT (118.14756 24.49480)</td>\n",
       "    </tr>\n",
       "    <tr>\n",
       "      <th>4</th>\n",
       "      <td>0000ff105fd5f9099b866bccd157dc50</td>\n",
       "      <td>0</td>\n",
       "      <td>22</td>\n",
       "      <td>08</td>\n",
       "      <td>19</td>\n",
       "      <td>220819</td>\n",
       "      <td>2208</td>\n",
       "      <td>0819</td>\n",
       "      <td>POINT (118.14753 24.49465)</td>\n",
       "    </tr>\n",
       "    <tr>\n",
       "      <th>...</th>\n",
       "      <td>...</td>\n",
       "      <td>...</td>\n",
       "      <td>...</td>\n",
       "      <td>...</td>\n",
       "      <td>...</td>\n",
       "      <td>...</td>\n",
       "      <td>...</td>\n",
       "      <td>...</td>\n",
       "      <td>...</td>\n",
       "    </tr>\n",
       "    <tr>\n",
       "      <th>542652</th>\n",
       "      <td>ffffa4a7c6cd6cda114fdb0e6f391038</td>\n",
       "      <td>0</td>\n",
       "      <td>21</td>\n",
       "      <td>08</td>\n",
       "      <td>42</td>\n",
       "      <td>210842</td>\n",
       "      <td>2108</td>\n",
       "      <td>0842</td>\n",
       "      <td>POINT (118.07065 24.46509)</td>\n",
       "    </tr>\n",
       "    <tr>\n",
       "      <th>542653</th>\n",
       "      <td>ffffa4a7c6cd6cda114fdb0e6f391038</td>\n",
       "      <td>1</td>\n",
       "      <td>21</td>\n",
       "      <td>08</td>\n",
       "      <td>47</td>\n",
       "      <td>210847</td>\n",
       "      <td>2108</td>\n",
       "      <td>0847</td>\n",
       "      <td>POINT (118.06741 24.46116)</td>\n",
       "    </tr>\n",
       "    <tr>\n",
       "      <th>542654</th>\n",
       "      <td>ffffa4a7c6cd6cda114fdb0e6f391038</td>\n",
       "      <td>0</td>\n",
       "      <td>24</td>\n",
       "      <td>08</td>\n",
       "      <td>10</td>\n",
       "      <td>240810</td>\n",
       "      <td>2408</td>\n",
       "      <td>0810</td>\n",
       "      <td>POINT (118.08938 24.48496)</td>\n",
       "    </tr>\n",
       "    <tr>\n",
       "      <th>542655</th>\n",
       "      <td>ffffa4a7c6cd6cda114fdb0e6f391038</td>\n",
       "      <td>1</td>\n",
       "      <td>24</td>\n",
       "      <td>08</td>\n",
       "      <td>26</td>\n",
       "      <td>240826</td>\n",
       "      <td>2408</td>\n",
       "      <td>0826</td>\n",
       "      <td>POINT (118.10565 24.47116)</td>\n",
       "    </tr>\n",
       "    <tr>\n",
       "      <th>542656</th>\n",
       "      <td>ffffa4a7c6cd6cda114fdb0e6f391038</td>\n",
       "      <td>0</td>\n",
       "      <td>24</td>\n",
       "      <td>08</td>\n",
       "      <td>51</td>\n",
       "      <td>240851</td>\n",
       "      <td>2408</td>\n",
       "      <td>0851</td>\n",
       "      <td>POINT (118.10574 24.47131)</td>\n",
       "    </tr>\n",
       "  </tbody>\n",
       "</table>\n",
       "<p>542657 rows × 9 columns</p>\n",
       "</div>"
      ],
      "text/plain": [
       "                              BICYCLE_ID  LOCK_STATUS day hour min  \\\n",
       "0       0000ff105fd5f9099b866bccd157dc50            0  21   08  23   \n",
       "1       0000ff105fd5f9099b866bccd157dc50            1  21   08  44   \n",
       "2       0000ff105fd5f9099b866bccd157dc50            0  22   08  00   \n",
       "3       0000ff105fd5f9099b866bccd157dc50            1  22   08  14   \n",
       "4       0000ff105fd5f9099b866bccd157dc50            0  22   08  19   \n",
       "...                                  ...          ...  ..  ...  ..   \n",
       "542652  ffffa4a7c6cd6cda114fdb0e6f391038            0  21   08  42   \n",
       "542653  ffffa4a7c6cd6cda114fdb0e6f391038            1  21   08  47   \n",
       "542654  ffffa4a7c6cd6cda114fdb0e6f391038            0  24   08  10   \n",
       "542655  ffffa4a7c6cd6cda114fdb0e6f391038            1  24   08  26   \n",
       "542656  ffffa4a7c6cd6cda114fdb0e6f391038            0  24   08  51   \n",
       "\n",
       "       day+hour+min day+hour hour+min                    geometry  \n",
       "0            210823     2108     0823  POINT (118.14261 24.49658)  \n",
       "1            210844     2108     0844  POINT (118.16750 24.48135)  \n",
       "2            220800     2208     0800  POINT (118.15522 24.50961)  \n",
       "3            220814     2208     0814  POINT (118.14756 24.49480)  \n",
       "4            220819     2208     0819  POINT (118.14753 24.49465)  \n",
       "...             ...      ...      ...                         ...  \n",
       "542652       210842     2108     0842  POINT (118.07065 24.46509)  \n",
       "542653       210847     2108     0847  POINT (118.06741 24.46116)  \n",
       "542654       240810     2408     0810  POINT (118.08938 24.48496)  \n",
       "542655       240826     2408     0826  POINT (118.10565 24.47116)  \n",
       "542656       240851     2408     0851  POINT (118.10574 24.47131)  \n",
       "\n",
       "[542657 rows x 9 columns]"
      ]
     },
     "execution_count": 18,
     "metadata": {},
     "output_type": "execute_result"
    }
   ],
   "source": [
    "bike_order"
   ]
  },
  {
   "cell_type": "markdown",
   "metadata": {},
   "source": [
    "- 坐标所属围栏位置:FENCE_ID"
   ]
  },
  {
   "cell_type": "code",
   "execution_count": 19,
   "metadata": {
    "ExecuteTime": {
     "end_time": "2021-02-24T18:40:53.077851Z",
     "start_time": "2021-02-24T18:40:53.067810Z"
    }
   },
   "outputs": [
    {
     "ename": "NameError",
     "evalue": "name 'bike_fence' is not defined",
     "output_type": "error",
     "traceback": [
      "\u001b[1;31m---------------------------------------------------------------------------\u001b[0m",
      "\u001b[1;31mNameError\u001b[0m                                 Traceback (most recent call last)",
      "\u001b[1;32m<ipython-input-19-c403b7c8c696>\u001b[0m in \u001b[0;36m<module>\u001b[1;34m()\u001b[0m\n\u001b[0;32m      1\u001b[0m \u001b[1;31m# 得到围栏 GeoSeries\u001b[0m\u001b[1;33m\u001b[0m\u001b[1;33m\u001b[0m\u001b[0m\n\u001b[1;32m----> 2\u001b[1;33m \u001b[0mbike_fence\u001b[0m\u001b[1;33m[\u001b[0m\u001b[1;33m[\u001b[0m\u001b[1;34m'FENCE_ID'\u001b[0m\u001b[1;33m,\u001b[0m\u001b[1;34m'LOC_GEO'\u001b[0m\u001b[1;33m]\u001b[0m\u001b[1;33m]\u001b[0m\u001b[1;33m\u001b[0m\u001b[0m\n\u001b[0m",
      "\u001b[1;31mNameError\u001b[0m: name 'bike_fence' is not defined"
     ]
    }
   ],
   "source": [
    "# 得到围栏 GeoSeries\n",
    "bike_fence[['FENCE_ID','LOC_GEO']]"
   ]
  },
  {
   "cell_type": "code",
   "execution_count": null,
   "metadata": {},
   "outputs": [],
   "source": [
    "def loc_fence(item):\n",
    "    for ID,GeoLoc in bike_fence['FENCE_ID','LOC_GEO']:\n",
    "        if GeoLoc.intersects(item):\n",
    "            return ID\n",
    "    else:\n",
    "        return 'None'\n",
    "\n",
    "bike_order['FENCE_ID'] = bike_order['geometry'].apply(loc_fence)"
   ]
  },
  {
   "cell_type": "markdown",
   "metadata": {},
   "source": [
    "### 轨迹数据"
   ]
  },
  {
   "cell_type": "code",
   "execution_count": null,
   "metadata": {},
   "outputs": [],
   "source": []
  },
  {
   "cell_type": "markdown",
   "metadata": {},
   "source": [
    "### 特征工程数据保存"
   ]
  },
  {
   "cell_type": "code",
   "execution_count": 134,
   "metadata": {
    "ExecuteTime": {
     "end_time": "2021-02-24T15:19:35.196447Z",
     "start_time": "2021-02-24T15:19:32.411232Z"
    }
   },
   "outputs": [],
   "source": [
    "bike_fence.to_csv(PATH+'bike_fence_FE.csv' ,index=0)"
   ]
  },
  {
   "cell_type": "code",
   "execution_count": null,
   "metadata": {},
   "outputs": [],
   "source": []
  },
  {
   "cell_type": "code",
   "execution_count": null,
   "metadata": {},
   "outputs": [],
   "source": []
  },
  {
   "cell_type": "code",
   "execution_count": 210,
   "metadata": {
    "ExecuteTime": {
     "end_time": "2021-02-24T16:22:50.007029Z",
     "start_time": "2021-02-24T16:22:49.989066Z"
    }
   },
   "outputs": [
    {
     "data": {
      "text/html": [
       "<div>\n",
       "<style scoped>\n",
       "    .dataframe tbody tr th:only-of-type {\n",
       "        vertical-align: middle;\n",
       "    }\n",
       "\n",
       "    .dataframe tbody tr th {\n",
       "        vertical-align: top;\n",
       "    }\n",
       "\n",
       "    .dataframe thead th {\n",
       "        text-align: right;\n",
       "    }\n",
       "</style>\n",
       "<table border=\"1\" class=\"dataframe\">\n",
       "  <thead>\n",
       "    <tr style=\"text-align: right;\">\n",
       "      <th></th>\n",
       "      <th>0</th>\n",
       "    </tr>\n",
       "  </thead>\n",
       "  <tbody>\n",
       "    <tr>\n",
       "      <th>0</th>\n",
       "      <td>POLYGON ((118.10317 24.52730, 118.10320 24.527...</td>\n",
       "    </tr>\n",
       "  </tbody>\n",
       "</table>\n",
       "</div>"
      ],
      "text/plain": [
       "                                                   0\n",
       "0  POLYGON ((118.10317 24.52730, 118.10320 24.527..."
      ]
     },
     "execution_count": 210,
     "metadata": {},
     "output_type": "execute_result"
    }
   ],
   "source": [
    "gpdtmp = gpd.GeoSeries([geometry.Polygon([(x,y) for x,y in bike_fence['FENCE_LOC'][1][:-1]])])\n",
    "gpdtmp= gpd.GeoDataFrame(gpdtmp)\n",
    "gpdtmp"
   ]
  },
  {
   "cell_type": "code",
   "execution_count": 224,
   "metadata": {
    "ExecuteTime": {
     "end_time": "2021-02-24T16:44:15.182065Z",
     "start_time": "2021-02-24T16:44:15.167105Z"
    },
    "collapsed": true
   },
   "outputs": [
    {
     "ename": "NameError",
     "evalue": "name 'PyGEOSSTRTreeIndex' is not defined",
     "output_type": "error",
     "traceback": [
      "\u001b[1;31m---------------------------------------------------------------------------\u001b[0m",
      "\u001b[1;31mNameError\u001b[0m                                 Traceback (most recent call last)",
      "\u001b[1;32m<ipython-input-224-7896fcee3d9d>\u001b[0m in \u001b[0;36m<module>\u001b[1;34m()\u001b[0m\n\u001b[1;32m----> 1\u001b[1;33m \u001b[0mgpd\u001b[0m\u001b[1;33m.\u001b[0m\u001b[0msjoin\u001b[0m\u001b[1;33m(\u001b[0m\u001b[0mgpdtmp1\u001b[0m\u001b[1;33m,\u001b[0m\u001b[0mgpdtmp\u001b[0m\u001b[1;33m,\u001b[0m\u001b[0mop\u001b[0m\u001b[1;33m=\u001b[0m\u001b[1;34m'within'\u001b[0m\u001b[1;33m)\u001b[0m\u001b[1;33m\u001b[0m\u001b[0m\n\u001b[0m",
      "\u001b[1;32mD:\\Anaconda3\\lib\\site-packages\\geopandas\\tools\\sjoin.py\u001b[0m in \u001b[0;36msjoin\u001b[1;34m(left_df, right_df, how, op, lsuffix, rsuffix)\u001b[0m\n\u001b[0;32m     80\u001b[0m             \u001b[1;31m# see discussion at https://github.com/geopandas/geopandas/pull/1421\u001b[0m\u001b[1;33m\u001b[0m\u001b[1;33m\u001b[0m\u001b[0m\n\u001b[0;32m     81\u001b[0m             \u001b[0mpredicate\u001b[0m \u001b[1;33m=\u001b[0m \u001b[1;34m\"contains\"\u001b[0m\u001b[1;33m\u001b[0m\u001b[0m\n\u001b[1;32m---> 82\u001b[1;33m             \u001b[0msindex\u001b[0m \u001b[1;33m=\u001b[0m \u001b[0mleft_df\u001b[0m\u001b[1;33m.\u001b[0m\u001b[0msindex\u001b[0m\u001b[1;33m\u001b[0m\u001b[0m\n\u001b[0m\u001b[0;32m     83\u001b[0m             \u001b[0minput_geoms\u001b[0m \u001b[1;33m=\u001b[0m \u001b[0mright_df\u001b[0m\u001b[1;33m.\u001b[0m\u001b[0mgeometry\u001b[0m\u001b[1;33m\u001b[0m\u001b[0m\n\u001b[0;32m     84\u001b[0m         \u001b[1;32melse\u001b[0m\u001b[1;33m:\u001b[0m\u001b[1;33m\u001b[0m\u001b[0m\n",
      "\u001b[1;32mD:\\Anaconda3\\lib\\site-packages\\geopandas\\base.py\u001b[0m in \u001b[0;36msindex\u001b[1;34m(self)\u001b[0m\n\u001b[0;32m    591\u001b[0m     \u001b[1;32mdef\u001b[0m \u001b[0msindex\u001b[0m\u001b[1;33m(\u001b[0m\u001b[0mself\u001b[0m\u001b[1;33m)\u001b[0m\u001b[1;33m:\u001b[0m\u001b[1;33m\u001b[0m\u001b[0m\n\u001b[0;32m    592\u001b[0m         \u001b[1;32mif\u001b[0m \u001b[1;32mnot\u001b[0m \u001b[0mself\u001b[0m\u001b[1;33m.\u001b[0m\u001b[0m_sindex_generated\u001b[0m\u001b[1;33m:\u001b[0m\u001b[1;33m\u001b[0m\u001b[0m\n\u001b[1;32m--> 593\u001b[1;33m             \u001b[0mself\u001b[0m\u001b[1;33m.\u001b[0m\u001b[0m_generate_sindex\u001b[0m\u001b[1;33m(\u001b[0m\u001b[1;33m)\u001b[0m\u001b[1;33m\u001b[0m\u001b[0m\n\u001b[0m\u001b[0;32m    594\u001b[0m         \u001b[1;32mreturn\u001b[0m \u001b[0mself\u001b[0m\u001b[1;33m.\u001b[0m\u001b[0m_sindex\u001b[0m\u001b[1;33m\u001b[0m\u001b[0m\n\u001b[0;32m    595\u001b[0m \u001b[1;33m\u001b[0m\u001b[0m\n",
      "\u001b[1;32mD:\\Anaconda3\\lib\\site-packages\\geopandas\\base.py\u001b[0m in \u001b[0;36m_generate_sindex\u001b[1;34m(self)\u001b[0m\n\u001b[0;32m     96\u001b[0m \u001b[1;33m\u001b[0m\u001b[0m\n\u001b[0;32m     97\u001b[0m     \u001b[1;32mdef\u001b[0m \u001b[0m_generate_sindex\u001b[0m\u001b[1;33m(\u001b[0m\u001b[0mself\u001b[0m\u001b[1;33m)\u001b[0m\u001b[1;33m:\u001b[0m\u001b[1;33m\u001b[0m\u001b[0m\n\u001b[1;32m---> 98\u001b[1;33m         \u001b[0msindex_cls\u001b[0m \u001b[1;33m=\u001b[0m \u001b[0mget_sindex_class\u001b[0m\u001b[1;33m(\u001b[0m\u001b[1;33m)\u001b[0m\u001b[1;33m\u001b[0m\u001b[0m\n\u001b[0m\u001b[0;32m     99\u001b[0m         \u001b[1;32mif\u001b[0m \u001b[0msindex_cls\u001b[0m \u001b[1;32mis\u001b[0m \u001b[1;32mnot\u001b[0m \u001b[1;32mNone\u001b[0m\u001b[1;33m:\u001b[0m\u001b[1;33m\u001b[0m\u001b[0m\n\u001b[0;32m    100\u001b[0m             \u001b[0m_sindex\u001b[0m \u001b[1;33m=\u001b[0m \u001b[0msindex_cls\u001b[0m\u001b[1;33m(\u001b[0m\u001b[0mself\u001b[0m\u001b[1;33m.\u001b[0m\u001b[0mgeometry\u001b[0m\u001b[1;33m)\u001b[0m\u001b[1;33m\u001b[0m\u001b[0m\n",
      "\u001b[1;32mD:\\Anaconda3\\lib\\site-packages\\geopandas\\sindex.py\u001b[0m in \u001b[0;36mget_sindex_class\u001b[1;34m()\u001b[0m\n\u001b[0;32m     37\u001b[0m     \"\"\"\n\u001b[0;32m     38\u001b[0m     \u001b[1;32mif\u001b[0m \u001b[0mcompat\u001b[0m\u001b[1;33m.\u001b[0m\u001b[0mUSE_PYGEOS\u001b[0m\u001b[1;33m:\u001b[0m\u001b[1;33m\u001b[0m\u001b[0m\n\u001b[1;32m---> 39\u001b[1;33m         \u001b[1;32mreturn\u001b[0m \u001b[0mPyGEOSSTRTreeIndex\u001b[0m\u001b[1;33m\u001b[0m\u001b[0m\n\u001b[0m\u001b[0;32m     40\u001b[0m     \u001b[1;32mif\u001b[0m \u001b[0mcompat\u001b[0m\u001b[1;33m.\u001b[0m\u001b[0mHAS_RTREE\u001b[0m\u001b[1;33m:\u001b[0m\u001b[1;33m\u001b[0m\u001b[0m\n\u001b[0;32m     41\u001b[0m         \u001b[1;32mreturn\u001b[0m \u001b[0mRTreeIndex\u001b[0m\u001b[1;33m\u001b[0m\u001b[0m\n",
      "\u001b[1;31mNameError\u001b[0m: name 'PyGEOSSTRTreeIndex' is not defined"
     ]
    }
   ],
   "source": [
    "gpd.sjoin(gpdtmp1,gpdtmp,op='within')"
   ]
  },
  {
   "cell_type": "code",
   "execution_count": 198,
   "metadata": {
    "ExecuteTime": {
     "end_time": "2021-02-24T16:13:33.823877Z",
     "start_time": "2021-02-24T16:13:33.810913Z"
    }
   },
   "outputs": [
    {
     "data": {
      "image/svg+xml": [
       "<svg xmlns=\"http://www.w3.org/2000/svg\" xmlns:xlink=\"http://www.w3.org/1999/xlink\" width=\"100.0\" height=\"100.0\" viewBox=\"118.10316932 24.52729432 4.135999999732576e-05 4.5360000001437584e-05\" preserveAspectRatio=\"xMinYMin meet\"><g transform=\"matrix(1,0,0,-1,0,49.054634)\"><path fill-rule=\"evenodd\" fill=\"#66cc99\" stroke=\"#555555\" stroke-width=\"9.072000000287517e-07\" opacity=\"0.6\" d=\"M 118.103171,24.527303 L 118.103198,24.527338 L 118.103209,24.527331 L 118.103182,24.527296 L 118.103171,24.527303 z\" /></g></svg>"
      ],
      "text/plain": [
       "<shapely.geometry.polygon.Polygon at 0x24c03605780>"
      ]
     },
     "execution_count": 198,
     "metadata": {},
     "output_type": "execute_result"
    }
   ],
   "source": [
    "gpdtmp[0]"
   ]
  },
  {
   "cell_type": "code",
   "execution_count": 2,
   "metadata": {
    "ExecuteTime": {
     "end_time": "2021-02-24T17:10:18.785426Z",
     "start_time": "2021-02-24T17:10:17.694757Z"
    }
   },
   "outputs": [],
   "source": [
    "import geopandas as gpd"
   ]
  },
  {
   "cell_type": "code",
   "execution_count": 4,
   "metadata": {
    "ExecuteTime": {
     "end_time": "2021-02-24T17:10:22.612292Z",
     "start_time": "2021-02-24T17:10:22.023703Z"
    }
   },
   "outputs": [
    {
     "data": {
      "text/plain": [
       "<AxesSubplot:>"
      ]
     },
     "execution_count": 4,
     "metadata": {},
     "output_type": "execute_result"
    },
    {
     "data": {
      "image/png": "[encoded data removed]",
      "text/plain": [
       "<Figure size 432x288 with 1 Axes>"
      ]
     },
     "metadata": {
      "needs_background": "light"
     },
     "output_type": "display_data"
    }
   ],
   "source": [
    "gdf = gpd.read_file(filename=r'D:\\Python\\Python Codes\\数据可视化\\shp,json,geojson,gpkg\\gadm36_CHN_shp\\gadm36_CHN_3.shp')\n",
    "gdf = gdf[gdf['NL_NAME_2']=='厦门市']\n",
    "gdf.plot()"
   ]
  },
  {
   "cell_type": "code",
   "execution_count": 249,
   "metadata": {
    "ExecuteTime": {
     "end_time": "2021-02-24T17:06:42.966861Z",
     "start_time": "2021-02-24T17:06:42.953895Z"
    }
   },
   "outputs": [
    {
     "data": {
      "text/plain": [
       "'0.8.1'"
      ]
     },
     "execution_count": 249,
     "metadata": {},
     "output_type": "execute_result"
    }
   ],
   "source": [
    "gpd.__version__"
   ]
  },
  {
   "cell_type": "code",
   "execution_count": null,
   "metadata": {},
   "outputs": [],
   "source": []
  }
 ],
 "metadata": {
  "kernelspec": {
   "display_name": "Python 3",
   "language": "python",
   "name": "python3"
  },
  "language_info": {
   "codemirror_mode": {
    "name": "ipython",
    "version": 3
   },
   "file_extension": ".py",
   "mimetype": "text/x-python",
   "name": "python",
   "nbconvert_exporter": "python",
   "pygments_lexer": "ipython3",
   "version": "3.7.0"
  },
  "toc": {
   "base_numbering": 1,
   "nav_menu": {},
   "number_sections": true,
   "sideBar": true,
   "skip_h1_title": false,
   "title_cell": "Table of Contents",
   "title_sidebar": "Contents",
   "toc_cell": false,
   "toc_position": {},
   "toc_section_display": true,
   "toc_window_display": false
  }
 },
 "nbformat": 4,
 "nbformat_minor": 2
}
