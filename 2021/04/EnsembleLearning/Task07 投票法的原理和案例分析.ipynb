{
 "cells": [
  {
   "cell_type": "markdown",
   "metadata": {},
   "source": [
    "**写在前面：**本节内容是 [Datawhale四月组队学习 - 集成学习（中）- CH3-投票法思路、原理、案例部分 -【Task7 投票法的原理和案例分析】](https://github.com/datawhalechina/team-learning-data-mining/tree/master/EnsembleLearning) 的学习笔记，对应notebook的第3节的投票法部分，学习周期3天"
   ]
  },
  {
   "cell_type": "markdown",
   "metadata": {},
   "source": [
    "## 导入库和数据"
   ]
  },
  {
   "cell_type": "code",
   "execution_count": 13,
   "metadata": {
    "ExecuteTime": {
     "end_time": "2021-04-13T09:01:27.943964Z",
     "start_time": "2021-04-13T09:01:27.926012Z"
    }
   },
   "outputs": [],
   "source": [
    "from sklearn.linear_model import LogisticRegression\n",
    "from sklearn.svm import SVC\n",
    "from sklearn.ensemble import VotingClassifier\n",
    "from sklearn.pipeline import make_pipeline\n",
    "from sklearn.preprocessing import StandardScaler\n",
    "from sklearn.datasets import make_classification\n",
    "from sklearn.model_selection import cross_val_score\n",
    "from sklearn.neighbors import KNeighborsClassifier\n",
    "from sklearn.model_selection import RepeatedStratifiedKFold\n",
    "\n",
    "from matplotlib import pyplot"
   ]
  },
  {
   "cell_type": "code",
   "execution_count": 9,
   "metadata": {
    "ExecuteTime": {
     "end_time": "2021-04-13T09:00:51.983155Z",
     "start_time": "2021-04-13T09:00:51.975144Z"
    }
   },
   "outputs": [],
   "source": [
    "def get_dataset():\n",
    "    X, y = make_classification(n_samples=1000, n_features=20, n_informative=15, n_redundant=5, random_state=2)\n",
    "    # summarize the dataset\n",
    "    return X,y"
   ]
  },
  {
   "cell_type": "code",
   "execution_count": 40,
   "metadata": {
    "ExecuteTime": {
     "end_time": "2021-04-13T09:26:23.233713Z",
     "start_time": "2021-04-13T09:26:23.219788Z"
    }
   },
   "outputs": [],
   "source": [
    "# get a voting ensemble of models\n",
    "def get_voting():\n",
    "    # define the base models\n",
    "    models = list()\n",
    "    models.append(('knn1', KNeighborsClassifier(n_neighbors=1)))\n",
    "    models.append(('knn3', KNeighborsClassifier(n_neighbors=3)))\n",
    "    models.append(('knn5', KNeighborsClassifier(n_neighbors=5)))\n",
    "    models.append(('knn7', KNeighborsClassifier(n_neighbors=7)))\n",
    "    models.append(('knn9', KNeighborsClassifier(n_neighbors=9)))\n",
    "    # define the voting ensemble\n",
    "    ensemble = VotingClassifier(estimators=models, voting='hard', verbose=False)\n",
    "    return ensemble"
   ]
  },
  {
   "cell_type": "code",
   "execution_count": 32,
   "metadata": {
    "ExecuteTime": {
     "end_time": "2021-04-13T09:04:40.704158Z",
     "start_time": "2021-04-13T09:04:40.693188Z"
    }
   },
   "outputs": [],
   "source": [
    "# get a list of models to evaluate\n",
    "def get_models():\n",
    "    models = dict()\n",
    "    models['knn1'] = KNeighborsClassifier(n_neighbors=1)\n",
    "    models['knn3'] = KNeighborsClassifier(n_neighbors=3)\n",
    "    models['knn5'] = KNeighborsClassifier(n_neighbors=5)\n",
    "    models['knn7'] = KNeighborsClassifier(n_neighbors=7)\n",
    "    models['knn9'] = KNeighborsClassifier(n_neighbors=9)\n",
    "    models['hard_voting'] = get_voting()\n",
    "    return models"
   ]
  },
  {
   "cell_type": "code",
   "execution_count": 45,
   "metadata": {
    "ExecuteTime": {
     "end_time": "2021-04-13T10:05:21.551401Z",
     "start_time": "2021-04-13T10:05:21.548363Z"
    }
   },
   "outputs": [],
   "source": [
    "def evaluate_model(model, X, y):\n",
    "    cv = RepeatedStratifiedKFold(n_splits=10, n_repeats=3, random_state=1)\n",
    "    scores = cross_val_score(model, X, y, scoring='accuracy', cv=cv, n_jobs=1, error_score='raise')\n",
    "    return scores"
   ]
  },
  {
   "cell_type": "markdown",
   "metadata": {},
   "source": [
    "## Day1 投票法(voting)的理论知识\n",
    "**参考资料：**\n",
    "- [集成学习的不二法门bagging、boosting和三大法宝<结合策略>平均法，投票法和学习法（stacking）](https://www.cnblogs.com/wqbin/p/11634111.html)\n",
    "- [深入了解模型融合Ensemble(深度+代码)](https://zhuanlan.zhihu.com/p/69415215)\n",
    "- [「融合」机器学习模型：一种提升预测能力的方法](https://zhuanlan.zhihu.com/p/33589222)"
   ]
  },
  {
   "cell_type": "markdown",
   "metadata": {},
   "source": [
    "&emsp;&emsp;投票法遵从少数服从多数原则，通过多个模型的集成降低方差，从而提升模型鲁棒性。  \n",
    "\n",
    "1. 从**投票机制**主要分为三种：\n",
    "    - 相对多数投票法：是少数服从多数，将预测结果中票数最高的分类类别。如果不止一个类别获得最高票，则随机选择一个作为最终类别。\n",
    "    - 绝对多数投票法：不光要求获得最高票，还要求票过半数。\n",
    "    - 加权投票法：将每个弱学习器的分类票数乘以一个权重（如：1/loss），最终将各个类别的加权票数求和，最大的值对应的类别为最终类别。\n",
    "\n",
    "2. 投票法在**回归与分类任务**上均可使用：\n",
    "    - 归任务：是所有模型预测结果的平均值。\n",
    "    - 分类任务：是所有模型中出现最多的预测结果\n",
    "\n",
    "3. 分类投票法从**投票方式**又可以被划分：  \n",
    "    - 硬投票：所有投票结果最多出现的类。\n",
    "    - 软投票：所有投票结果中概率加和最大的类。\n",
    "\n",
    "&emsp;&emsp;此外，在[深入了解模型融合Ensemble(深度+代码)](https://zhuanlan.zhihu.com/p/69415215)里提到，弱相关的模型进行投票能对模型性能进行更大的提升，我从感觉上是认同这种说法的。同时在[「融合」机器学习模型：一种提升预测能力的方法](https://zhuanlan.zhihu.com/p/33589222)里提到“寻找优秀的子模型”，即准而不同的模型，这样作为一个整体才能起到互补作用；另外也给出了筛选子模型的思路，即设法给予“优秀的子模型”更大的权重，可以以子模型的准确率等代表模型性能的指标来分配权重。对于模型的“不同”，我认为一方面可以是使用模型的思想不同，如线性模型、树模型、聚类模型等等；另外还可以从训练的数据上的不同使得模型不同，我的想法是分别原始特征和特征工程生成的特征训练模型，这样得到的模型就有理由相信它们是不同的。"
   ]
  },
  {
   "cell_type": "markdown",
   "metadata": {},
   "source": [
    "## Day2 投票法的相关工具"
   ]
  },
  {
   "cell_type": "markdown",
   "metadata": {},
   "source": [
    "### sklearn\n",
    "**VotingClassifier**重要参数:\n",
    "- `estimators`:传入模型序列\n",
    "- `voting`:投票方式，可选soft和hard，对应软投票和硬投票\n",
    "- `weights`:权重序列\n",
    "- `verbose`:打印拟合花费的时间\n",
    "\n",
    "**VotingRegressor**重要参数：\n",
    "- `estimators`:传入模型序列\n",
    "- `weights`:权重序列\n",
    "- `verbose`:打印拟合花费的时间"
   ]
  },
  {
   "cell_type": "markdown",
   "metadata": {},
   "source": [
    "## Day3"
   ]
  },
  {
   "cell_type": "markdown",
   "metadata": {},
   "source": [
    "### 投票法的实际使用"
   ]
  },
  {
   "cell_type": "code",
   "execution_count": 46,
   "metadata": {
    "ExecuteTime": {
     "end_time": "2021-04-13T10:05:24.725861Z",
     "start_time": "2021-04-13T10:05:23.147152Z"
    }
   },
   "outputs": [
    {
     "name": "stdout",
     "output_type": "stream",
     "text": [
      ">knn1 0.873 (0.030)\n",
      ">knn3 0.889 (0.038)\n",
      ">knn5 0.895 (0.031)\n",
      ">knn7 0.899 (0.035)\n",
      ">knn9 0.900 (0.033)\n",
      ">hard_voting 0.902 (0.034)\n"
     ]
    },
    {
     "data": {
      "image/png": "[encoded data removed]",
      "text/plain": [
       "<Figure size 432x288 with 1 Axes>"
      ]
     },
     "metadata": {
      "needs_background": "light"
     },
     "output_type": "display_data"
    }
   ],
   "source": [
    "# define dataset\n",
    "X, y = get_dataset()\n",
    "# get the models to evaluate\n",
    "models = get_models()\n",
    "# evaluate the models and store results\n",
    "results, names = list(), list()\n",
    "for name, model in models.items():\n",
    "    scores = evaluate_model(model, X, y)\n",
    "    results.append(scores)\n",
    "    names.append(name)\n",
    "    print('>%s %.3f (%.3f)' % (name, np.mean(scores), np.std(scores)))\n",
    "# plot model performance for comparison\n",
    "pyplot.boxplot(results, labels=names, showmeans=True)\n",
    "pyplot.show()"
   ]
  },
  {
   "cell_type": "code",
   "execution_count": null,
   "metadata": {},
   "outputs": [],
   "source": []
  }
 ],
 "metadata": {
  "kernelspec": {
   "display_name": "Python 3",
   "language": "python",
   "name": "python3"
  },
  "language_info": {
   "codemirror_mode": {
    "name": "ipython",
    "version": 3
   },
   "file_extension": ".py",
   "mimetype": "text/x-python",
   "name": "python",
   "nbconvert_exporter": "python",
   "pygments_lexer": "ipython3",
   "version": "3.7.0"
  },
  "nbTranslate": {
   "displayLangs": [
    "*"
   ],
   "hotkey": "alt-t",
   "langInMainMenu": true,
   "sourceLang": "en",
   "targetLang": "fr",
   "useGoogleTranslate": true
  },
  "toc": {
   "base_numbering": 1,
   "nav_menu": {},
   "number_sections": true,
   "sideBar": true,
   "skip_h1_title": true,
   "title_cell": "Table of Contents",
   "title_sidebar": "Contents",
   "toc_cell": false,
   "toc_position": {},
   "toc_section_display": true,
   "toc_window_display": false
  },
  "varInspector": {
   "cols": {
    "lenName": 16,
    "lenType": 16,
    "lenVar": 40
   },
   "kernels_config": {
    "python": {
     "delete_cmd_postfix": "",
     "delete_cmd_prefix": "del ",
     "library": "var_list.py",
     "varRefreshCmd": "print(var_dic_list())"
    },
    "r": {
     "delete_cmd_postfix": ") ",
     "delete_cmd_prefix": "rm(",
     "library": "var_list.r",
     "varRefreshCmd": "cat(var_dic_list()) "
    }
   },
   "types_to_exclude": [
    "module",
    "function",
    "builtin_function_or_method",
    "instance",
    "_Feature"
   ],
   "window_display": false
  }
 },
 "nbformat": 4,
 "nbformat_minor": 2
}
