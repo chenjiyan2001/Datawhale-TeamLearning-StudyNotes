{
 "cells": [
  {
   "cell_type": "markdown",
   "metadata": {},
   "source": [
    "**写在前面：**本节内容是 [Datawhale四月组队学习 - 集成学习（中）- CH3-集成学习之投票法与bagging -【Task7 投票法的原理和案例分析】](https://github.com/datawhalechina/team-learning-data-mining/tree/master/EnsembleLearning) 的学习笔记，对应notebook的第3节的Bagging部分，学习周期3天"
   ]
  },
  {
   "cell_type": "markdown",
   "metadata": {},
   "source": [
    "## 库和数据"
   ]
  },
  {
   "cell_type": "code",
   "execution_count": 1,
   "metadata": {
    "ExecuteTime": {
     "end_time": "2021-04-17T05:53:46.630785Z",
     "start_time": "2021-04-17T05:53:44.967508Z"
    }
   },
   "outputs": [],
   "source": [
    "from numpy import mean\n",
    "from numpy import std\n",
    "from sklearn.datasets import make_classification\n",
    "from sklearn.model_selection import cross_val_score\n",
    "from sklearn.model_selection import RepeatedStratifiedKFold\n",
    "from sklearn.ensemble import BaggingClassifier"
   ]
  },
  {
   "cell_type": "markdown",
   "metadata": {},
   "source": [
    "## Day1 Bagging的理论知识\n",
    "**参考资料：**\n",
    "- [集成学习系列(1)-Bagging](https://zhuanlan.zhihu.com/p/61841728)"
   ]
  },
  {
   "cell_type": "markdown",
   "metadata": {},
   "source": [
    "&emsp;&emsp;由于实际操作中的模型却往往是同质的，因此Bagging的思路是通过不同的采样增加模型的差异性（而非使模型之间相互独立）。因此使用自助采样的方式，有放回的从数据集中进行采样。  \n",
    "&emsp;&emsp;由于Bagging通过自助采样的方式增加模型之间的差异性，所以基分类器对样本分布敏感时Bagging能够取得较好的效果。常用的基分类器为决策树、神经网络。KNN、线性分类器由于过于“稳定”不适合作为基分类器。  \n",
    "&emsp;&emsp;对于回归问题，Bagging通过预测取平均值来进行；对于分类问题，Bagging通过对预测取多数票预测来进行。  \n",
    "&emsp;&emsp;Bagging的采样既可以进行行采样，也可进行列采样。对于高维小样本往往有神奇的效果。"
   ]
  },
  {
   "cell_type": "markdown",
   "metadata": {},
   "source": [
    "## Day2 Bagging的相关工具"
   ]
  },
  {
   "cell_type": "markdown",
   "metadata": {},
   "source": [
    "### sklearn\n",
    "**BaggingClassifier**重要参数： \n",
    "- `base_estimator`:使用的模型，默认为决策树\n",
    "- `n_estimators`:基估计器的个数\n",
    "- `max_samples`:最大样本数，可以是具体的个数也可以是比例\n",
    "- `max_features`:最大特征数，可以是具体的个数也可以是比例\n",
    "- `bootstrap`:是否为有放回抽样\n",
    "- `bootstrap_features`:是否针对特征进行又放回抽样\n",
    "- `oob_score`:是否使用袋外样本估计泛化误差\n",
    "- `warm_start`:是否热启动，在之前的训练结果下进行  \n",
    "\n",
    "**BaggingRegressor**重要参数：  \n",
    "- `base_estimator`:使用的模型，默认为决策树\n",
    "- `n_estimators`:基估计器的个数\n",
    "- `max_samples`:最大样本数，可以是具体的个数也可以是比例\n",
    "- `max_features`:最大特征数，可以是具体的个数也可以是比例\n",
    "- `bootstrap`:是否为有放回抽样\n",
    "- `bootstrap_features`:是否针对特征进行又放回抽样\n",
    "- `oob_score`:是否使用袋外样本估计泛化误差\n",
    "- `warm_start`:是否热启动，在之前的训练结果下进行  "
   ]
  },
  {
   "cell_type": "markdown",
   "metadata": {},
   "source": [
    "## Day3 Bagging的实际使用\n",
    "代码来自Datawhale教程"
   ]
  },
  {
   "cell_type": "code",
   "execution_count": 2,
   "metadata": {
    "ExecuteTime": {
     "end_time": "2021-04-17T05:53:46.644956Z",
     "start_time": "2021-04-17T05:53:46.632783Z"
    }
   },
   "outputs": [],
   "source": [
    "# define dataset\n",
    "X, y = make_classification(n_samples=1000, n_features=20, n_informative=15, n_redundant=5, random_state=5)"
   ]
  },
  {
   "cell_type": "code",
   "execution_count": 3,
   "metadata": {
    "ExecuteTime": {
     "end_time": "2021-04-17T05:53:46.706170Z",
     "start_time": "2021-04-17T05:53:46.651399Z"
    }
   },
   "outputs": [],
   "source": [
    "# define the model\n",
    "model = BaggingClassifier()"
   ]
  },
  {
   "cell_type": "code",
   "execution_count": 5,
   "metadata": {
    "ExecuteTime": {
     "end_time": "2021-04-17T05:53:55.119470Z",
     "start_time": "2021-04-17T05:53:54.651113Z"
    }
   },
   "outputs": [],
   "source": [
    "# evaluate the model\n",
    "cv = RepeatedStratifiedKFold(n_splits=10, n_repeats=3, random_state=1)\n",
    "n_scores = cross_val_score(model, X, y, scoring='accuracy', cv=cv, n_jobs=-1, error_score='raise')"
   ]
  },
  {
   "cell_type": "code",
   "execution_count": 6,
   "metadata": {
    "ExecuteTime": {
     "end_time": "2021-04-17T05:53:59.303414Z",
     "start_time": "2021-04-17T05:53:59.284715Z"
    }
   },
   "outputs": [
    {
     "name": "stdout",
     "output_type": "stream",
     "text": [
      "Accuracy: 0.865 (0.033)\n"
     ]
    }
   ],
   "source": [
    "# report performance\n",
    "print('Accuracy: %.3f (%.3f)' % (mean(n_scores), std(n_scores)))"
   ]
  },
  {
   "cell_type": "code",
   "execution_count": null,
   "metadata": {},
   "outputs": [],
   "source": []
  }
 ],
 "metadata": {
  "kernelspec": {
   "display_name": "Python 3",
   "language": "python",
   "name": "python3"
  },
  "language_info": {
   "codemirror_mode": {
    "name": "ipython",
    "version": 3
   },
   "file_extension": ".py",
   "mimetype": "text/x-python",
   "name": "python",
   "nbconvert_exporter": "python",
   "pygments_lexer": "ipython3",
   "version": "3.7.0"
  },
  "nbTranslate": {
   "displayLangs": [
    "*"
   ],
   "hotkey": "alt-t",
   "langInMainMenu": true,
   "sourceLang": "en",
   "targetLang": "fr",
   "useGoogleTranslate": true
  },
  "toc": {
   "base_numbering": 1,
   "nav_menu": {},
   "number_sections": true,
   "sideBar": true,
   "skip_h1_title": true,
   "title_cell": "Table of Contents",
   "title_sidebar": "Contents",
   "toc_cell": false,
   "toc_position": {},
   "toc_section_display": true,
   "toc_window_display": false
  },
  "varInspector": {
   "cols": {
    "lenName": 16,
    "lenType": 16,
    "lenVar": 40
   },
   "kernels_config": {
    "python": {
     "delete_cmd_postfix": "",
     "delete_cmd_prefix": "del ",
     "library": "var_list.py",
     "varRefreshCmd": "print(var_dic_list())"
    },
    "r": {
     "delete_cmd_postfix": ") ",
     "delete_cmd_prefix": "rm(",
     "library": "var_list.r",
     "varRefreshCmd": "cat(var_dic_list()) "
    }
   },
   "types_to_exclude": [
    "module",
    "function",
    "builtin_function_or_method",
    "instance",
    "_Feature"
   ],
   "window_display": false
  }
 },
 "nbformat": 4,
 "nbformat_minor": 2
}
