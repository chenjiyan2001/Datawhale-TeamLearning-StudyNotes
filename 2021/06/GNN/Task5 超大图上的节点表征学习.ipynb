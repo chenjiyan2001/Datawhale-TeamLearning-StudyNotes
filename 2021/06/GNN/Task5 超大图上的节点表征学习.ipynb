{
 "cells": [
  {
   "cell_type": "markdown",
   "metadata": {},
   "source": [
    "**前言**：本节内容是 [Datawhale六月组队学习 - 图神经网络- Task5 超大图上的节点表征学习](https://github.com/datawhalechina/team-learning-nlp/tree/master/GNN/Markdown%E7%89%88%E6%9C%AC) 的学习笔记，学习周期4天"
   ]
  },
  {
   "cell_type": "markdown",
   "metadata": {},
   "source": [
    "### 基础准备"
   ]
  },
  {
   "cell_type": "code",
   "execution_count": 18,
   "metadata": {
    "ExecuteTime": {
     "end_time": "2021-07-01T15:13:20.095245Z",
     "start_time": "2021-07-01T15:13:19.063252Z"
    }
   },
   "outputs": [],
   "source": [
    "import torch_geometric\n",
    "from torch_geometric.datasets import Reddit, Planetoid, PPI\n",
    "from torch_geometric.transforms import NormalizeFeatures\n",
    "from torch_geometric.data import ClusterData, ClusterLoader, NeighborSampler, Batch, DataLoader\n",
    "from torch_geometric.nn import SAGEConv, BatchNorm\n",
    "\n",
    "import torch\n",
    "import torch.nn.functional as F\n",
    "from torch.nn import ModuleList\n",
    "\n",
    "import matplotlib.pyplot as plt\n",
    "from tqdm.notebook import tqdm\n",
    "from sklearn.metrics import f1_score"
   ]
  },
  {
   "cell_type": "code",
   "execution_count": 2,
   "metadata": {
    "ExecuteTime": {
     "end_time": "2021-07-01T14:02:42.180858Z",
     "start_time": "2021-07-01T14:02:35.667012Z"
    }
   },
   "outputs": [
    {
     "name": "stdout",
     "output_type": "stream",
     "text": [
      "Number of features:\t602\n",
      "Number of classes:\t41\n",
      "Number of nodes:\t232965\n",
      "Number of edges:\t114615892\n"
     ]
    }
   ],
   "source": [
    "# 太大了，内存和CUDA不够用，弃用\n",
    "dataset = Reddit('./dataset/Reddit') # 1.3G\n",
    "data = dataset[0]\n",
    "print(f'Number of features:\\t{dataset.num_features}')\n",
    "print(f'Number of classes:\\t{dataset.num_classes}')\n",
    "print(f'Number of nodes:\\t{data.num_nodes}')\n",
    "print(f'Number of edges:\\t{data.num_edges}')"
   ]
  },
  {
   "cell_type": "code",
   "execution_count": 3,
   "metadata": {
    "ExecuteTime": {
     "end_time": "2021-07-01T14:02:42.428216Z",
     "start_time": "2021-07-01T14:02:42.183850Z"
    }
   },
   "outputs": [
    {
     "name": "stdout",
     "output_type": "stream",
     "text": [
      "Number of features:\t50\n",
      "Number of classes:\t121\n",
      "Number of nodes:\t1767\n",
      "Number of edges:\t32318\n"
     ]
    }
   ],
   "source": [
    "path = './dataset/PPI'\n",
    "\n",
    "dataset = PPI(path)\n",
    "data = dataset[0]\n",
    "print(f'Number of features:\\t{dataset.num_features}')\n",
    "print(f'Number of classes:\\t{dataset.num_classes}')\n",
    "print(f'Number of nodes:\\t{data.num_nodes}')\n",
    "print(f'Number of edges:\\t{data.num_edges}')"
   ]
  },
  {
   "cell_type": "markdown",
   "metadata": {},
   "source": [
    "### Cluster-GCN"
   ]
  },
  {
   "cell_type": "markdown",
   "metadata": {},
   "source": [
    "图节点聚类与数据加载器生成"
   ]
  },
  {
   "cell_type": "code",
   "execution_count": 4,
   "metadata": {
    "ExecuteTime": {
     "end_time": "2021-07-01T14:02:42.473112Z",
     "start_time": "2021-07-01T14:02:42.430191Z"
    }
   },
   "outputs": [],
   "source": [
    "train_dataset = PPI(path, split='train')\n",
    "val_dataset = PPI(path, split='val')\n",
    "test_dataset = PPI(path, split='test')"
   ]
  },
  {
   "cell_type": "code",
   "execution_count": 5,
   "metadata": {
    "ExecuteTime": {
     "end_time": "2021-07-01T14:02:42.534912Z",
     "start_time": "2021-07-01T14:02:42.475072Z"
    }
   },
   "outputs": [],
   "source": [
    "train_data = Batch.from_data_list(train_dataset)\n",
    "cluster_data = ClusterData(train_data,\n",
    "                           num_parts=50,\n",
    "                           recursive=False,\n",
    "                           save_dir=train_dataset.processed_dir)\n",
    "train_loader = ClusterLoader(cluster_data,\n",
    "                             batch_size=1,\n",
    "                             shuffle=True,\n",
    "                             num_workers=12)"
   ]
  },
  {
   "cell_type": "code",
   "execution_count": 6,
   "metadata": {
    "ExecuteTime": {
     "end_time": "2021-07-01T14:02:42.549871Z",
     "start_time": "2021-07-01T14:02:42.536908Z"
    }
   },
   "outputs": [],
   "source": [
    "val_loader = DataLoader(val_dataset, batch_size=2, shuffle=False)\n",
    "test_loader = DataLoader(test_dataset, batch_size=2, shuffle=False)"
   ]
  },
  {
   "cell_type": "markdown",
   "metadata": {},
   "source": [
    "图神经网络的构建"
   ]
  },
  {
   "cell_type": "code",
   "execution_count": 7,
   "metadata": {
    "ExecuteTime": {
     "end_time": "2021-07-01T14:02:42.579791Z",
     "start_time": "2021-07-01T14:02:42.552864Z"
    }
   },
   "outputs": [],
   "source": [
    "class Net(torch.nn.Module):\n",
    "    def __init__(self, in_channels, hidden_channels, out_channels, num_layers):\n",
    "        super(Net, self).__init__()\n",
    "        self.convs = torch.nn.ModuleList()\n",
    "        self.batch_norms = torch.nn.ModuleList()\n",
    "        self.convs.append(SAGEConv(in_channels, hidden_channels))\n",
    "        self.batch_norms.append(BatchNorm(hidden_channels))\n",
    "        for _ in range(num_layers - 2):\n",
    "            self.convs.append(SAGEConv(hidden_channels, hidden_channels))\n",
    "            self.batch_norms.append(BatchNorm(hidden_channels))\n",
    "        self.convs.append(SAGEConv(hidden_channels, out_channels))\n",
    "\n",
    "    def forward(self, x, edge_index):\n",
    "        for conv, batch_norm in zip(self.convs[:-1], self.batch_norms):\n",
    "            x = conv(x, edge_index)\n",
    "            x = batch_norm(x)\n",
    "            x = F.relu(x)\n",
    "            x = F.dropout(x, p=0.2, training=self.training)\n",
    "        return self.convs[-1](x, edge_index)"
   ]
  },
  {
   "cell_type": "markdown",
   "metadata": {},
   "source": [
    "训练、验证与测试"
   ]
  },
  {
   "cell_type": "code",
   "execution_count": 13,
   "metadata": {
    "ExecuteTime": {
     "end_time": "2021-07-01T15:06:36.244689Z",
     "start_time": "2021-07-01T15:06:36.128685Z"
    }
   },
   "outputs": [],
   "source": [
    "device = torch.device('cuda' if torch.cuda.is_available() else 'cpu')\n",
    "model = Net(in_channels=train_dataset.num_features,\n",
    "            hidden_channels=1024,\n",
    "            out_channels=train_dataset.num_classes,\n",
    "            num_layers=6).to(device)\n",
    "loss_op = torch.nn.BCEWithLogitsLoss()\n",
    "optimizer = torch.optim.Adam(model.parameters(), lr=0.01)"
   ]
  },
  {
   "cell_type": "code",
   "execution_count": 14,
   "metadata": {
    "ExecuteTime": {
     "end_time": "2021-07-01T15:06:38.274335Z",
     "start_time": "2021-07-01T15:06:38.257381Z"
    }
   },
   "outputs": [],
   "source": [
    "def train():\n",
    "    model.train()\n",
    "\n",
    "    total_loss = 0\n",
    "    for data in train_loader:\n",
    "        data = data.to(device)\n",
    "        optimizer.zero_grad()\n",
    "        loss = loss_op(model(data.x, data.edge_index), data.y)\n",
    "        loss.backward()\n",
    "        optimizer.step()\n",
    "        total_loss += loss.item() * data.num_nodes\n",
    "    return total_loss / train_data.num_nodes\n",
    "\n",
    "\n",
    "@torch.no_grad()\n",
    "def test(loader):\n",
    "    model.eval()\n",
    "\n",
    "    ys, preds = [], []\n",
    "    for data in loader:\n",
    "        ys.append(data.y)\n",
    "        out = model(data.x.to(device), data.edge_index.to(device))\n",
    "        preds.append((out > 0).float().cpu())\n",
    "\n",
    "    y, pred = torch.cat(ys, dim=0).numpy(), torch.cat(preds, dim=0).numpy()\n",
    "    return f1_score(y, pred, average='micro') if pred.sum() > 0 else 0"
   ]
  },
  {
   "cell_type": "code",
   "execution_count": 15,
   "metadata": {
    "ExecuteTime": {
     "end_time": "2021-07-01T15:12:40.509486Z",
     "start_time": "2021-07-01T15:06:45.104815Z"
    },
    "collapsed": true
   },
   "outputs": [
    {
     "name": "stdout",
     "output_type": "stream",
     "text": [
      "Epoch: 01, Loss: 0.6454\n",
      "Epoch: 02, Loss: 0.5501\n",
      "Epoch: 03, Loss: 0.5237\n",
      "Epoch: 04, Loss: 0.5073\n",
      "Epoch: 05, Loss: 0.4952, Val: 0.5432, Test: 0.5507\n",
      "Epoch: 06, Loss: 0.4783\n",
      "Epoch: 07, Loss: 0.4637\n",
      "Epoch: 08, Loss: 0.4477\n",
      "Epoch: 09, Loss: 0.4351\n",
      "Epoch: 10, Loss: 0.4187, Val: 0.6501, Test: 0.6635\n",
      "Epoch: 11, Loss: 0.4046\n",
      "Epoch: 12, Loss: 0.3886\n",
      "Epoch: 13, Loss: 0.3759\n",
      "Epoch: 14, Loss: 0.3588\n",
      "Epoch: 15, Loss: 0.3432, Val: 0.7222, Test: 0.7414\n",
      "Epoch: 16, Loss: 0.3264\n",
      "Epoch: 17, Loss: 0.3106\n",
      "Epoch: 18, Loss: 0.2918\n",
      "Epoch: 19, Loss: 0.2765\n",
      "Epoch: 20, Loss: 0.2595, Val: 0.7811, Test: 0.8052\n",
      "Epoch: 21, Loss: 0.2425\n",
      "Epoch: 22, Loss: 0.2270\n",
      "Epoch: 23, Loss: 0.2163\n",
      "Epoch: 24, Loss: 0.2044\n",
      "Epoch: 25, Loss: 0.1855, Val: 0.8634, Test: 0.8892\n",
      "Epoch: 26, Loss: 0.1729\n",
      "Epoch: 27, Loss: 0.1624\n",
      "Epoch: 28, Loss: 0.1528\n",
      "Epoch: 29, Loss: 0.1422\n",
      "Epoch: 30, Loss: 0.1351, Val: 0.9018, Test: 0.9262\n",
      "Epoch: 31, Loss: 0.1278\n",
      "Epoch: 32, Loss: 0.1183\n",
      "Epoch: 33, Loss: 0.1136\n",
      "Epoch: 34, Loss: 0.1061\n",
      "Epoch: 35, Loss: 0.0986, Val: 0.9281, Test: 0.9484\n",
      "Epoch: 36, Loss: 0.0938\n",
      "Epoch: 37, Loss: 0.0880\n",
      "Epoch: 38, Loss: 0.0827\n",
      "Epoch: 39, Loss: 0.0784\n",
      "Epoch: 40, Loss: 0.0811, Val: 0.9268, Test: 0.9501\n",
      "Epoch: 41, Loss: 0.0768\n",
      "Epoch: 42, Loss: 0.0711\n",
      "Epoch: 43, Loss: 0.0671\n",
      "Epoch: 44, Loss: 0.0623\n",
      "Epoch: 45, Loss: 0.0616, Val: 0.9410, Test: 0.9606\n",
      "Epoch: 46, Loss: 0.0610\n",
      "Epoch: 47, Loss: 0.0578\n",
      "Epoch: 48, Loss: 0.0554\n",
      "Epoch: 49, Loss: 0.0556\n",
      "Epoch: 50, Loss: 0.0523, Val: 0.9539, Test: 0.9708\n"
     ]
    }
   ],
   "source": [
    "loss_list = []; val_list = []; test_list = []\n",
    "for epoch in range(1, 51):\n",
    "    loss = train()\n",
    "    loss_list.append(loss)\n",
    "    if epoch % 5 == 0:\n",
    "        val_f1 = test(val_loader); test_f1 = test(test_loader)\n",
    "        val_list.append(val_f1); test_list.append(test_f1)\n",
    "        print(f'Epoch: {epoch:02d}, Loss: {loss:.4f}, Val: {val_f1:.4f}, Test: {test_f1:.4f}')\n",
    "    else:\n",
    "        print(f'Epoch: {epoch:02d}, Loss: {loss:.4f}')"
   ]
  },
  {
   "cell_type": "code",
   "execution_count": 19,
   "metadata": {
    "ExecuteTime": {
     "end_time": "2021-07-01T15:13:25.516824Z",
     "start_time": "2021-07-01T15:13:25.261288Z"
    }
   },
   "outputs": [
    {
     "data": {
      "image/png": "[encoded data removed]",
      "text/plain": [
       "<Figure size 1296x288 with 3 Axes>"
      ]
     },
     "metadata": {
      "needs_background": "light"
     },
     "output_type": "display_data"
    }
   ],
   "source": [
    "plt.figure(figsize=(18,4))\n",
    "plt.subplot(1,3,1);plt.plot(loss_list);plt.title('loss')\n",
    "plt.subplot(1,3,2);plt.plot(val_list);plt.title('val f1')\n",
    "plt.subplot(1,3,3);plt.plot(test_list);plt.title('test f1')                    \n",
    "plt.show()"
   ]
  },
  {
   "cell_type": "markdown",
   "metadata": {},
   "source": [
    "### 作业\n",
    "- 尝试将数据集切分成不同数量的簇进行实验，然后观察结果并进行比较。"
   ]
  },
  {
   "cell_type": "markdown",
   "metadata": {},
   "source": [
    "121个簇"
   ]
  },
  {
   "cell_type": "code",
   "execution_count": 20,
   "metadata": {
    "ExecuteTime": {
     "end_time": "2021-07-01T15:15:05.632164Z",
     "start_time": "2021-07-01T15:15:04.306709Z"
    }
   },
   "outputs": [
    {
     "name": "stdout",
     "output_type": "stream",
     "text": [
      "Computing METIS partitioning...\n",
      "Done!\n"
     ]
    }
   ],
   "source": [
    "train_data = Batch.from_data_list(train_dataset)\n",
    "# 由于classes为121，这里分为121个簇\n",
    "cluster_data = ClusterData(train_data,\n",
    "                           num_parts=121,\n",
    "                           recursive=False,\n",
    "                           save_dir=train_dataset.processed_dir)\n",
    "train_loader = ClusterLoader(cluster_data,\n",
    "                             batch_size=1,\n",
    "                             shuffle=True,\n",
    "                             num_workers=12)"
   ]
  },
  {
   "cell_type": "code",
   "execution_count": 21,
   "metadata": {
    "ExecuteTime": {
     "end_time": "2021-07-01T15:15:45.916160Z",
     "start_time": "2021-07-01T15:15:45.777577Z"
    }
   },
   "outputs": [],
   "source": [
    "device = torch.device('cuda' if torch.cuda.is_available() else 'cpu')\n",
    "model = Net(in_channels=train_dataset.num_features,\n",
    "            hidden_channels=1024,\n",
    "            out_channels=train_dataset.num_classes,\n",
    "            num_layers=6).to(device)\n",
    "loss_op = torch.nn.BCEWithLogitsLoss()\n",
    "optimizer = torch.optim.Adam(model.parameters(), lr=0.01)"
   ]
  },
  {
   "cell_type": "code",
   "execution_count": 22,
   "metadata": {
    "ExecuteTime": {
     "end_time": "2021-07-01T15:15:46.867181Z",
     "start_time": "2021-07-01T15:15:46.851224Z"
    }
   },
   "outputs": [],
   "source": [
    "def train():\n",
    "    model.train()\n",
    "\n",
    "    total_loss = 0\n",
    "    for data in train_loader:\n",
    "        data = data.to(device)\n",
    "        optimizer.zero_grad()\n",
    "        loss = loss_op(model(data.x, data.edge_index), data.y)\n",
    "        loss.backward()\n",
    "        optimizer.step()\n",
    "        total_loss += loss.item() * data.num_nodes\n",
    "    return total_loss / train_data.num_nodes\n",
    "\n",
    "\n",
    "@torch.no_grad()\n",
    "def test(loader):\n",
    "    model.eval()\n",
    "\n",
    "    ys, preds = [], []\n",
    "    for data in loader:\n",
    "        ys.append(data.y)\n",
    "        out = model(data.x.to(device), data.edge_index.to(device))\n",
    "        preds.append((out > 0).float().cpu())\n",
    "\n",
    "    y, pred = torch.cat(ys, dim=0).numpy(), torch.cat(preds, dim=0).numpy()\n",
    "    return f1_score(y, pred, average='micro') if pred.sum() > 0 else 0"
   ]
  },
  {
   "cell_type": "code",
   "execution_count": 23,
   "metadata": {
    "ExecuteTime": {
     "end_time": "2021-07-01T15:22:11.397552Z",
     "start_time": "2021-07-01T15:15:47.427612Z"
    },
    "collapsed": true
   },
   "outputs": [
    {
     "name": "stdout",
     "output_type": "stream",
     "text": [
      "Epoch: 01, Loss: 0.6156\n",
      "Epoch: 02, Loss: 0.5412\n",
      "Epoch: 03, Loss: 0.5229\n",
      "Epoch: 04, Loss: 0.5051\n",
      "Epoch: 05, Loss: 0.4897, Val: 0.5715, Test: 0.5775\n",
      "Epoch: 06, Loss: 0.4763\n",
      "Epoch: 07, Loss: 0.4575\n",
      "Epoch: 08, Loss: 0.4478\n",
      "Epoch: 09, Loss: 0.4299\n",
      "Epoch: 10, Loss: 0.4153, Val: 0.6270, Test: 0.6389\n",
      "Epoch: 11, Loss: 0.3975\n",
      "Epoch: 12, Loss: 0.3813\n",
      "Epoch: 13, Loss: 0.3699\n",
      "Epoch: 14, Loss: 0.3509\n",
      "Epoch: 15, Loss: 0.3328, Val: 0.7002, Test: 0.7200\n",
      "Epoch: 16, Loss: 0.3200\n",
      "Epoch: 17, Loss: 0.3025\n",
      "Epoch: 18, Loss: 0.2889\n",
      "Epoch: 19, Loss: 0.2759\n",
      "Epoch: 20, Loss: 0.2612, Val: 0.7534, Test: 0.7799\n",
      "Epoch: 21, Loss: 0.2463\n",
      "Epoch: 22, Loss: 0.2337\n",
      "Epoch: 23, Loss: 0.2247\n",
      "Epoch: 24, Loss: 0.2143\n",
      "Epoch: 25, Loss: 0.2053, Val: 0.7910, Test: 0.8179\n",
      "Epoch: 26, Loss: 0.1989\n",
      "Epoch: 27, Loss: 0.1876\n",
      "Epoch: 28, Loss: 0.1811\n",
      "Epoch: 29, Loss: 0.1721\n",
      "Epoch: 30, Loss: 0.1652, Val: 0.8204, Test: 0.8488\n",
      "Epoch: 31, Loss: 0.1630\n",
      "Epoch: 32, Loss: 0.1557\n",
      "Epoch: 33, Loss: 0.1507\n",
      "Epoch: 34, Loss: 0.1467\n",
      "Epoch: 35, Loss: 0.1418, Val: 0.8342, Test: 0.8644\n",
      "Epoch: 36, Loss: 0.1371\n",
      "Epoch: 37, Loss: 0.1336\n",
      "Epoch: 38, Loss: 0.1303\n",
      "Epoch: 39, Loss: 0.1271\n",
      "Epoch: 40, Loss: 0.1238, Val: 0.8480, Test: 0.8764\n",
      "Epoch: 41, Loss: 0.1193\n",
      "Epoch: 42, Loss: 0.1179\n",
      "Epoch: 43, Loss: 0.1145\n",
      "Epoch: 44, Loss: 0.1115\n",
      "Epoch: 45, Loss: 0.1102, Val: 0.8722, Test: 0.8993\n",
      "Epoch: 46, Loss: 0.1084\n",
      "Epoch: 47, Loss: 0.1062\n",
      "Epoch: 48, Loss: 0.1035\n",
      "Epoch: 49, Loss: 0.1012\n",
      "Epoch: 50, Loss: 0.0979, Val: 0.8550, Test: 0.8851\n"
     ]
    }
   ],
   "source": [
    "loss_list = []; val_list = []; test_list = []\n",
    "for epoch in range(1, 51):\n",
    "    loss = train()\n",
    "    loss_list.append(loss)\n",
    "    if epoch % 5 == 0:\n",
    "        val_f1 = test(val_loader); test_f1 = test(test_loader)\n",
    "        val_list.append(val_f1); test_list.append(test_f1)\n",
    "        print(f'Epoch: {epoch:02d}, Loss: {loss:.4f}, Val: {val_f1:.4f}, Test: {test_f1:.4f}')\n",
    "    else:\n",
    "        print(f'Epoch: {epoch:02d}, Loss: {loss:.4f}')"
   ]
  },
  {
   "cell_type": "code",
   "execution_count": 24,
   "metadata": {
    "ExecuteTime": {
     "end_time": "2021-07-01T15:22:51.603452Z",
     "start_time": "2021-07-01T15:22:51.386881Z"
    }
   },
   "outputs": [
    {
     "data": {
      "image/png": "[encoded data removed]",
      "text/plain": [
       "<Figure size 1296x288 with 3 Axes>"
      ]
     },
     "metadata": {
      "needs_background": "light"
     },
     "output_type": "display_data"
    }
   ],
   "source": [
    "plt.figure(figsize=(18,4))\n",
    "plt.subplot(1,3,1);plt.plot(loss_list);plt.title('loss')\n",
    "plt.subplot(1,3,2);plt.plot(val_list);plt.title('val f1')\n",
    "plt.subplot(1,3,3);plt.plot(test_list);plt.title('test f1')                    \n",
    "plt.show()"
   ]
  },
  {
   "cell_type": "markdown",
   "metadata": {},
   "source": [
    "20个簇"
   ]
  },
  {
   "cell_type": "code",
   "execution_count": 25,
   "metadata": {
    "ExecuteTime": {
     "end_time": "2021-07-01T15:23:05.270238Z",
     "start_time": "2021-07-01T15:23:04.527226Z"
    }
   },
   "outputs": [
    {
     "name": "stdout",
     "output_type": "stream",
     "text": [
      "Computing METIS partitioning...\n",
      "Done!\n"
     ]
    }
   ],
   "source": [
    "train_data = Batch.from_data_list(train_dataset)\n",
    "# 由于classes为121，这里分为121个簇\n",
    "cluster_data = ClusterData(train_data,\n",
    "                           num_parts=20,\n",
    "                           recursive=False,\n",
    "                           save_dir=train_dataset.processed_dir)\n",
    "train_loader = ClusterLoader(cluster_data,\n",
    "                             batch_size=1,\n",
    "                             shuffle=True,\n",
    "                             num_workers=12)"
   ]
  },
  {
   "cell_type": "code",
   "execution_count": 26,
   "metadata": {
    "ExecuteTime": {
     "end_time": "2021-07-01T15:23:29.696490Z",
     "start_time": "2021-07-01T15:23:29.583709Z"
    }
   },
   "outputs": [],
   "source": [
    "device = torch.device('cuda' if torch.cuda.is_available() else 'cpu')\n",
    "model = Net(in_channels=train_dataset.num_features,\n",
    "            hidden_channels=1024,\n",
    "            out_channels=train_dataset.num_classes,\n",
    "            num_layers=6).to(device)\n",
    "loss_op = torch.nn.BCEWithLogitsLoss()\n",
    "optimizer = torch.optim.Adam(model.parameters(), lr=0.01)"
   ]
  },
  {
   "cell_type": "code",
   "execution_count": 27,
   "metadata": {
    "ExecuteTime": {
     "end_time": "2021-07-01T15:23:29.948790Z",
     "start_time": "2021-07-01T15:23:29.933831Z"
    }
   },
   "outputs": [],
   "source": [
    "def train():\n",
    "    model.train()\n",
    "\n",
    "    total_loss = 0\n",
    "    for data in train_loader:\n",
    "        data = data.to(device)\n",
    "        optimizer.zero_grad()\n",
    "        loss = loss_op(model(data.x, data.edge_index), data.y)\n",
    "        loss.backward()\n",
    "        optimizer.step()\n",
    "        total_loss += loss.item() * data.num_nodes\n",
    "    return total_loss / train_data.num_nodes\n",
    "\n",
    "\n",
    "@torch.no_grad()\n",
    "def test(loader):\n",
    "    model.eval()\n",
    "\n",
    "    ys, preds = [], []\n",
    "    for data in loader:\n",
    "        ys.append(data.y)\n",
    "        out = model(data.x.to(device), data.edge_index.to(device))\n",
    "        preds.append((out > 0).float().cpu())\n",
    "\n",
    "    y, pred = torch.cat(ys, dim=0).numpy(), torch.cat(preds, dim=0).numpy()\n",
    "    return f1_score(y, pred, average='micro') if pred.sum() > 0 else 0"
   ]
  },
  {
   "cell_type": "code",
   "execution_count": 28,
   "metadata": {
    "ExecuteTime": {
     "end_time": "2021-07-01T15:29:06.084321Z",
     "start_time": "2021-07-01T15:23:30.198599Z"
    },
    "collapsed": true
   },
   "outputs": [
    {
     "name": "stdout",
     "output_type": "stream",
     "text": [
      "Epoch: 01, Loss: 0.7210\n",
      "Epoch: 02, Loss: 0.5750\n",
      "Epoch: 03, Loss: 0.5514\n",
      "Epoch: 04, Loss: 0.5408\n",
      "Epoch: 05, Loss: 0.5258, Val: 0.4729, Test: 0.4717\n",
      "Epoch: 06, Loss: 0.5109\n",
      "Epoch: 07, Loss: 0.4999\n",
      "Epoch: 08, Loss: 0.4820\n",
      "Epoch: 09, Loss: 0.4672\n",
      "Epoch: 10, Loss: 0.4574, Val: 0.6195, Test: 0.6231\n",
      "Epoch: 11, Loss: 0.4476\n",
      "Epoch: 12, Loss: 0.4339\n",
      "Epoch: 13, Loss: 0.4198\n",
      "Epoch: 14, Loss: 0.4090\n",
      "Epoch: 15, Loss: 0.4008, Val: 0.6139, Test: 0.6299\n",
      "Epoch: 16, Loss: 0.3836\n",
      "Epoch: 17, Loss: 0.3700\n",
      "Epoch: 18, Loss: 0.3587\n",
      "Epoch: 19, Loss: 0.3477\n",
      "Epoch: 20, Loss: 0.3314, Val: 0.7530, Test: 0.7672\n",
      "Epoch: 21, Loss: 0.3187\n",
      "Epoch: 22, Loss: 0.3043\n",
      "Epoch: 23, Loss: 0.2890\n",
      "Epoch: 24, Loss: 0.2812\n",
      "Epoch: 25, Loss: 0.2689, Val: 0.8008, Test: 0.8170\n",
      "Epoch: 26, Loss: 0.2542\n",
      "Epoch: 27, Loss: 0.2389\n",
      "Epoch: 28, Loss: 0.2261\n",
      "Epoch: 29, Loss: 0.2142\n",
      "Epoch: 30, Loss: 0.1997, Val: 0.8631, Test: 0.8836\n",
      "Epoch: 31, Loss: 0.1888\n",
      "Epoch: 32, Loss: 0.1767\n",
      "Epoch: 33, Loss: 0.1628\n",
      "Epoch: 34, Loss: 0.1524\n",
      "Epoch: 35, Loss: 0.1421, Val: 0.9083, Test: 0.9265\n",
      "Epoch: 36, Loss: 0.1303\n",
      "Epoch: 37, Loss: 0.1215\n",
      "Epoch: 38, Loss: 0.1149\n",
      "Epoch: 39, Loss: 0.1103\n",
      "Epoch: 40, Loss: 0.1009, Val: 0.9423, Test: 0.9587\n",
      "Epoch: 41, Loss: 0.0945\n",
      "Epoch: 42, Loss: 0.0889\n",
      "Epoch: 43, Loss: 0.0833\n",
      "Epoch: 44, Loss: 0.0776\n",
      "Epoch: 45, Loss: 0.0724, Val: 0.9602, Test: 0.9746\n",
      "Epoch: 46, Loss: 0.0686\n",
      "Epoch: 47, Loss: 0.0646\n",
      "Epoch: 48, Loss: 0.0602\n",
      "Epoch: 49, Loss: 0.0587\n",
      "Epoch: 50, Loss: 0.0557, Val: 0.9683, Test: 0.9809\n"
     ]
    }
   ],
   "source": [
    "loss_list = []; val_list = []; test_list = []\n",
    "for epoch in range(1, 51):\n",
    "    loss = train()\n",
    "    loss_list.append(loss)\n",
    "    if epoch % 5 == 0:\n",
    "        val_f1 = test(val_loader); test_f1 = test(test_loader)\n",
    "        val_list.append(val_f1); test_list.append(test_f1)\n",
    "        print(f'Epoch: {epoch:02d}, Loss: {loss:.4f}, Val: {val_f1:.4f}, Test: {test_f1:.4f}')\n",
    "    else:\n",
    "        print(f'Epoch: {epoch:02d}, Loss: {loss:.4f}')"
   ]
  },
  {
   "cell_type": "code",
   "execution_count": 29,
   "metadata": {
    "ExecuteTime": {
     "end_time": "2021-07-01T15:29:17.298237Z",
     "start_time": "2021-07-01T15:29:17.074372Z"
    }
   },
   "outputs": [
    {
     "data": {
      "image/png": "[encoded data removed]",
      "text/plain": [
       "<Figure size 1296x288 with 3 Axes>"
      ]
     },
     "metadata": {
      "needs_background": "light"
     },
     "output_type": "display_data"
    }
   ],
   "source": [
    "plt.figure(figsize=(18,4))\n",
    "plt.subplot(1,3,1);plt.plot(loss_list);plt.title('loss')\n",
    "plt.subplot(1,3,2);plt.plot(val_list);plt.title('val f1')\n",
    "plt.subplot(1,3,3);plt.plot(test_list);plt.title('test f1')                    \n",
    "plt.show()"
   ]
  },
  {
   "cell_type": "markdown",
   "metadata": {},
   "source": [
    "**小结**：忘记监控资源消耗了。目前从分数上看，应该簇越少拟合的越快。主要是数据比较小，可能使用Reddit会更明显。"
   ]
  }
 ],
 "metadata": {
  "kernelspec": {
   "display_name": "Python 3",
   "language": "python",
   "name": "python3"
  },
  "language_info": {
   "codemirror_mode": {
    "name": "ipython",
    "version": 3
   },
   "file_extension": ".py",
   "mimetype": "text/x-python",
   "name": "python",
   "nbconvert_exporter": "python",
   "pygments_lexer": "ipython3",
   "version": "3.7.0"
  },
  "nbTranslate": {
   "displayLangs": [
    "*"
   ],
   "hotkey": "alt-t",
   "langInMainMenu": true,
   "sourceLang": "en",
   "targetLang": "fr",
   "useGoogleTranslate": true
  },
  "toc": {
   "base_numbering": 1,
   "nav_menu": {},
   "number_sections": true,
   "sideBar": true,
   "skip_h1_title": true,
   "title_cell": "Table of Contents",
   "title_sidebar": "Contents",
   "toc_cell": false,
   "toc_position": {
    "height": "calc(100% - 180px)",
    "left": "10px",
    "top": "150px",
    "width": "289.275px"
   },
   "toc_section_display": true,
   "toc_window_display": true
  },
  "varInspector": {
   "cols": {
    "lenName": 16,
    "lenType": 16,
    "lenVar": 40
   },
   "kernels_config": {
    "python": {
     "delete_cmd_postfix": "",
     "delete_cmd_prefix": "del ",
     "library": "var_list.py",
     "varRefreshCmd": "print(var_dic_list())"
    },
    "r": {
     "delete_cmd_postfix": ") ",
     "delete_cmd_prefix": "rm(",
     "library": "var_list.r",
     "varRefreshCmd": "cat(var_dic_list()) "
    }
   },
   "types_to_exclude": [
    "module",
    "function",
    "builtin_function_or_method",
    "instance",
    "_Feature"
   ],
   "window_display": false
  }
 },
 "nbformat": 4,
 "nbformat_minor": 2
}
