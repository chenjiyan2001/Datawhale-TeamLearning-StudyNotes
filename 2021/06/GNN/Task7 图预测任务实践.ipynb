{
 "cells": [
  {
   "cell_type": "markdown",
   "metadata": {},
   "source": [
    "**前言**：本节内容是 [Datawhale六月组队学习 - 图神经网络- Task7 图预测任务实践](https://github.com/datawhalechina/team-learning-nlp/tree/master/GNN/Markdown%E7%89%88%E6%9C%AC) 的学习笔记，学习周期4天"
   ]
  },
  {
   "cell_type": "markdown",
   "metadata": {},
   "source": [
    "### 基础准备"
   ]
  },
  {
   "cell_type": "code",
   "execution_count": 6,
   "metadata": {
    "ExecuteTime": {
     "end_time": "2021-07-09T17:11:07.717364Z",
     "start_time": "2021-07-09T17:11:07.699667Z"
    }
   },
   "outputs": [],
   "source": [
    "import torch\n",
    "from torch_geometric.data import Data, DataLoader, Batch"
   ]
  },
  {
   "cell_type": "markdown",
   "metadata": {},
   "source": [
    "### 超大规模数据集类的创建\n",
    "&emsp;&emsp;在一些应用场景中，数据集规模超级大，我们很难有足够大的内存完全存下所有数据。因此需要一个按需加载样本到内存的数据集类。主要是使用**图样本封装成批（BATCHING）**的方式来实现，好处有:\n",
    "- 不需要修改GNN算法\n",
    "- 没有额外计算或内存开|销"
   ]
  },
  {
   "cell_type": "markdown",
   "metadata": {},
   "source": [
    "#### 图的匹配（Pairs of Graphs）"
   ]
  },
  {
   "cell_type": "code",
   "execution_count": 7,
   "metadata": {
    "ExecuteTime": {
     "end_time": "2021-07-09T17:11:09.889603Z",
     "start_time": "2021-07-09T17:11:09.880583Z"
    }
   },
   "outputs": [],
   "source": [
    "class PairData(Data):\n",
    "    def __init__(self, edge_index_s, x_s, edge_index_t, x_t):\n",
    "        super(PairData, self).__init__()\n",
    "        self.edge_index_s = edge_index_s\n",
    "        self.x_s = x_s\n",
    "        self.edge_index_t = edge_index_t\n",
    "        self.x_t = x_t\n",
    "\n",
    "    def __inc__(self, key, value):\n",
    "        if key == 'edge_index_s':\n",
    "            return self.x_s.size(0)\n",
    "        if key == 'edge_index_t':\n",
    "            return self.x_t.size(0)\n",
    "        else:\n",
    "            return super().__inc__(key, value)"
   ]
  },
  {
   "cell_type": "code",
   "execution_count": 8,
   "metadata": {
    "ExecuteTime": {
     "end_time": "2021-07-09T17:11:10.634872Z",
     "start_time": "2021-07-09T17:11:10.625897Z"
    }
   },
   "outputs": [
    {
     "name": "stdout",
     "output_type": "stream",
     "text": [
      "Batch(edge_index_s=[2, 8], edge_index_t=[2, 6], x_s=[10, 16], x_s_batch=[10], x_t=[8, 16], x_t_batch=[8])\n",
      "tensor([0, 0, 0, 0, 0, 1, 1, 1, 1, 1])\n",
      "tensor([0, 0, 0, 0, 1, 1, 1, 1])\n"
     ]
    }
   ],
   "source": [
    "edge_index_s = torch.tensor([\n",
    "    [0, 0, 0, 0],\n",
    "    [1, 2, 3, 4],\n",
    "])\n",
    "x_s = torch.randn(5, 16)  # 5 nodes.\n",
    "edge_index_t = torch.tensor([\n",
    "    [0, 0, 0],\n",
    "    [1, 2, 3],\n",
    "])\n",
    "x_t = torch.randn(4, 16)  # 4 nodes.\n",
    "data = PairData(edge_index_s, x_s, edge_index_t, x_t)\n",
    "data_list = [data, data]\n",
    "\n",
    "loader = DataLoader(data_list, batch_size=2, follow_batch=['x_s', 'x_t'])\n",
    "batch = next(iter(loader))\n",
    "\n",
    "print(batch)\n",
    "print(batch.x_s_batch)\n",
    "print(batch.x_t_batch)"
   ]
  },
  {
   "cell_type": "markdown",
   "metadata": {},
   "source": [
    "#### 二部图（Bipartite Graphs）"
   ]
  },
  {
   "cell_type": "code",
   "execution_count": 9,
   "metadata": {
    "ExecuteTime": {
     "end_time": "2021-07-09T17:11:50.313432Z",
     "start_time": "2021-07-09T17:11:50.298473Z"
    }
   },
   "outputs": [],
   "source": [
    "class BipartiteData(Data):\n",
    "    def __init__(self, edge_index, x_s, x_t):\n",
    "        super(BipartiteData, self).__init__()\n",
    "        self.edge_index = edge_index\n",
    "        self.x_s = x_s\n",
    "        self.x_t = x_t\n",
    "   \n",
    "    def __inc__(self, key, value):\n",
    "        if key == 'edge_index':\n",
    "            return torch.tensor([[self.x_s.size(0)], [self.x_t.size(0)]])\n",
    "        else:\n",
    "            return super().__inc__(key, value)"
   ]
  },
  {
   "cell_type": "code",
   "execution_count": 10,
   "metadata": {
    "ExecuteTime": {
     "end_time": "2021-07-09T17:11:50.926654Z",
     "start_time": "2021-07-09T17:11:50.906707Z"
    }
   },
   "outputs": [
    {
     "name": "stderr",
     "output_type": "stream",
     "text": [
      "WARNING:root:The number of nodes in your data object can only be inferred by its edge indices, and hence may result in unexpected batch-wise behavior, e.g., in case there exists isolated nodes. Please consider explicitly setting the number of nodes for this data object by assigning it to data.num_nodes.\n",
      "WARNING:root:The number of nodes in your data object can only be inferred by its edge indices, and hence may result in unexpected batch-wise behavior, e.g., in case there exists isolated nodes. Please consider explicitly setting the number of nodes for this data object by assigning it to data.num_nodes.\n"
     ]
    },
    {
     "name": "stdout",
     "output_type": "stream",
     "text": [
      "Batch(batch=[6], edge_index=[2, 8], ptr=[3], x_s=[4, 16], x_t=[6, 16])\n",
      "tensor([[0, 0, 1, 1, 2, 2, 3, 3],\n",
      "        [0, 1, 1, 2, 3, 4, 4, 5]])\n"
     ]
    }
   ],
   "source": [
    "edge_index = torch.tensor([\n",
    "    [0, 0, 1, 1],\n",
    "    [0, 1, 1, 2],\n",
    "])\n",
    "x_s = torch.randn(2, 16)  # 2 nodes.\n",
    "x_t = torch.randn(3, 16)  # 3 nodes.\n",
    "\n",
    "data = BipartiteData(edge_index, x_s, x_t)\n",
    "data_list = [data, data]\n",
    "loader = DataLoader(data_list, batch_size=2)\n",
    "batch = next(iter(loader))\n",
    "\n",
    "print(batch)\n",
    "print(batch.edge_index)"
   ]
  },
  {
   "cell_type": "markdown",
   "metadata": {},
   "source": [
    "#### 在新的维度上做拼接"
   ]
  },
  {
   "cell_type": "code",
   "execution_count": 11,
   "metadata": {
    "ExecuteTime": {
     "end_time": "2021-07-09T17:12:33.905898Z",
     "start_time": "2021-07-09T17:12:33.887947Z"
    }
   },
   "outputs": [],
   "source": [
    " class MyData(Data):\n",
    "     def __cat_dim__(self, key, item):\n",
    "         if key == 'foo':\n",
    "             return None\n",
    "         else:\n",
    "             return super().__cat_dim__(key, item)"
   ]
  },
  {
   "cell_type": "code",
   "execution_count": 12,
   "metadata": {
    "ExecuteTime": {
     "end_time": "2021-07-09T17:12:36.048385Z",
     "start_time": "2021-07-09T17:12:36.025446Z"
    }
   },
   "outputs": [
    {
     "name": "stderr",
     "output_type": "stream",
     "text": [
      "WARNING:root:The number of nodes in your data object can only be inferred by its edge indices, and hence may result in unexpected batch-wise behavior, e.g., in case there exists isolated nodes. Please consider explicitly setting the number of nodes for this data object by assigning it to data.num_nodes.\n",
      "WARNING:root:The number of nodes in your data object can only be inferred by its edge indices, and hence may result in unexpected batch-wise behavior, e.g., in case there exists isolated nodes. Please consider explicitly setting the number of nodes for this data object by assigning it to data.num_nodes.\n",
      "WARNING:root:The number of nodes in your data object can only be inferred by its edge indices, and hence may result in unexpected batch-wise behavior, e.g., in case there exists isolated nodes. Please consider explicitly setting the number of nodes for this data object by assigning it to data.num_nodes.\n",
      "WARNING:root:The number of nodes in your data object can only be inferred by its edge indices, and hence may result in unexpected batch-wise behavior, e.g., in case there exists isolated nodes. Please consider explicitly setting the number of nodes for this data object by assigning it to data.num_nodes.\n"
     ]
    },
    {
     "name": "stdout",
     "output_type": "stream",
     "text": [
      "Batch(batch=[6], edge_index=[2, 8], foo=[2, 16], ptr=[3])\n"
     ]
    }
   ],
   "source": [
    "edge_index = torch.tensor([\n",
    "   [0, 1, 1, 2],\n",
    "   [1, 0, 2, 1],\n",
    "])\n",
    "foo = torch.randn(16)\n",
    "\n",
    "data = MyData(edge_index=edge_index, foo=foo)\n",
    "data_list = [data, data]\n",
    "loader = DataLoader(data_list, batch_size=2)\n",
    "batch = next(iter(loader))\n",
    "\n",
    "print(batch)\n",
    "# Batch(edge_index=[2, 8], foo=[2, 16])"
   ]
  },
  {
   "cell_type": "markdown",
   "metadata": {},
   "source": [
    "### 作业\n",
    "- 请小伙伴们进行不同超参数的试验，通过观察不同试验的过程与结果信息的差别分析不同超参数对图预测任务的影响。"
   ]
  },
  {
   "cell_type": "markdown",
   "metadata": {},
   "source": [
    "由于运行比较耗时，在我的机器上运行预计需要59*10min，因此我对超参数做了一定的调整来节省时间：\n",
    "- batch_size 512 -> 128\n",
    "- epochs 100 -> 20\n",
    "- num_workers 4 -> 8  \n",
    "\n",
    "经调整后预计需要20*20min。"
   ]
  },
  {
   "cell_type": "markdown",
   "metadata": {},
   "source": [
    "正在运行..."
   ]
  },
  {
   "cell_type": "code",
   "execution_count": null,
   "metadata": {},
   "outputs": [],
   "source": []
  }
 ],
 "metadata": {
  "kernelspec": {
   "display_name": "Python 3",
   "language": "python",
   "name": "python3"
  },
  "language_info": {
   "codemirror_mode": {
    "name": "ipython",
    "version": 3
   },
   "file_extension": ".py",
   "mimetype": "text/x-python",
   "name": "python",
   "nbconvert_exporter": "python",
   "pygments_lexer": "ipython3",
   "version": "3.7.0"
  },
  "nbTranslate": {
   "displayLangs": [
    "*"
   ],
   "hotkey": "alt-t",
   "langInMainMenu": true,
   "sourceLang": "en",
   "targetLang": "fr",
   "useGoogleTranslate": true
  },
  "toc": {
   "base_numbering": 1,
   "nav_menu": {},
   "number_sections": true,
   "sideBar": true,
   "skip_h1_title": true,
   "title_cell": "Table of Contents",
   "title_sidebar": "Contents",
   "toc_cell": false,
   "toc_position": {},
   "toc_section_display": true,
   "toc_window_display": false
  },
  "varInspector": {
   "cols": {
    "lenName": 16,
    "lenType": 16,
    "lenVar": 40
   },
   "kernels_config": {
    "python": {
     "delete_cmd_postfix": "",
     "delete_cmd_prefix": "del ",
     "library": "var_list.py",
     "varRefreshCmd": "print(var_dic_list())"
    },
    "r": {
     "delete_cmd_postfix": ") ",
     "delete_cmd_prefix": "rm(",
     "library": "var_list.r",
     "varRefreshCmd": "cat(var_dic_list()) "
    }
   },
   "types_to_exclude": [
    "module",
    "function",
    "builtin_function_or_method",
    "instance",
    "_Feature"
   ],
   "window_display": false
  }
 },
 "nbformat": 4,
 "nbformat_minor": 2
}
