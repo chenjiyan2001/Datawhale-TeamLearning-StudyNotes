{
 "cells": [
  {
   "cell_type": "markdown",
   "metadata": {},
   "source": [
    "**前言**：本节内容是 [Datawhale六月组队学习 - 图神经网络- Task4 数据完整存储于内存的数据集类+节点预测与边预测实践](https://github.com/datawhalechina/team-learning-nlp/tree/master/GNN/Markdown%E7%89%88%E6%9C%AC) 的学习笔记，学习周期4天"
   ]
  },
  {
   "cell_type": "markdown",
   "metadata": {},
   "source": [
    "### 基础准备"
   ]
  },
  {
   "cell_type": "code",
   "execution_count": 23,
   "metadata": {
    "ExecuteTime": {
     "end_time": "2021-06-27T09:45:51.892080Z",
     "start_time": "2021-06-27T09:45:51.882107Z"
    }
   },
   "outputs": [],
   "source": [
    "import os.path as osp\n",
    "\n",
    "import torch\n",
    "from torch.nn import ReLU, Linear\n",
    "import torch.nn.functional as F\n",
    "from sklearn.metrics import roc_auc_score\n",
    "\n",
    "from torch_geometric.utils import train_test_split_edges, negative_sampling\n",
    "from torch_geometric.datasets import Planetoid\n",
    "import torch_geometric.transforms as T\n",
    "from torch_geometric.nn import GCNConv, GATConv, Sequential, SAGEConv\n",
    "\n",
    "import matplotlib.pyplot as plt"
   ]
  },
  {
   "cell_type": "markdown",
   "metadata": {},
   "source": [
    "训练和测试用到的函数"
   ]
  },
  {
   "cell_type": "code",
   "execution_count": 2,
   "metadata": {
    "ExecuteTime": {
     "end_time": "2021-06-27T08:42:12.210910Z",
     "start_time": "2021-06-27T08:42:12.196401Z"
    }
   },
   "outputs": [],
   "source": [
    "def result(train, test, epoch=501):\n",
    "    train_loss = []\n",
    "    train_acc = [];test_acc=[]\n",
    "    for i in range(1, epoch):\n",
    "        loss, acc = train()\n",
    "        train_loss.append(loss)\n",
    "        train_acc.append(acc)\n",
    "        if i % 20 == 0:\n",
    "            print('[Epoch {}/{}] Loss {:.4f}, train acc {:.4f}'.format(i, epoch-1, loss, acc))\n",
    "            acc = test()\n",
    "            test_acc.append(acc)\n",
    "            print('Accuracy: {:.4f}'.format(acc))\n",
    "        \n",
    "    return (train_loss, train_acc, test_acc)"
   ]
  },
  {
   "cell_type": "markdown",
   "metadata": {},
   "source": [
    "### InMemoryDataset基类和实例\n",
    "```python\n",
    "class InMemoryDataset(root: Optional[str] = None, transform: Optional[Callable] = None, pre_transform: Optional[Callable] = None, pre_filter: Optional[Callable] = None)\n",
    "```"
   ]
  },
  {
   "cell_type": "code",
   "execution_count": 3,
   "metadata": {
    "ExecuteTime": {
     "end_time": "2021-06-27T08:42:12.382375Z",
     "start_time": "2021-06-27T08:42:12.368439Z"
    }
   },
   "outputs": [],
   "source": [
    "import os.path as osp\n",
    "\n",
    "import torch\n",
    "from torch_geometric.data import (InMemoryDataset, download_url)\n",
    "from torch_geometric.io import read_planetoid_data\n",
    "\n",
    "class PlanetoidPubMed(InMemoryDataset):\n",
    "    r\"\"\" 节点代表文章，边代表引用关系。\n",
    "   \t\t 训练、验证和测试的划分通过二进制掩码给出。\n",
    "    参数:\n",
    "        root (string): 存储数据集的文件夹的路径\n",
    "        transform (callable, optional): 数据转换函数，每一次获取数据时被调用。\n",
    "        pre_transform (callable, optional): 数据转换函数，数据保存到文件前被调用。\n",
    "    \"\"\"\n",
    "\n",
    "    url = 'https://github.com/kimiyoung/planetoid/raw/master/data'\n",
    "\n",
    "    def __init__(self, root, transform=None, pre_transform=None):\n",
    "        super(PlanetoidPubMed, self).__init__(root, transform, pre_transform)\n",
    "        self.data, self.slices = torch.load(self.processed_paths[0])\n",
    "\n",
    "    @property\n",
    "    def raw_dir(self):\n",
    "        return osp.join(self.root, 'raw')\n",
    "\n",
    "    @property\n",
    "    def processed_dir(self):\n",
    "        return osp.join(self.root, 'processed')\n",
    "\n",
    "    @property\n",
    "    def raw_file_names(self):\n",
    "        names = ['x', 'tx', 'allx', 'y', 'ty', 'ally', 'graph', 'test.index']\n",
    "        return ['ind.pubmed.{}'.format(name) for name in names]\n",
    "\n",
    "    @property\n",
    "    def processed_file_names(self):\n",
    "        return 'data.pt'\n",
    "\n",
    "    def download(self):\n",
    "        for name in self.raw_file_names:\n",
    "            download_url('{}/{}'.format(self.url, name), self.raw_dir)\n",
    "\n",
    "    def process(self):\n",
    "        data = read_planetoid_data(self.raw_dir, 'pubmed')\n",
    "        data = data if self.pre_transform is None else self.pre_transform(data)\n",
    "        torch.save(self.collate([data]), self.processed_paths[0])\n",
    "\n",
    "    def __repr__(self):\n",
    "        return '{}()'.format(self.name)"
   ]
  },
  {
   "cell_type": "code",
   "execution_count": 4,
   "metadata": {
    "ExecuteTime": {
     "end_time": "2021-06-27T08:42:12.568322Z",
     "start_time": "2021-06-27T08:42:12.538360Z"
    }
   },
   "outputs": [
    {
     "name": "stdout",
     "output_type": "stream",
     "text": [
      "num_classes:\t 3\n",
      "num_nodes:\t 19717\n",
      "num_edges:\t 88648\n",
      "num_features:\t 500\n"
     ]
    }
   ],
   "source": [
    "dataset = PlanetoidPubMed('dataset/PlanetoidPubMed')\n",
    "print('num_classes:\\t', dataset.num_classes)\n",
    "print('num_nodes:\\t', dataset[0].num_nodes)\n",
    "print('num_edges:\\t', dataset[0].num_edges)\n",
    "print('num_features:\\t', dataset[0].num_features)"
   ]
  },
  {
   "cell_type": "markdown",
   "metadata": {},
   "source": [
    "### 节点预测实践"
   ]
  },
  {
   "cell_type": "code",
   "execution_count": 5,
   "metadata": {
    "ExecuteTime": {
     "end_time": "2021-06-27T08:42:29.605479Z",
     "start_time": "2021-06-27T08:42:29.587500Z"
    }
   },
   "outputs": [],
   "source": [
    "class GAT(torch.nn.Module):\n",
    "    def __init__(self, num_features, hidden_channels_list, num_classes):\n",
    "        super(GAT, self).__init__()\n",
    "        torch.manual_seed(12345)\n",
    "        hns = [num_features] + hidden_channels_list\n",
    "        conv_list = []\n",
    "        for idx in range(len(hidden_channels_list)):\n",
    "            conv_list.append((GATConv(hns[idx], hns[idx+1]), 'x, edge_index -> x'))\n",
    "            conv_list.append(ReLU(inplace=True),)\n",
    "\n",
    "        self.convseq = Sequential('x, edge_index', conv_list)\n",
    "        self.linear = Linear(hidden_channels_list[-1], num_classes)\n",
    "\n",
    "    def forward(self, x, edge_index):\n",
    "        x = self.convseq(x, edge_index)\n",
    "        x = F.dropout(x, p=0.5, training=self.training)\n",
    "        x = self.linear(x)\n",
    "        return x"
   ]
  },
  {
   "cell_type": "code",
   "execution_count": 9,
   "metadata": {
    "ExecuteTime": {
     "end_time": "2021-06-27T09:05:03.718631Z",
     "start_time": "2021-06-27T09:05:03.692701Z"
    }
   },
   "outputs": [
    {
     "name": "stdout",
     "output_type": "stream",
     "text": [
      "GAT(\n",
      "  (convseq): Sequential(\n",
      "    (0): GATConv(500, 200, heads=1)\n",
      "    (1): ReLU(inplace=True)\n",
      "    (2): GATConv(200, 100, heads=1)\n",
      "    (3): ReLU(inplace=True)\n",
      "  )\n",
      "  (linear): Linear(in_features=100, out_features=3, bias=True)\n",
      ")\n"
     ]
    }
   ],
   "source": [
    "hidden_channels_list = [200, 100]\n",
    "model = GAT(num_features=dataset[0].num_features,\n",
    "            hidden_channels_list=hidden_channels_list,\n",
    "            num_classes=dataset.num_classes)\n",
    "print(model)\n",
    "optimizer = torch.optim.Adam(model.parameters(), lr=0.01, weight_decay=5e-4)\n",
    "criterion = torch.nn.CrossEntropyLoss()\n",
    "\n",
    "data = dataset[0]\n",
    "def train():\n",
    "    model.train()\n",
    "    optimizer.zero_grad()  # Clear gradients.\n",
    "    out = model(data.x, data.edge_index)  # Perform a single forward pass.\n",
    "    loss = criterion(out[data.train_mask], data.y[data.train_mask]\n",
    "                     )  # Compute the loss solely based on the training nodes.\n",
    "    loss.backward()  # Derive gradients.\n",
    "    pred = out.argmax(dim=1)\n",
    "    correct = float(pred[data.train_mask].eq(\n",
    "        data.y[data.train_mask]).sum().item())\n",
    "    acc = correct / data.train_mask.sum().item()\n",
    "    optimizer.step()  # Update parameters based on gradients.\n",
    "    return loss.cpu().detach().data.item(), acc\n",
    "\n",
    "\n",
    "def test():\n",
    "    model.eval()\n",
    "    out = model(data.x, data.edge_index)\n",
    "    pred = out.argmax(dim=1)  # Use the class with highest probability.\n",
    "    test_correct = pred[data.test_mask] == data.y[\n",
    "        data.test_mask]  # Check against ground-truth labels.\n",
    "    test_acc = int(test_correct.sum()) / int(\n",
    "        data.test_mask.sum())  # Derive ratio of correct predictions.\n",
    "    return test_acc"
   ]
  },
  {
   "cell_type": "code",
   "execution_count": 10,
   "metadata": {
    "ExecuteTime": {
     "end_time": "2021-06-27T09:17:00.289406Z",
     "start_time": "2021-06-27T09:05:12.436040Z"
    }
   },
   "outputs": [
    {
     "name": "stdout",
     "output_type": "stream",
     "text": [
      "[Epoch 20/500] Loss 0.0157, train acc 1.0000\n",
      "Accuracy: 0.7640\n",
      "[Epoch 40/500] Loss 0.0093, train acc 1.0000\n",
      "Accuracy: 0.7460\n",
      "[Epoch 60/500] Loss 0.0177, train acc 1.0000\n",
      "Accuracy: 0.7620\n",
      "[Epoch 80/500] Loss 0.0132, train acc 1.0000\n",
      "Accuracy: 0.7530\n",
      "[Epoch 100/500] Loss 0.0078, train acc 1.0000\n",
      "Accuracy: 0.7620\n",
      "[Epoch 120/500] Loss 0.0115, train acc 1.0000\n",
      "Accuracy: 0.7520\n",
      "[Epoch 140/500] Loss 0.0091, train acc 1.0000\n",
      "Accuracy: 0.7440\n",
      "[Epoch 160/500] Loss 0.0084, train acc 1.0000\n",
      "Accuracy: 0.7630\n",
      "[Epoch 180/500] Loss 0.0036, train acc 1.0000\n",
      "Accuracy: 0.7200\n",
      "[Epoch 200/500] Loss 0.0050, train acc 1.0000\n",
      "Accuracy: 0.7440\n",
      "[Epoch 220/500] Loss 0.0107, train acc 1.0000\n",
      "Accuracy: 0.7530\n",
      "[Epoch 240/500] Loss 0.0054, train acc 1.0000\n",
      "Accuracy: 0.7520\n",
      "[Epoch 260/500] Loss 0.0033, train acc 1.0000\n",
      "Accuracy: 0.7530\n",
      "[Epoch 280/500] Loss 0.0054, train acc 1.0000\n",
      "Accuracy: 0.7370\n",
      "[Epoch 300/500] Loss 0.0042, train acc 1.0000\n",
      "Accuracy: 0.7490\n",
      "[Epoch 320/500] Loss 0.0036, train acc 1.0000\n",
      "Accuracy: 0.7430\n",
      "[Epoch 340/500] Loss 0.0041, train acc 1.0000\n",
      "Accuracy: 0.7430\n",
      "[Epoch 360/500] Loss 0.0027, train acc 1.0000\n",
      "Accuracy: 0.7630\n",
      "[Epoch 380/500] Loss 0.0034, train acc 1.0000\n",
      "Accuracy: 0.7250\n",
      "[Epoch 400/500] Loss 0.0031, train acc 1.0000\n",
      "Accuracy: 0.7420\n",
      "[Epoch 420/500] Loss 0.0056, train acc 1.0000\n",
      "Accuracy: 0.7500\n",
      "[Epoch 440/500] Loss 0.0065, train acc 1.0000\n",
      "Accuracy: 0.7520\n",
      "[Epoch 460/500] Loss 0.0051, train acc 1.0000\n",
      "Accuracy: 0.7170\n",
      "[Epoch 480/500] Loss 0.0029, train acc 1.0000\n",
      "Accuracy: 0.7150\n",
      "[Epoch 500/500] Loss 0.0040, train acc 1.0000\n",
      "Accuracy: 0.7170\n",
      "Wall time: 11min 47s\n"
     ]
    }
   ],
   "source": [
    "%time (train_loss, train_acc, test_acc) = result(train, test)"
   ]
  },
  {
   "cell_type": "code",
   "execution_count": 11,
   "metadata": {
    "ExecuteTime": {
     "end_time": "2021-06-27T09:19:12.599839Z",
     "start_time": "2021-06-27T09:19:12.359490Z"
    }
   },
   "outputs": [
    {
     "data": {
      "image/png": "[encoded data removed]",
      "text/plain": [
       "<Figure size 1296x288 with 3 Axes>"
      ]
     },
     "metadata": {
      "needs_background": "light"
     },
     "output_type": "display_data"
    }
   ],
   "source": [
    "plt.figure(figsize=(18,4))\n",
    "plt.subplot(1,3,1);plt.plot(train_loss);plt.title('loss')\n",
    "plt.subplot(1,3,2);plt.plot(train_acc);plt.title('train acc')\n",
    "plt.subplot(1,3,3);plt.plot(test_acc);plt.title('test acc')                    \n",
    "plt.show()"
   ]
  },
  {
   "cell_type": "markdown",
   "metadata": {},
   "source": [
    "### 边预测实践"
   ]
  },
  {
   "cell_type": "markdown",
   "metadata": {},
   "source": [
    "取得数据"
   ]
  },
  {
   "cell_type": "code",
   "execution_count": 13,
   "metadata": {
    "ExecuteTime": {
     "end_time": "2021-06-27T09:20:36.696604Z",
     "start_time": "2021-06-27T09:20:36.384472Z"
    }
   },
   "outputs": [
    {
     "name": "stdout",
     "output_type": "stream",
     "text": [
      "torch.Size([2, 10556])\n",
      "x:\ttorch.Size([2708, 1433])\n",
      "val_pos_edge_index:\ttorch.Size([2, 263])\n",
      "test_pos_edge_index:\ttorch.Size([2, 527])\n",
      "train_pos_edge_index:\ttorch.Size([2, 8976])\n",
      "train_neg_adj_mask:\ttorch.Size([2708, 2708])\n",
      "val_neg_edge_index:\ttorch.Size([2, 263])\n",
      "test_neg_edge_index:\ttorch.Size([2, 527])\n"
     ]
    }
   ],
   "source": [
    "dataset = Planetoid('dataset/Cora', 'Cora', transform=T.NormalizeFeatures())\n",
    "data = dataset[0]\n",
    "data.train_mask = data.val_mask = data.test_mask = data.y = None # 不再有用\n",
    "\n",
    "print(data.edge_index.shape)\n",
    "\n",
    "data = train_test_split_edges(data) # 自动地采样得到负样本，并将正负样本分成训练集、验证集和测试集三个集合\n",
    "\n",
    "for key in data.keys:\n",
    "    print('{}:\\t{}'.format(key, getattr(data, key).shape))"
   ]
  },
  {
   "cell_type": "markdown",
   "metadata": {},
   "source": [
    "构建网络"
   ]
  },
  {
   "cell_type": "code",
   "execution_count": 14,
   "metadata": {
    "ExecuteTime": {
     "end_time": "2021-06-27T09:20:41.350923Z",
     "start_time": "2021-06-27T09:20:41.339931Z"
    }
   },
   "outputs": [],
   "source": [
    "class Net(torch.nn.Module):\n",
    "    def __init__(self, in_channels, out_channels):\n",
    "        super(Net, self).__init__()\n",
    "        self.conv1 = GCNConv(in_channels, 128)\n",
    "        self.conv2 = GCNConv(128, out_channels)\n",
    "\n",
    "    def encode(self, x, edge_index): # 编码，生成节点表征\n",
    "        x = self.conv1(x, edge_index)\n",
    "        x = x.relu()\n",
    "        return self.conv2(x, edge_index)\n",
    "\n",
    "    def decode(self, z, pos_edge_index, neg_edge_index): # 解码，为真的几率\n",
    "        edge_index = torch.cat([pos_edge_index, neg_edge_index], dim=-1)\n",
    "        return (z[edge_index[0]] * z[edge_index[1]]).sum(dim=-1)\n",
    "\n",
    "    def decode_all(self, z): # inference\n",
    "        prob_adj = z @ z.t()\n",
    "        return (prob_adj > 0).nonzero(as_tuple=False).t()"
   ]
  },
  {
   "cell_type": "code",
   "execution_count": 15,
   "metadata": {
    "ExecuteTime": {
     "end_time": "2021-06-27T09:20:42.144604Z",
     "start_time": "2021-06-27T09:20:42.133633Z"
    }
   },
   "outputs": [],
   "source": [
    "def get_link_labels(pos_edge_index, neg_edge_index):\n",
    "    num_links = pos_edge_index.size(1) + neg_edge_index.size(1)\n",
    "    link_labels = torch.zeros(num_links, dtype=torch.float)\n",
    "    link_labels[:pos_edge_index.size(1)] = 1.\n",
    "    return link_labels"
   ]
  },
  {
   "cell_type": "code",
   "execution_count": 13,
   "metadata": {
    "ExecuteTime": {
     "end_time": "2021-06-27T07:19:47.319805Z",
     "start_time": "2021-06-27T07:19:47.300534Z"
    }
   },
   "outputs": [],
   "source": [
    "# 定义训练函数\n",
    "def train(data, model, optimizer):\n",
    "    model.train()\n",
    "\n",
    "    neg_edge_index = negative_sampling(\n",
    "        edge_index=data.train_pos_edge_index,\n",
    "        num_nodes=data.num_nodes,\n",
    "        num_neg_samples=data.train_pos_edge_index.size(1))\n",
    "\n",
    "    optimizer.zero_grad()\n",
    "    z = model.encode(data.x, data.train_pos_edge_index)\n",
    "    link_logits = model.decode(z, data.train_pos_edge_index, neg_edge_index)\n",
    "    link_labels = get_link_labels(data.train_pos_edge_index, neg_edge_index).to(data.x.device)\n",
    "    loss = F.binary_cross_entropy_with_logits(link_logits, link_labels)\n",
    "    loss.backward()\n",
    "    optimizer.step()\n",
    "\n",
    "    return loss"
   ]
  },
  {
   "cell_type": "code",
   "execution_count": 6,
   "metadata": {
    "ExecuteTime": {
     "end_time": "2021-06-27T05:38:19.095629Z",
     "start_time": "2021-06-27T05:38:19.083660Z"
    }
   },
   "outputs": [],
   "source": [
    "# 定义测试函数\n",
    "@torch.no_grad()\n",
    "def test(data, model):\n",
    "    model.eval()\n",
    "\n",
    "    z = model.encode(data.x, data.train_pos_edge_index)\n",
    "\n",
    "    results = []\n",
    "    for prefix in ['val', 'test']:\n",
    "        pos_edge_index = data[f'{prefix}_pos_edge_index']\n",
    "        neg_edge_index = data[f'{prefix}_neg_edge_index']\n",
    "        link_logits = model.decode(z, pos_edge_index, neg_edge_index)\n",
    "        link_probs = link_logits.sigmoid()\n",
    "        link_labels = get_link_labels(pos_edge_index, neg_edge_index)\n",
    "        results.append(roc_auc_score(link_labels.cpu(), link_probs.cpu()))\n",
    "    return results"
   ]
  },
  {
   "cell_type": "code",
   "execution_count": 29,
   "metadata": {
    "ExecuteTime": {
     "end_time": "2021-06-27T07:38:32.277274Z",
     "start_time": "2021-06-27T07:38:11.509229Z"
    },
    "collapsed": true
   },
   "outputs": [
    {
     "name": "stdout",
     "output_type": "stream",
     "text": [
      "[Epoch: 020/1000], Loss: 0.6577, Val: 0.7376, Test: 0.7832\n",
      "[Epoch: 040/1000], Loss: 0.5237, Val: 0.8493, Test: 0.8395\n",
      "[Epoch: 060/1000], Loss: 0.4745, Val: 0.8997, Test: 0.8943\n",
      "[Epoch: 080/1000], Loss: 0.4587, Val: 0.9096, Test: 0.9053\n",
      "[Epoch: 100/1000], Loss: 0.4448, Val: 0.9228, Test: 0.9185\n",
      "[Epoch: 120/1000], Loss: 0.4344, Val: 0.9301, Test: 0.9263\n",
      "[Epoch: 140/1000], Loss: 0.4307, Val: 0.9255, Test: 0.9257\n",
      "[Epoch: 160/1000], Loss: 0.4266, Val: 0.9221, Test: 0.9257\n",
      "[Epoch: 180/1000], Loss: 0.4181, Val: 0.9247, Test: 0.9257\n",
      "[Epoch: 200/1000], Loss: 0.4087, Val: 0.9267, Test: 0.9257\n",
      "[Epoch: 220/1000], Loss: 0.4102, Val: 0.9302, Test: 0.9257\n",
      "[Epoch: 240/1000], Loss: 0.4135, Val: 0.9318, Test: 0.9266\n",
      "[Epoch: 260/1000], Loss: 0.4078, Val: 0.9358, Test: 0.9285\n",
      "[Epoch: 280/1000], Loss: 0.4067, Val: 0.9323, Test: 0.9285\n",
      "[Epoch: 300/1000], Loss: 0.3999, Val: 0.9368, Test: 0.9274\n",
      "[Epoch: 320/1000], Loss: 0.4023, Val: 0.9350, Test: 0.9287\n",
      "[Epoch: 340/1000], Loss: 0.3981, Val: 0.9339, Test: 0.9287\n",
      "[Epoch: 360/1000], Loss: 0.3954, Val: 0.9360, Test: 0.9287\n",
      "[Epoch: 380/1000], Loss: 0.3985, Val: 0.9364, Test: 0.9287\n",
      "[Epoch: 400/1000], Loss: 0.3932, Val: 0.9371, Test: 0.9287\n",
      "[Epoch: 420/1000], Loss: 0.3970, Val: 0.9381, Test: 0.9244\n",
      "[Epoch: 440/1000], Loss: 0.3929, Val: 0.9386, Test: 0.9228\n",
      "[Epoch: 460/1000], Loss: 0.3949, Val: 0.9351, Test: 0.9228\n",
      "[Epoch: 480/1000], Loss: 0.3960, Val: 0.9365, Test: 0.9228\n",
      "[Epoch: 500/1000], Loss: 0.3875, Val: 0.9343, Test: 0.9228\n",
      "[Epoch: 520/1000], Loss: 0.3876, Val: 0.9357, Test: 0.9228\n",
      "[Epoch: 540/1000], Loss: 0.3896, Val: 0.9353, Test: 0.9228\n",
      "[Epoch: 560/1000], Loss: 0.3916, Val: 0.9342, Test: 0.9228\n",
      "[Epoch: 580/1000], Loss: 0.3883, Val: 0.9373, Test: 0.9228\n",
      "[Epoch: 600/1000], Loss: 0.3875, Val: 0.9377, Test: 0.9228\n",
      "[Epoch: 620/1000], Loss: 0.3868, Val: 0.9380, Test: 0.9228\n",
      "[Epoch: 640/1000], Loss: 0.3867, Val: 0.9362, Test: 0.9183\n",
      "[Epoch: 660/1000], Loss: 0.3854, Val: 0.9354, Test: 0.9183\n",
      "[Epoch: 680/1000], Loss: 0.3876, Val: 0.9359, Test: 0.9183\n",
      "[Epoch: 700/1000], Loss: 0.3822, Val: 0.9386, Test: 0.9129\n",
      "[Epoch: 720/1000], Loss: 0.3816, Val: 0.9351, Test: 0.9137\n",
      "[Epoch: 740/1000], Loss: 0.3843, Val: 0.9332, Test: 0.9137\n",
      "[Epoch: 760/1000], Loss: 0.3836, Val: 0.9294, Test: 0.9137\n",
      "[Epoch: 780/1000], Loss: 0.3832, Val: 0.9302, Test: 0.9137\n",
      "[Epoch: 800/1000], Loss: 0.3823, Val: 0.9343, Test: 0.9137\n",
      "[Epoch: 820/1000], Loss: 0.3865, Val: 0.9340, Test: 0.9137\n",
      "[Epoch: 840/1000], Loss: 0.3842, Val: 0.9301, Test: 0.9137\n",
      "[Epoch: 860/1000], Loss: 0.3843, Val: 0.9294, Test: 0.9137\n",
      "[Epoch: 880/1000], Loss: 0.3778, Val: 0.9288, Test: 0.9137\n",
      "[Epoch: 900/1000], Loss: 0.3764, Val: 0.9271, Test: 0.9137\n",
      "[Epoch: 920/1000], Loss: 0.3801, Val: 0.9243, Test: 0.9137\n",
      "[Epoch: 940/1000], Loss: 0.3784, Val: 0.9217, Test: 0.9137\n",
      "[Epoch: 960/1000], Loss: 0.3771, Val: 0.9221, Test: 0.9137\n",
      "[Epoch: 980/1000], Loss: 0.3787, Val: 0.9283, Test: 0.9137\n"
     ]
    }
   ],
   "source": [
    "def main(epoch=101):\n",
    "    device = torch.device('cuda' if torch.cuda.is_available() else 'cpu')\n",
    "    \n",
    "    dataset = 'Cora'\n",
    "    path = 'dataset/Cora'\n",
    "    dataset = Planetoid(path, dataset, transform=T.NormalizeFeatures())\n",
    "    data = dataset[0]\n",
    "    ground_truth_edge_index = data.edge_index.to(device)\n",
    "    data.train_mask = data.val_mask = data.test_mask = data.y = None\n",
    "    data = train_test_split_edges(data)\n",
    "    data = data.to(device)\n",
    "\n",
    "    model = Net(dataset.num_features, 64).to(device)\n",
    "    optimizer = torch.optim.Adam(params=model.parameters(), lr=0.01)\n",
    "\n",
    "    best_val_auc = test_auc = 0; train_loss = []; val_list = []; tmp_test_list=[]; test_list=[]\n",
    "    for i in range(1, epoch):\n",
    "        loss = train(data, model, optimizer)\n",
    "        val_auc, tmp_test_auc = test(data, model)\n",
    "        if val_auc > best_val_auc:\n",
    "            best_val_auc = val_auc\n",
    "            test_auc = tmp_test_auc\n",
    "        train_loss.append(loss); val_list.append(val_auc)\n",
    "        tmp_test_list.append(tmp_test_auc); test_list.append(test_auc)\n",
    "        if i % 20 == 0:\n",
    "            print(f'[Epoch: {i:03d}/{epoch}], Loss: {loss:.4f}, Val: {val_auc:.4f}, '\n",
    "                  f'Test: {test_auc:.4f}')\n",
    "    \n",
    "    z = model.encode(data.x, data.train_pos_edge_index)\n",
    "    final_edge_index = model.decode_all(z)\n",
    "    return train_loss, val_list, tmp_test_list, test_list\n",
    "\n",
    "if __name__ == \"__main__\":\n",
    "    train_loss, val_list, tmp_test_list, test_list = main(epoch=1000)"
   ]
  },
  {
   "cell_type": "code",
   "execution_count": 31,
   "metadata": {
    "ExecuteTime": {
     "end_time": "2021-06-27T07:38:40.753989Z",
     "start_time": "2021-06-27T07:38:40.521165Z"
    }
   },
   "outputs": [
    {
     "data": {
      "image/png": "[encoded data removed]",
      "text/plain": [
       "<Figure size 1296x288 with 3 Axes>"
      ]
     },
     "metadata": {
      "needs_background": "light"
     },
     "output_type": "display_data"
    }
   ],
   "source": [
    "# 简单可视化\n",
    "plt.figure(figsize=(18,4))\n",
    "plt.subplot(1,3,1);plt.plot(train_loss)\n",
    "plt.subplot(1,3,2);plt.plot(val_list)\n",
    "plt.subplot(1,3,3);plt.plot(tmp_test_list);plt.plot(test_list)\n",
    "plt.show()"
   ]
  },
  {
   "cell_type": "markdown",
   "metadata": {},
   "source": [
    "### 作业"
   ]
  },
  {
   "cell_type": "markdown",
   "metadata": {},
   "source": [
    "#### 实践问题一\n",
    "&emsp;&emsp;尝试使用PyG中的不同的网络层去代替GCNConv，以及不同的层数和不同的out_channels，来实现节点分类任务。"
   ]
  },
  {
   "cell_type": "code",
   "execution_count": 36,
   "metadata": {
    "ExecuteTime": {
     "end_time": "2021-06-27T09:50:08.366053Z",
     "start_time": "2021-06-27T09:50:08.355118Z"
    }
   },
   "outputs": [],
   "source": [
    "# 由于不太了解其他的网络层，主要参考了本期学员博客使用的SAGEConv\n",
    "# 地址：https://www.yuque.com/pretender-xkbwx/vxvg55/gpon5t#64e6bda1"
   ]
  },
  {
   "cell_type": "code",
   "execution_count": 29,
   "metadata": {
    "ExecuteTime": {
     "end_time": "2021-06-27T09:48:23.029441Z",
     "start_time": "2021-06-27T09:48:23.010499Z"
    }
   },
   "outputs": [],
   "source": [
    "# 网络结构\n",
    "class SAGE(torch.nn.Module):\n",
    "    def __init__(self, num_features, hidden_channels_list, num_classes):\n",
    "        super(SAGE, self).__init__()\n",
    "        torch.manual_seed(12345)\n",
    "        hns = [num_features] + hidden_channels_list\n",
    "        conv_list = []\n",
    "        for idx in range(len(hidden_channels_list)):\n",
    "            conv_list.append((SAGEConv(hns[idx], hns[idx+1]), 'x, edge_index -> x'))\n",
    "            conv_list.append(ReLU(inplace=True), )  # inplace表示是否将得到的值计算得到的值覆盖之前的值\n",
    "\n",
    "        self.convseq = Sequential('x, edge_index', conv_list)\n",
    "        self.linear = Linear(hidden_channels_list[-1], num_classes)\n",
    "\n",
    "    def forward(self, x, edge_index):\n",
    "        x = self.convseq(x, edge_index)\n",
    "        x = F.dropout(x, p=0.5, training=self.training)\n",
    "        x = self.linear(x)\n",
    "        return x"
   ]
  },
  {
   "cell_type": "code",
   "execution_count": 33,
   "metadata": {
    "ExecuteTime": {
     "end_time": "2021-06-27T09:49:30.581617Z",
     "start_time": "2021-06-27T09:49:30.521776Z"
    }
   },
   "outputs": [
    {
     "name": "stdout",
     "output_type": "stream",
     "text": [
      "SAGE(\n",
      "  (convseq): Sequential(\n",
      "    (0): SAGEConv(1433, 200)\n",
      "    (1): ReLU(inplace=True)\n",
      "    (2): SAGEConv(200, 100)\n",
      "    (3): ReLU(inplace=True)\n",
      "    (4): SAGEConv(100, 64)\n",
      "    (5): ReLU(inplace=True)\n",
      "  )\n",
      "  (linear): Linear(in_features=64, out_features=7, bias=True)\n",
      ")\n"
     ]
    }
   ],
   "source": [
    "hidden_channels_list = [200, 100, 64]\n",
    "model = SAGE(num_features=dataset[0].num_features,\n",
    "            hidden_channels_list=hidden_channels_list,\n",
    "            num_classes=dataset.num_classes)\n",
    "print(model)\n",
    "optimizer = torch.optim.Adam(model.parameters(), lr=0.01, weight_decay=5e-4)\n",
    "criterion = torch.nn.CrossEntropyLoss()\n",
    "\n",
    "data = dataset[0]\n",
    "def train():\n",
    "    model.train()\n",
    "    optimizer.zero_grad()  # Clear gradients.\n",
    "    out = model(data.x, data.edge_index)  # Perform a single forward pass.\n",
    "    loss = criterion(out[data.train_mask], data.y[data.train_mask]\n",
    "                     )  # Compute the loss solely based on the training nodes.\n",
    "    loss.backward()  # Derive gradients.\n",
    "    pred = out.argmax(dim=1)\n",
    "    correct = float(pred[data.train_mask].eq(\n",
    "        data.y[data.train_mask]).sum().item())\n",
    "    acc = correct / data.train_mask.sum().item()\n",
    "    optimizer.step()  # Update parameters based on gradients.\n",
    "    return loss.cpu().detach().data.item(), acc\n",
    "\n",
    "\n",
    "def test():\n",
    "    model.eval()\n",
    "    out = model(data.x, data.edge_index)\n",
    "    pred = out.argmax(dim=1)  # Use the class with highest probability.\n",
    "    test_correct = pred[data.test_mask] == data.y[\n",
    "        data.test_mask]  # Check against ground-truth labels.\n",
    "    test_acc = int(test_correct.sum()) / int(\n",
    "        data.test_mask.sum())  # Derive ratio of correct predictions.\n",
    "    return test_acc"
   ]
  },
  {
   "cell_type": "code",
   "execution_count": 34,
   "metadata": {
    "ExecuteTime": {
     "end_time": "2021-06-27T09:49:58.308580Z",
     "start_time": "2021-06-27T09:49:31.280009Z"
    }
   },
   "outputs": [
    {
     "name": "stdout",
     "output_type": "stream",
     "text": [
      "[Epoch 20/100] Loss 0.2657, train acc 0.9143\n",
      "Accuracy: 0.7330\n",
      "[Epoch 40/100] Loss 0.0768, train acc 0.9786\n",
      "Accuracy: 0.7280\n",
      "[Epoch 60/100] Loss 0.0343, train acc 1.0000\n",
      "Accuracy: 0.6940\n",
      "[Epoch 80/100] Loss 0.0397, train acc 0.9857\n",
      "Accuracy: 0.7120\n",
      "[Epoch 100/100] Loss 0.0139, train acc 1.0000\n",
      "Accuracy: 0.7600\n",
      "Wall time: 27 s\n"
     ]
    }
   ],
   "source": [
    "%time (train_loss, train_acc, test_acc) = result(train, test, epoch=101)"
   ]
  },
  {
   "cell_type": "code",
   "execution_count": 37,
   "metadata": {
    "ExecuteTime": {
     "end_time": "2021-06-27T09:50:12.606159Z",
     "start_time": "2021-06-27T09:50:11.989763Z"
    }
   },
   "outputs": [
    {
     "data": {
      "image/png": "[encoded data removed]",
      "text/plain": [
       "<Figure size 1296x288 with 3 Axes>"
      ]
     },
     "metadata": {
      "needs_background": "light"
     },
     "output_type": "display_data"
    }
   ],
   "source": [
    "plt.figure(figsize=(18,4))\n",
    "plt.subplot(1,3,1);plt.plot(train_loss);plt.title('loss')\n",
    "plt.subplot(1,3,2);plt.plot(train_acc);plt.title('train acc')\n",
    "plt.subplot(1,3,3);plt.plot(test_acc);plt.title('test acc')                    \n",
    "plt.show()"
   ]
  },
  {
   "cell_type": "markdown",
   "metadata": {},
   "source": [
    "#### 实践问题二\n",
    "&emsp;&emsp;在边预测任务中，尝试用torch_geometric.nn.Sequential容器构造图神经网络。"
   ]
  },
  {
   "cell_type": "code",
   "execution_count": 39,
   "metadata": {
    "ExecuteTime": {
     "end_time": "2021-06-27T09:52:39.011800Z",
     "start_time": "2021-06-27T09:52:39.002790Z"
    }
   },
   "outputs": [],
   "source": [
    "class Net(torch.nn.Module):\n",
    "    def __init__(self, in_channels, hidden_channnels_list, out_channels):\n",
    "        super(Net, self).__init__()\n",
    "        torch.manual_seed(12345)\n",
    "        hns = [in_channels] + hidden_channnels_list\n",
    "        conv_list = []\n",
    "        \n",
    "        for idx in range(len(hidden_channnels_list)-1):\n",
    "            conv_list.append((GCNConv(hns[idx], hns[idx+1]), 'x, edge_index -> x'))\n",
    "            conv_list.append(ReLU(inplace=True), )\n",
    "        conv_list.append((GCNConv(hns[-2], hns[-1]), 'x, edge_index -> x'))\n",
    "\n",
    "        self.convseq = Sequential('x, edge_index', conv_list)\n",
    "\n",
    "    def encode(self, x, edge_index):\n",
    "        return self.convseq(x, edge_index)\n",
    "\n",
    "    def decode(self, z, pos_edge_index, neg_edge_index):\n",
    "        edge_index = torch.cat([pos_edge_index, neg_edge_index], dim=-1)\n",
    "        return (z[edge_index[0]] * z[edge_index[1]]).sum(dim=-1)\n",
    "\n",
    "    def decode_all(self, z):\n",
    "        prob_adj = z @ z.t()\n",
    "        return (prob_adj > 0).nonzero(as_tuple=False).t()"
   ]
  },
  {
   "cell_type": "code",
   "execution_count": 43,
   "metadata": {
    "ExecuteTime": {
     "end_time": "2021-06-27T09:54:41.729449Z",
     "start_time": "2021-06-27T09:54:41.718478Z"
    }
   },
   "outputs": [],
   "source": [
    "# 定义训练函数\n",
    "def train(data, model, optimizer):\n",
    "    model.train()\n",
    "\n",
    "    neg_edge_index = negative_sampling(\n",
    "        edge_index=data.train_pos_edge_index,\n",
    "        num_nodes=data.num_nodes,\n",
    "        num_neg_samples=data.train_pos_edge_index.size(1))\n",
    "\n",
    "    optimizer.zero_grad()\n",
    "    z = model.encode(data.x, data.train_pos_edge_index)\n",
    "    link_logits = model.decode(z, data.train_pos_edge_index, neg_edge_index)\n",
    "    link_labels = get_link_labels(data.train_pos_edge_index, neg_edge_index).to(data.x.device)\n",
    "    loss = F.binary_cross_entropy_with_logits(link_logits, link_labels)\n",
    "    loss.backward()\n",
    "    optimizer.step()\n",
    "\n",
    "    return loss"
   ]
  },
  {
   "cell_type": "code",
   "execution_count": 44,
   "metadata": {
    "ExecuteTime": {
     "end_time": "2021-06-27T09:54:51.673758Z",
     "start_time": "2021-06-27T09:54:51.660793Z"
    }
   },
   "outputs": [],
   "source": [
    "# 定义测试函数\n",
    "@torch.no_grad()\n",
    "def test(data, model):\n",
    "    model.eval()\n",
    "\n",
    "    z = model.encode(data.x, data.train_pos_edge_index)\n",
    "\n",
    "    results = []\n",
    "    for prefix in ['val', 'test']:\n",
    "        pos_edge_index = data[f'{prefix}_pos_edge_index']\n",
    "        neg_edge_index = data[f'{prefix}_neg_edge_index']\n",
    "        link_logits = model.decode(z, pos_edge_index, neg_edge_index)\n",
    "        link_probs = link_logits.sigmoid()\n",
    "        link_labels = get_link_labels(pos_edge_index, neg_edge_index)\n",
    "        results.append(roc_auc_score(link_labels.cpu(), link_probs.cpu()))\n",
    "    return results"
   ]
  },
  {
   "cell_type": "code",
   "execution_count": 45,
   "metadata": {
    "ExecuteTime": {
     "end_time": "2021-06-27T09:55:19.250067Z",
     "start_time": "2021-06-27T09:55:16.262374Z"
    }
   },
   "outputs": [
    {
     "name": "stdout",
     "output_type": "stream",
     "text": [
      "[Epoch: 020/100], Loss: 0.5524, Val: 0.8499, Test: 0.7965\n",
      "[Epoch: 040/100], Loss: 0.4731, Val: 0.9028, Test: 0.8668\n",
      "[Epoch: 060/100], Loss: 0.4521, Val: 0.9169, Test: 0.8885\n",
      "[Epoch: 080/100], Loss: 0.4353, Val: 0.9193, Test: 0.8957\n"
     ]
    }
   ],
   "source": [
    "def main(epoch=101):\n",
    "    device = torch.device('cuda' if torch.cuda.is_available() else 'cpu')\n",
    "    \n",
    "    dataset = 'Cora'\n",
    "    path = 'dataset/Cora'\n",
    "    dataset = Planetoid(path, dataset, transform=T.NormalizeFeatures())\n",
    "    data = dataset[0]\n",
    "    ground_truth_edge_index = data.edge_index.to(device)\n",
    "    data.train_mask = data.val_mask = data.test_mask = data.y = None\n",
    "    data = train_test_split_edges(data)\n",
    "    data = data.to(device)\n",
    "\n",
    "    model = Net(dataset.num_features, [200, 100], 64).to(device)\n",
    "    optimizer = torch.optim.Adam(params=model.parameters(), lr=0.01)\n",
    "\n",
    "    best_val_auc = test_auc = 0; train_loss = []; val_list = []; tmp_test_list=[]; test_list=[]\n",
    "    for i in range(1, epoch):\n",
    "        loss = train(data, model, optimizer)\n",
    "        val_auc, tmp_test_auc = test(data, model)\n",
    "        if val_auc > best_val_auc:\n",
    "            best_val_auc = val_auc\n",
    "            test_auc = tmp_test_auc\n",
    "        train_loss.append(loss); val_list.append(val_auc)\n",
    "        tmp_test_list.append(tmp_test_auc); test_list.append(test_auc)\n",
    "        if i % 20 == 0:\n",
    "            print(f'[Epoch: {i:03d}/{epoch}], Loss: {loss:.4f}, Val: {val_auc:.4f}, '\n",
    "                  f'Test: {test_auc:.4f}')\n",
    "    \n",
    "    z = model.encode(data.x, data.train_pos_edge_index)\n",
    "    final_edge_index = model.decode_all(z)\n",
    "    return train_loss, val_list, tmp_test_list, test_list\n",
    "\n",
    "if __name__ == \"__main__\":\n",
    "    train_loss, val_list, tmp_test_list, test_list = main(epoch=100)"
   ]
  },
  {
   "cell_type": "code",
   "execution_count": 46,
   "metadata": {
    "ExecuteTime": {
     "end_time": "2021-06-27T09:55:34.262339Z",
     "start_time": "2021-06-27T09:55:34.040922Z"
    }
   },
   "outputs": [
    {
     "data": {
      "image/png": "[encoded data removed]",
      "text/plain": [
       "<Figure size 1296x288 with 3 Axes>"
      ]
     },
     "metadata": {
      "needs_background": "light"
     },
     "output_type": "display_data"
    }
   ],
   "source": [
    "# 简单可视化\n",
    "plt.figure(figsize=(18,4))\n",
    "plt.subplot(1,3,1);plt.plot(train_loss)\n",
    "plt.subplot(1,3,2);plt.plot(val_list)\n",
    "plt.subplot(1,3,3);plt.plot(tmp_test_list);plt.plot(test_list)\n",
    "plt.show()"
   ]
  },
  {
   "cell_type": "markdown",
   "metadata": {},
   "source": [
    "#### 思考问题三\n",
    "&emsp;&emsp;如下方代码所示，我们以data.train_pos_edge_index为实际参数来进行训练集负样本采样，但这样采样得到的负样本可能包含一些验证集的正样本与测试集的正样本，即可能将真实的正样本标记为负样本，由此会产生冲突。但我们还是这么做，这是为什么？\n",
    "```python\n",
    "neg_edge_index = negative_sampling(\n",
    "    edge_index=data.train_pos_edge_index,\n",
    "    num_nodes=data.num_nodes,\n",
    "    num_neg_samples=data.train_pos_edge_index.size(1))\n",
    "```"
   ]
  },
  {
   "cell_type": "markdown",
   "metadata": {
    "ExecuteTime": {
     "end_time": "2021-06-27T09:31:09.616583Z",
     "start_time": "2021-06-27T09:31:09.565721Z"
    }
   },
   "source": [
    "negative_sampling源码：\n",
    "```python\n",
    "def negative_sampling(edge_index, num_nodes=None, num_neg_samples=None,\n",
    "                      method=\"sparse\", force_undirected=False):\n",
    "    r\"\"\"Samples random negative edges of a graph given by :attr:`edge_index`.\n",
    "\n",
    "    Args:\n",
    "        edge_index (LongTensor): The edge indices.\n",
    "        num_nodes (int, optional): The number of nodes, *i.e.*\n",
    "            :obj:`max_val + 1` of :attr:`edge_index`. (default: :obj:`None`)\n",
    "        num_neg_samples (int, optional): The (approximate) number of negative\n",
    "            samples to return. If set to :obj:`None`, will try to return a\n",
    "            negative edge for every positive edge. (default: :obj:`None`)\n",
    "        method (string, optional): The method to use for negative sampling,\n",
    "            *i.e.*, :obj:`\"sparse\"` or :obj:`\"dense\"`.\n",
    "            This is a memory/runtime trade-off.\n",
    "            :obj:`\"sparse\"` will work on any graph of any size, while\n",
    "            :obj:`\"dense\"` can perform faster true-negative checks.\n",
    "            (default: :obj:`\"sparse\"`)\n",
    "        force_undirected (bool, optional): If set to :obj:`True`, sampled\n",
    "            negative edges will be undirected. (default: :obj:`False`)\n",
    "\n",
    "    :rtype: LongTensor\n",
    "    \"\"\"\n",
    "\n",
    "    num_nodes = maybe_num_nodes(edge_index, num_nodes)\n",
    "    num_neg_samples = num_neg_samples or edge_index.size(1)\n",
    "\n",
    "    # Handle '|V|^2 - |E| < |E|'.\n",
    "    size = num_nodes * num_nodes\n",
    "    num_neg_samples = min(num_neg_samples, size - edge_index.size(1))\n",
    "\n",
    "    row, col = edge_index\n",
    "\n",
    "    if force_undirected:\n",
    "        num_neg_samples = num_neg_samples // 2\n",
    "\n",
    "        # Upper triangle indices: N + ... + 1 = N (N + 1) / 2\n",
    "        size = (num_nodes * (num_nodes + 1)) // 2\n",
    "\n",
    "        # Remove edges in the lower triangle matrix.\n",
    "        mask = row <= col\n",
    "        row, col = row[mask], col[mask]\n",
    "\n",
    "        # idx = N * i + j - i * (i+1) / 2\n",
    "        idx = row * num_nodes + col - row * (row + 1) // 2\n",
    "    else:\n",
    "        idx = row * num_nodes + col\n",
    "\n",
    "    # Percentage of edges to oversample so that we are save to only sample once\n",
    "    # (in most cases).\n",
    "    alpha = abs(1 / (1 - 1.1 * (edge_index.size(1) / size)))\n",
    "\n",
    "    if method == 'dense':\n",
    "        mask = edge_index.new_ones(size, dtype=torch.bool)\n",
    "        mask[idx] = False\n",
    "        mask = mask.view(-1)\n",
    "\n",
    "        perm = sample(size, int(alpha * num_neg_samples),\n",
    "                      device=edge_index.device)\n",
    "        perm = perm[mask[perm]][:num_neg_samples]\n",
    "\n",
    "    else:\n",
    "        perm = sample(size, int(alpha * num_neg_samples))\n",
    "        mask = torch.from_numpy(np.isin(perm, idx.to('cpu'))).to(torch.bool)\n",
    "        perm = perm[~mask][:num_neg_samples].to(edge_index.device)\n",
    "\n",
    "    if force_undirected:\n",
    "        # (-sqrt((2 * N + 1)^2 - 8 * perm) + 2 * N + 1) / 2\n",
    "        row = torch.floor((-torch.sqrt((2. * num_nodes + 1.)**2 - 8. * perm) +\n",
    "                           2 * num_nodes + 1) / 2)\n",
    "        col = perm - row * (2 * num_nodes - row - 1) // 2\n",
    "        neg_edge_index = torch.stack([row, col], dim=0).long()\n",
    "        neg_edge_index = to_undirected(neg_edge_index)\n",
    "    else:\n",
    "        row = perm // num_nodes\n",
    "        col = perm % num_nodes\n",
    "        neg_edge_index = torch.stack([row, col], dim=0).long()\n",
    "\n",
    "    return neg_edge_index\n",
    "```"
   ]
  },
  {
   "cell_type": "markdown",
   "metadata": {},
   "source": [
    "&emsp;&emsp;（其实并不是特别理解为什么会出现题目所述的情况。。）按照题目所述，我认为在‘采样得到的负样本可能包含一些验证集的正样本与测试集的正样本’情况出现的比例比较小时，实际上反而能提高模型的泛化性能。虽然这部分是‘不正确’的负采样，但是可以减轻模型的过拟合现象。如果‘不正确’的比例较小，联想‘随机梯度下降能够生效’这一结论，我觉得少量‘不正确’的数据部分对模型效果的影响也比较有限，但在极端情况下，应该能够有效的缓解模型过拟合。"
   ]
  },
  {
   "cell_type": "code",
   "execution_count": null,
   "metadata": {},
   "outputs": [],
   "source": []
  }
 ],
 "metadata": {
  "kernelspec": {
   "display_name": "Python 3",
   "language": "python",
   "name": "python3"
  },
  "language_info": {
   "codemirror_mode": {
    "name": "ipython",
    "version": 3
   },
   "file_extension": ".py",
   "mimetype": "text/x-python",
   "name": "python",
   "nbconvert_exporter": "python",
   "pygments_lexer": "ipython3",
   "version": "3.7.0"
  },
  "nbTranslate": {
   "displayLangs": [
    "*"
   ],
   "hotkey": "alt-t",
   "langInMainMenu": true,
   "sourceLang": "en",
   "targetLang": "fr",
   "useGoogleTranslate": true
  },
  "toc": {
   "base_numbering": 1,
   "nav_menu": {},
   "number_sections": true,
   "sideBar": true,
   "skip_h1_title": true,
   "title_cell": "Table of Contents",
   "title_sidebar": "Contents",
   "toc_cell": false,
   "toc_position": {
    "height": "calc(100% - 180px)",
    "left": "10px",
    "top": "150px",
    "width": "289.275px"
   },
   "toc_section_display": true,
   "toc_window_display": true
  },
  "varInspector": {
   "cols": {
    "lenName": 16,
    "lenType": 16,
    "lenVar": 40
   },
   "kernels_config": {
    "python": {
     "delete_cmd_postfix": "",
     "delete_cmd_prefix": "del ",
     "library": "var_list.py",
     "varRefreshCmd": "print(var_dic_list())"
    },
    "r": {
     "delete_cmd_postfix": ") ",
     "delete_cmd_prefix": "rm(",
     "library": "var_list.r",
     "varRefreshCmd": "cat(var_dic_list()) "
    }
   },
   "types_to_exclude": [
    "module",
    "function",
    "builtin_function_or_method",
    "instance",
    "_Feature"
   ],
   "window_display": false
  }
 },
 "nbformat": 4,
 "nbformat_minor": 2
}
