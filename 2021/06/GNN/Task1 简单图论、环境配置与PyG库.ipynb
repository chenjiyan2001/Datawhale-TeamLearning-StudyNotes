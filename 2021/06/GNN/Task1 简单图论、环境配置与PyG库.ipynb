{
 "cells": [
  {
   "cell_type": "markdown",
   "metadata": {},
   "source": [
    "## 环境配置"
   ]
  },
  {
   "cell_type": "markdown",
   "metadata": {},
   "source": [
    "### 本地安装whl"
   ]
  },
  {
   "cell_type": "markdown",
   "metadata": {},
   "source": [
    "前往网站下载对应的版本↓  \n",
    "**pytorch**:https://download.pytorch.org/whl/torch_stable.html  \n",
    "**pytorch-geometric**:https://pytorch-geometric.com/whl/  \n",
    "在对应路径下打开cmd，使用pip install进行本地安装。  "
   ]
  },
  {
   "cell_type": "markdown",
   "metadata": {},
   "source": [
    "### 配置时遇到的问题"
   ]
  },
  {
   "cell_type": "markdown",
   "metadata": {},
   "source": [
    "#### 下载pytorch时网络不稳定使得下载失败"
   ]
  },
  {
   "cell_type": "markdown",
   "metadata": {},
   "source": [
    "前往下载对应的whl文件，再本地安装后解决。"
   ]
  },
  {
   "cell_type": "markdown",
   "metadata": {},
   "source": [
    "#### 导入时torch_cluster、torch_geometric、torch_scatter、torch_sparse、torch_spline_conv报错\n",
    "OSError: [WinError 127] 找不到指定的程序。"
   ]
  },
  {
   "cell_type": "markdown",
   "metadata": {},
   "source": [
    "发现是下载的版本与pytorch版本不一致。前往[https://pytorch-geometric.com/whl/](https://pytorch-geometric.com/whl/)下载对应的whl文件后解决。"
   ]
  },
  {
   "cell_type": "markdown",
   "metadata": {},
   "source": [
    "### 配置完成"
   ]
  },
  {
   "cell_type": "code",
   "execution_count": null,
   "metadata": {
    "ExecuteTime": {
     "end_time": "2021-06-15T03:19:58.257732Z",
     "start_time": "2021-06-15T03:19:58.245764Z"
    }
   },
   "outputs": [],
   "source": [
    "import torch\n",
    "import torch_cluster\n",
    "import torch_geometric\n",
    "import torch_scatter\n",
    "import torch_sparse\n",
    "import torch_spline_conv"
   ]
  },
  {
   "cell_type": "code",
   "execution_count": 23,
   "metadata": {
    "ExecuteTime": {
     "end_time": "2021-06-15T03:35:11.354317Z",
     "start_time": "2021-06-15T03:35:11.346938Z"
    }
   },
   "outputs": [
    {
     "name": "stdout",
     "output_type": "stream",
     "text": [
      "cuda: \t\t\t True\n",
      "version: \t\t 1.8.1+cu101\n",
      "cuda.version: \t\t 10.1\n",
      "torch_cluster: \t\t 1.5.9\n",
      "torch_geometric:\t 1.7.0\n",
      "torch_scatter:\t\t 2.0.7\n",
      "torch_sparse:\t\t 0.6.9\n",
      "torch_spline_conv:\t 1.2.1\n"
     ]
    }
   ],
   "source": [
    "print('cuda: \\t\\t\\t',torch.cuda.is_available())\n",
    "print('version: \\t\\t', torch.__version__)\n",
    "print('cuda.version: \\t\\t', torch.version.cuda)\n",
    "print('torch_cluster: \\t\\t', torch_cluster.__version__)\n",
    "print('torch_geometric:\\t', torch_geometric.__version__)\n",
    "print('torch_scatter:\\t\\t', torch_scatter.__version__)\n",
    "print('torch_sparse:\\t\\t', torch_sparse.__version__)\n",
    "print('torch_spline_conv:\\t', torch_spline_conv.__version__)"
   ]
  },
  {
   "cell_type": "markdown",
   "metadata": {},
   "source": [
    "## PyG"
   ]
  },
  {
   "cell_type": "markdown",
   "metadata": {},
   "source": [
    "### Data对象\n",
    "官方文档:[torch_geometric.data.Data](https://pytorch-geometric.readthedocs.io/en/latest/modules/data.html#torch_geometric.data.Data)"
   ]
  },
  {
   "cell_type": "code",
   "execution_count": 18,
   "metadata": {
    "ExecuteTime": {
     "end_time": "2021-06-15T13:14:23.582449Z",
     "start_time": "2021-06-15T13:14:23.571478Z"
    }
   },
   "outputs": [],
   "source": [
    "class Data(object):\n",
    "\n",
    "    def __init__(self, x=None, edge_index=None, edge_attr=None, y=None, **kwargs):\n",
    "        r\"\"\"\n",
    "        Args:\n",
    "            x (Tensor, optional): 节点属性矩阵，大小为`[num_nodes, num_node_features]`\n",
    "            edge_index (LongTensor, optional): 边索引矩阵，大小为`[2, num_edges]`，第0行为尾节点，第1行为头节点，头指向尾\n",
    "            edge_attr (Tensor, optional): 边属性矩阵，大小为`[num_edges, num_edge_features]`\n",
    "            y (Tensor, optional): 节点或图的标签，任意大小（，其实也可以是边的标签）\n",
    "        \"\"\"\n",
    "        self.x = x\n",
    "        self.edge_index = edge_index\n",
    "        self.edge_attr = edge_attr\n",
    "        self.y = y\n",
    "\n",
    "        for key, item in kwargs.items():\n",
    "            if key == 'num_nodes':\n",
    "                self.__num_nodes__ = item\n",
    "            else:\n",
    "                self[key] = item"
   ]
  },
  {
   "cell_type": "code",
   "execution_count": 44,
   "metadata": {
    "ExecuteTime": {
     "end_time": "2021-06-15T03:52:18.930826Z",
     "start_time": "2021-06-15T03:52:18.912997Z"
    }
   },
   "outputs": [
    {
     "data": {
      "text/plain": [
       "<__main__.Data at 0x2364568f208>"
      ]
     },
     "execution_count": 44,
     "metadata": {},
     "output_type": "execute_result"
    }
   ],
   "source": [
    "Data()"
   ]
  },
  {
   "cell_type": "code",
   "execution_count": 31,
   "metadata": {
    "ExecuteTime": {
     "end_time": "2021-06-15T03:42:05.701126Z",
     "start_time": "2021-06-15T03:42:05.671499Z"
    }
   },
   "outputs": [
    {
     "name": "stdout",
     "output_type": "stream",
     "text": [
      "Data(edge_index=[2, 156], train_mask=[34], x=[34, 34], y=[34])\n",
      "==============================================================\n",
      "Number of nodes: 34\n",
      "Number of edges: 156\n",
      "Number of node features: 34\n",
      "Number of node features: 34\n",
      "Number of edge features: 0\n",
      "Average node degree: 4.59\n",
      "if edge indices are ordered and do not contain duplicate entries.: True\n",
      "Number of training nodes: 4\n",
      "Training node label rate: 0.12\n",
      "Contains isolated nodes: False\n",
      "Contains self-loops: False\n",
      "Is undirected: True\n"
     ]
    }
   ],
   "source": [
    "from torch_geometric.datasets import KarateClub\n",
    "\n",
    "dataset = KarateClub()\n",
    "data = dataset[0]  # Get the first graph object.\n",
    "print(data)\n",
    "print('==============================================================')\n",
    "\n",
    "# 获取图的一些信息\n",
    "print(f'Number of nodes: {data.num_nodes}') # 节点数量\n",
    "print(f'Number of edges: {data.num_edges}') # 边数量\n",
    "print(f'Number of node features: {data.num_node_features}') # 节点属性的维度\n",
    "print(f'Number of node features: {data.num_features}') # 同样是节点属性的维度\n",
    "print(f'Number of edge features: {data.num_edge_features}') # 边属性的维度\n",
    "print(f'Average node degree: {data.num_edges / data.num_nodes:.2f}') # 平均节点度\n",
    "print(f'if edge indices are ordered and do not contain duplicate entries.: {data.is_coalesced()}') # 是否边是有序的同时不含有重复的边\n",
    "print(f'Number of training nodes: {data.train_mask.sum()}') # 用作训练集的节点\n",
    "print(f'Training node label rate: {int(data.train_mask.sum()) / data.num_nodes:.2f}') # 用作训练集的节点数占比\n",
    "print(f'Contains isolated nodes: {data.contains_isolated_nodes()}') # 此图是否包含孤立的节点\n",
    "print(f'Contains self-loops: {data.contains_self_loops()}')  # 此图是否包含自环的边\n",
    "print(f'Is undirected: {data.is_undirected()}')  # 此图是否是无向图"
   ]
  },
  {
   "cell_type": "markdown",
   "metadata": {},
   "source": [
    "### Dataset对象\n",
    "官方文档:[torch_geometric.datasets](https://pytorch-geometric.readthedocs.io/en/latest/modules/datasets.html#)"
   ]
  },
  {
   "cell_type": "code",
   "execution_count": 3,
   "metadata": {
    "ExecuteTime": {
     "end_time": "2021-06-15T13:09:43.039178Z",
     "start_time": "2021-06-15T13:09:43.025612Z"
    }
   },
   "outputs": [],
   "source": [
    "from torch_geometric.datasets import Planetoid\n",
    "\n",
    "dataset = Planetoid(root='/dataset/Cora', name='Cora')\n",
    "print(dataset)\n",
    "print('num_classes:', dataset.num_classes)\n",
    "print('num_node_features:', dataset.num_node_features)\n",
    "\n",
    "data = dataset[0]\n",
    "print(data)\n",
    "print('is_undirected:', data.is_undirected())\n",
    "print('train_mask:', data.train_mask.sum().item())\n",
    "print('val_mask:', data.val_mask.sum().item())\n",
    "print('test_mask:', data.test_mask.sum().item())"
   ]
  },
  {
   "cell_type": "markdown",
   "metadata": {},
   "source": [
    "## 作业\n",
    "&emsp;&emsp;请通过继承Data类实现一个类，专门用于表示“机构-作者-论文”的网络。该网络包含“机构“、”作者“和”论文”三类节点，以及“作者-机构“和“作者-论文“两类边。  \n",
    "&emsp;&emsp;对要实现的类的要求：  \n",
    "- 1）用不同的属性存储不同节点的属性；  \n",
    "- 2）用不同的属性存储不同的边（边没有属性）；  \n",
    "- 3）逐一实现获取不同节点数量的方法。 "
   ]
  },
  {
   "cell_type": "code",
   "execution_count": 24,
   "metadata": {
    "ExecuteTime": {
     "end_time": "2021-06-15T13:19:58.682850Z",
     "start_time": "2021-06-15T13:19:58.665895Z"
    }
   },
   "outputs": [],
   "source": [
    "# 不太理解题目的意思？\n",
    "class task1_Data(Data):\n",
    "    def __init__(self, organization_x=None, author_x=None, article_x=None, \n",
    "                 organization_author_index=None, author_article_index=None):\n",
    "        super(Data,self).__init__()\n",
    "        self.organization_x = organization_x # 节点1:机构\n",
    "        self.author_x = author_x # 节点2:作者\n",
    "        self.article_x = article_x # 节点3:论文\n",
    "        self.organization_author_index = organization_author_index # 边1:机构-作者\n",
    "        self.author_article_index = author_article_index # 边2:作者-论文\n",
    "    \n",
    "    def get_organization_num():\n",
    "        return organization_x.shape[1]\n",
    "    \n",
    "    def get_author_num():\n",
    "        return author_x.shape[1]\n",
    "    \n",
    "    def get_article_num():\n",
    "        return article_x.shape[1]"
   ]
  },
  {
   "cell_type": "code",
   "execution_count": null,
   "metadata": {},
   "outputs": [],
   "source": []
  }
 ],
 "metadata": {
  "kernelspec": {
   "display_name": "Python 3",
   "language": "python",
   "name": "python3"
  },
  "language_info": {
   "codemirror_mode": {
    "name": "ipython",
    "version": 3
   },
   "file_extension": ".py",
   "mimetype": "text/x-python",
   "name": "python",
   "nbconvert_exporter": "python",
   "pygments_lexer": "ipython3",
   "version": "3.7.0"
  },
  "nbTranslate": {
   "displayLangs": [
    "*"
   ],
   "hotkey": "alt-t",
   "langInMainMenu": true,
   "sourceLang": "en",
   "targetLang": "fr",
   "useGoogleTranslate": true
  },
  "toc": {
   "base_numbering": 1,
   "nav_menu": {},
   "number_sections": true,
   "sideBar": true,
   "skip_h1_title": true,
   "title_cell": "Table of Contents",
   "title_sidebar": "Contents",
   "toc_cell": false,
   "toc_position": {},
   "toc_section_display": true,
   "toc_window_display": false
  },
  "varInspector": {
   "cols": {
    "lenName": 16,
    "lenType": 16,
    "lenVar": 40
   },
   "kernels_config": {
    "python": {
     "delete_cmd_postfix": "",
     "delete_cmd_prefix": "del ",
     "library": "var_list.py",
     "varRefreshCmd": "print(var_dic_list())"
    },
    "r": {
     "delete_cmd_postfix": ") ",
     "delete_cmd_prefix": "rm(",
     "library": "var_list.r",
     "varRefreshCmd": "cat(var_dic_list()) "
    }
   },
   "types_to_exclude": [
    "module",
    "function",
    "builtin_function_or_method",
    "instance",
    "_Feature"
   ],
   "window_display": false
  }
 },
 "nbformat": 4,
 "nbformat_minor": 2
}
