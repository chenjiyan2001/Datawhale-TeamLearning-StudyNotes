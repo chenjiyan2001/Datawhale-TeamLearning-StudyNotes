{
 "cells": [
  {
   "cell_type": "markdown",
   "metadata": {},
   "source": [
    "**写在前面**：本节内容是 [Datawhale三月的组队学习 - 集成学习（上）- CH2-机器学习基础模型回顾 -【Task2 掌握基本的回归模型】](https://github.com/datawhalechina/team-learning-data-mining/blob/master/EnsembleLearning/CH2-%E6%9C%BA%E5%99%A8%E5%AD%A6%E4%B9%A0%E5%9F%BA%E7%A1%80%E6%A8%A1%E5%9E%8B%E5%9B%9E%E9%A1%BE/%E7%AC%AC%E4%BA%8C%E7%AB%A0%EF%BC%9A%E6%9C%BA%E5%99%A8%E5%AD%A6%E4%B9%A0%E5%9F%BA%E7%A1%80.ipynb) 的学习笔记，对应notebook的2.1(1),(2),(3)节，学习周期3天"
   ]
  },
  {
   "cell_type": "markdown",
   "metadata": {},
   "source": [
    "## 导入库和数据"
   ]
  },
  {
   "cell_type": "code",
   "execution_count": 270,
   "metadata": {
    "ExecuteTime": {
     "end_time": "2021-03-16T13:10:48.437288Z",
     "start_time": "2021-03-16T13:10:48.423211Z"
    }
   },
   "outputs": [],
   "source": [
    "import pandas as pd\n",
    "from sklearn import datasets\n",
    "from sklearn.metrics import *\n",
    "from sklearn.model_selection  import train_test_split\n",
    "from sklearn.linear_model import LinearRegression\n",
    "from sklearn.preprocessing import PolynomialFeatures\n",
    "import matplotlib.pyplot as plt\n",
    "from pygam import LinearGAM\n",
    "import xgboost"
   ]
  },
  {
   "cell_type": "code",
   "execution_count": 9,
   "metadata": {
    "ExecuteTime": {
     "end_time": "2021-03-16T07:39:24.561984Z",
     "start_time": "2021-03-16T07:39:24.546017Z"
    }
   },
   "outputs": [],
   "source": [
    "# boston数据集作为本笔记的实验数据\n",
    "boston = datasets.load_boston()\n",
    "X = boston.data\n",
    "y = boston.target\n",
    "features = boston.feature_names\n",
    "boston_data = pd.DataFrame(X,columns=features)\n",
    "boston_data[\"Price\"] = y\n",
    "\n",
    "X_train, X_test, y_train, y_test = train_test_split(X,y,test_size=0.25)"
   ]
  },
  {
   "cell_type": "code",
   "execution_count": 15,
   "metadata": {
    "ExecuteTime": {
     "end_time": "2021-03-16T07:41:42.791957Z",
     "start_time": "2021-03-16T07:41:42.632383Z"
    }
   },
   "outputs": [],
   "source": [
    "# 使用xgboost的回归模型作为实验模型\n",
    "model = xgboost.XGBRegressor()\n",
    "model.fit(X=X_train, y=y_train)\n",
    "y_pred = model.predict(X_test)"
   ]
  },
  {
   "cell_type": "markdown",
   "metadata": {},
   "source": [
    "## Day 1"
   ]
  },
  {
   "cell_type": "markdown",
   "metadata": {},
   "source": [
    "### 度量模型性能的指标\n",
    "参考资料：\n",
    "- [【从零开始学机器学习12】MSE、RMSE、R2_score](https://blog.csdn.net/wade1203/article/details/98477034)"
   ]
  },
  {
   "cell_type": "markdown",
   "metadata": {},
   "source": [
    "#### MSE均方误差\n",
    "$$\\text{MSE}(y, \\hat{y}) = \\frac{1}{n_\\text{samples}} \\sum_{i=0}^{n_\\text{samples} - 1} (y_i - \\hat{y}_i)^2.$$\n",
    "- 去除了评价模型性能时样本数量带来的影响，但改变了量纲。且量纲不同时，难以衡量模型效果好坏。  \n",
    "- 值越小模型性能越好。  \n",
    "**注**：RMSE通过对MSE开方使得量纲不变。"
   ]
  },
  {
   "cell_type": "markdown",
   "metadata": {},
   "source": [
    "##### sklearn调用"
   ]
  },
  {
   "cell_type": "code",
   "execution_count": 16,
   "metadata": {
    "ExecuteTime": {
     "end_time": "2021-03-16T07:42:01.829554Z",
     "start_time": "2021-03-16T07:42:01.811008Z"
    }
   },
   "outputs": [
    {
     "data": {
      "text/plain": [
       "8.892444740491776"
      ]
     },
     "execution_count": 16,
     "metadata": {},
     "output_type": "execute_result"
    }
   ],
   "source": [
    "mean_squared_error(y_true=y_test, y_pred=y_pred)"
   ]
  },
  {
   "cell_type": "markdown",
   "metadata": {},
   "source": [
    "##### 简单实现"
   ]
  },
  {
   "cell_type": "code",
   "execution_count": 26,
   "metadata": {
    "ExecuteTime": {
     "end_time": "2021-03-16T07:47:39.195030Z",
     "start_time": "2021-03-16T07:47:39.181042Z"
    }
   },
   "outputs": [
    {
     "data": {
      "text/plain": [
       "8.892444740491776"
      ]
     },
     "execution_count": 26,
     "metadata": {},
     "output_type": "execute_result"
    }
   ],
   "source": [
    "def sample_MSE(y_true,y_pred):\n",
    "    return sum((y_pred - y_true)**2)/len(y_pred)\n",
    "sample_MSE(y_true=y_test, y_pred=y_pred)"
   ]
  },
  {
   "cell_type": "markdown",
   "metadata": {},
   "source": [
    "#### MAE平均绝对误差\n",
    "$$\\text{MAE}(y, \\hat{y}) = \\frac{1}{n_{\\text{samples}}} \\sum_{i=0}^{n_{\\text{samples}}-1} \\left| y_i - \\hat{y}_i \\right|$$\n",
    "- 另一种避免误差出现正负相消的方式，去除了评价模型性能时样本数量和量纲带来的的影响。且量纲不同时，难以衡量模型效果好坏。  \n",
    "- 值越小模型性能越好。"
   ]
  },
  {
   "cell_type": "markdown",
   "metadata": {},
   "source": [
    "##### sklearn调用"
   ]
  },
  {
   "cell_type": "code",
   "execution_count": 27,
   "metadata": {
    "ExecuteTime": {
     "end_time": "2021-03-16T07:48:16.743174Z",
     "start_time": "2021-03-16T07:48:16.737154Z"
    }
   },
   "outputs": [
    {
     "data": {
      "text/plain": [
       "2.0381042082478684"
      ]
     },
     "execution_count": 27,
     "metadata": {},
     "output_type": "execute_result"
    }
   ],
   "source": [
    "mean_absolute_error(y_true=y_test, y_pred=y_pred)"
   ]
  },
  {
   "cell_type": "markdown",
   "metadata": {},
   "source": [
    "##### 简单实现"
   ]
  },
  {
   "cell_type": "code",
   "execution_count": 28,
   "metadata": {
    "ExecuteTime": {
     "end_time": "2021-03-16T07:48:32.435322Z",
     "start_time": "2021-03-16T07:48:32.431345Z"
    }
   },
   "outputs": [
    {
     "data": {
      "text/plain": [
       "2.0381042082478684"
      ]
     },
     "execution_count": 28,
     "metadata": {},
     "output_type": "execute_result"
    }
   ],
   "source": [
    "def sample_MAE(y_true,y_pred):\n",
    "    return sum(abs(y_pred - y_true))/len(y_pred)\n",
    "sample_MAE(y_true=y_test, y_pred=y_pred)"
   ]
  },
  {
   "attachments": {
    "image.png": {
     "image/png": "[encoded data removed]"
    }
   },
   "cell_type": "markdown",
   "metadata": {},
   "source": [
    "#### $R^2$决定系数\n",
    "$$R^2(y, \\hat{y}) = 1 - \\frac{\\sum_{i=1}^{n} (y_i - \\hat{y}_i)^2}{\\sum_{i=1}^{n} (y_i - \\bar{y})^2}$$\n",
    "- 通过参照均值模型评价模型性能。和样本数量、量纲无关。\n",
    "- 越接近1说明模型越好。小于0说明模型比均值模型差。出现这种情况，通常是模型本身不是线性关系的。\n",
    "- 可改写为![image.png](attachment:image.png)"
   ]
  },
  {
   "cell_type": "markdown",
   "metadata": {},
   "source": [
    "##### sklearn调用"
   ]
  },
  {
   "cell_type": "code",
   "execution_count": 34,
   "metadata": {
    "ExecuteTime": {
     "end_time": "2021-03-16T08:19:40.785563Z",
     "start_time": "2021-03-16T08:19:40.771600Z"
    }
   },
   "outputs": [
    {
     "data": {
      "text/plain": [
       "0.8450080653253479"
      ]
     },
     "execution_count": 34,
     "metadata": {},
     "output_type": "execute_result"
    }
   ],
   "source": [
    "r2_score(y_true=y_test, y_pred=y_pred)"
   ]
  },
  {
   "cell_type": "markdown",
   "metadata": {},
   "source": [
    "##### 简单实现"
   ]
  },
  {
   "cell_type": "code",
   "execution_count": 30,
   "metadata": {
    "ExecuteTime": {
     "end_time": "2021-03-16T08:13:04.352607Z",
     "start_time": "2021-03-16T08:13:04.345590Z"
    }
   },
   "outputs": [
    {
     "data": {
      "text/plain": [
       "0.845008065325348"
      ]
     },
     "execution_count": 30,
     "metadata": {},
     "output_type": "execute_result"
    }
   ],
   "source": [
    "def sample_r2(y_true, y_pred):\n",
    "    return 1 - sum((y_true-y_pred)**2)/sum((y_true-y_true.mean())**2)\n",
    "sample_r2(y_true=y_test, y_pred=y_pred)"
   ]
  },
  {
   "cell_type": "code",
   "execution_count": 33,
   "metadata": {
    "ExecuteTime": {
     "end_time": "2021-03-16T08:19:36.145704Z",
     "start_time": "2021-03-16T08:19:36.131622Z"
    }
   },
   "outputs": [
    {
     "data": {
      "text/plain": [
       "0.845008065325348"
      ]
     },
     "execution_count": 33,
     "metadata": {},
     "output_type": "execute_result"
    }
   ],
   "source": [
    "def other_sample_r2(y_true, y_pred):\n",
    "    var = np.var(y_true)\n",
    "    mse = sample_MSE(y_true=y_true, y_pred=y_pred)\n",
    "    return 1 - mse/var\n",
    "other_sample_r2(y_true=y_test, y_pred=y_pred)"
   ]
  },
  {
   "cell_type": "markdown",
   "metadata": {},
   "source": [
    "#### 解释方差得分\n",
    "$$explained\\_{}variance(y, \\hat{y}) = 1 - \\frac{Var\\{ y - \\hat{y}\\}}{Var\\{y\\}}$$\n",
    "- 解释回归模型的方差得分.\n",
    "- 其值取值范围是[0,1]，越接近于1说明自变量越能解释因变量的方差变化，值越小说明效果越差。"
   ]
  },
  {
   "cell_type": "markdown",
   "metadata": {},
   "source": [
    "##### sklearn调用"
   ]
  },
  {
   "cell_type": "code",
   "execution_count": 35,
   "metadata": {
    "ExecuteTime": {
     "end_time": "2021-03-16T08:23:21.703632Z",
     "start_time": "2021-03-16T08:23:21.687988Z"
    }
   },
   "outputs": [
    {
     "data": {
      "text/plain": [
       "0.8454982194592924"
      ]
     },
     "execution_count": 35,
     "metadata": {},
     "output_type": "execute_result"
    }
   ],
   "source": [
    "explained_variance_score(y_true=y_test, y_pred=y_pred)"
   ]
  },
  {
   "cell_type": "markdown",
   "metadata": {},
   "source": [
    "##### 简单实现"
   ]
  },
  {
   "cell_type": "code",
   "execution_count": 37,
   "metadata": {
    "ExecuteTime": {
     "end_time": "2021-03-16T08:27:12.266839Z",
     "start_time": "2021-03-16T08:27:12.258861Z"
    }
   },
   "outputs": [
    {
     "data": {
      "text/plain": [
       "0.8454982194592924"
      ]
     },
     "execution_count": 37,
     "metadata": {},
     "output_type": "execute_result"
    }
   ],
   "source": [
    "def sample_explained_variance(y_true, y_pred):\n",
    "    return 1 - np.var(y_true-y_pred)/np.var(y_true)\n",
    "sample_explained_variance(y_true=y_test, y_pred=y_pred)"
   ]
  },
  {
   "cell_type": "markdown",
   "metadata": {},
   "source": [
    "### 线性回归模型"
   ]
  },
  {
   "cell_type": "markdown",
   "metadata": {},
   "source": [
    "#### 线性回归LinearRegression\n",
    "1. 最小二乘估计\n",
    "$$ w=\\cfrac{\\sum_{i=1}^{m}y_i(x_i-\\bar{x})}{\\sum_{i=1}^{m}x_i^2-\\cfrac{1}{m}(\\sum_{i=1}^{m}x_i)^2} $$\n",
    "$$b=\\cfrac{1}{m}\\sum_{i=1}^{m}(y_i-wx_i)$$\n",
    "[变换]：$ \\cfrac{1}{m}(\\sum_{i=1}^{m}x_i)^2=\\bar{x}\\sum_{i=1}^{m}x_i $\n",
    "2. 几何求解\n",
    "3. 极大似然估计\n",
    "\n",
    "参考资料：\n",
    "- [南瓜书-第3章-3.10](https://datawhalechina.github.io/pumpkin-book/#/chapter3/chapter3?id=_310)"
   ]
  },
  {
   "cell_type": "markdown",
   "metadata": {},
   "source": [
    "##### sklearn调用"
   ]
  },
  {
   "cell_type": "code",
   "execution_count": 40,
   "metadata": {
    "ExecuteTime": {
     "end_time": "2021-03-16T08:29:30.057696Z",
     "start_time": "2021-03-16T08:29:30.042732Z"
    }
   },
   "outputs": [],
   "source": [
    "LR = LinearRegression()\n",
    "LR.fit(X_train, y_train)\n",
    "y_pred = LR.predict(X_test)"
   ]
  },
  {
   "cell_type": "code",
   "execution_count": 109,
   "metadata": {
    "ExecuteTime": {
     "end_time": "2021-03-16T11:37:51.580328Z",
     "start_time": "2021-03-16T11:37:51.574342Z"
    }
   },
   "outputs": [
    {
     "name": "stdout",
     "output_type": "stream",
     "text": [
      "w:\t [-1.14100684e-01  5.00445776e-02  1.62718524e-02  2.84846628e+00\n",
      " -2.08336584e+01  3.82436128e+00  1.71500717e-02 -1.45218637e+00\n",
      "  2.83841761e-01 -1.02219978e-02 -9.93602309e-01  9.64704883e-03\n",
      " -5.46099073e-01]\n",
      "b:\t 37.38654384422135\n",
      "MSE:\t 17.932496480152306\n"
     ]
    }
   ],
   "source": [
    "print('w:\\t',LR.coef_)\n",
    "print('b:\\t',LR.intercept_)\n",
    "print('MSE:\\t',mean_squared_error(y_test, y_pred))"
   ]
  },
  {
   "cell_type": "markdown",
   "metadata": {},
   "source": [
    "##### 简单实现\n",
    "class写法是现学的。。看着奇怪的话莫怪。。"
   ]
  },
  {
   "cell_type": "code",
   "execution_count": 235,
   "metadata": {
    "ExecuteTime": {
     "end_time": "2021-03-16T12:26:59.043864Z",
     "start_time": "2021-03-16T12:26:59.034888Z"
    }
   },
   "outputs": [],
   "source": [
    "class sample_LR:\n",
    "    def __init__(self):\n",
    "        pass\n",
    "\n",
    "    def fit(self, X_train, y_train):\n",
    "        X = np.c_[X_train, np.ones([X_train.shape[0], 1])]  # X的最后一个元素置1\n",
    "        W = np.linalg.inv(X.T @ X) @ X.T @ y_train # 对应西瓜书公式(3.11)\n",
    "        self.W = W # 闭式解包括w和b\n",
    "        self.w = self.W[:-1]\n",
    "        self.b = self.W[-1]\n",
    "\n",
    "    def predict(self, X_test):\n",
    "        X = np.c_[X_test, np.ones([X_test.shape[0], 1])] # X的最后一个元素置1\n",
    "        return X @ self.W"
   ]
  },
  {
   "cell_type": "code",
   "execution_count": 236,
   "metadata": {
    "ExecuteTime": {
     "end_time": "2021-03-16T12:26:59.463696Z",
     "start_time": "2021-03-16T12:26:59.458692Z"
    }
   },
   "outputs": [],
   "source": [
    "my_LR = sample_LR()\n",
    "my_LR.fit(X_train=X_train, y_train=y_train)\n",
    "y_pred = my_LR.predict(X_test=X_test)"
   ]
  },
  {
   "cell_type": "code",
   "execution_count": 237,
   "metadata": {
    "ExecuteTime": {
     "end_time": "2021-03-16T12:26:59.864258Z",
     "start_time": "2021-03-16T12:26:59.852292Z"
    }
   },
   "outputs": [
    {
     "name": "stdout",
     "output_type": "stream",
     "text": [
      "w:\t [-1.14100684e-01  5.00445776e-02  1.62718524e-02  2.84846628e+00\n",
      " -2.08336584e+01  3.82436128e+00  1.71500717e-02 -1.45218637e+00\n",
      "  2.83841761e-01 -1.02219978e-02 -9.93602309e-01  9.64704883e-03\n",
      " -5.46099073e-01]\n",
      "b:\t 37.38654384423745\n",
      "MSE:\t 17.93249648015395\n"
     ]
    }
   ],
   "source": [
    "print('w:\\t',my_LR.w)\n",
    "print('b:\\t',my_LR.b)\n",
    "print('MSE:\\t',mean_squared_error(y_test, y_pred))"
   ]
  },
  {
   "cell_type": "markdown",
   "metadata": {},
   "source": [
    "##### 小记\n",
    "- 一开始搞错了，用一元线性回归的闭式解在做，不出意外地错的很离谱。。折腾了好久才发现，长记性了。  \n",
    "- 然后极大似然估计没整明白，对我现在来说有点超纲。。这学期学明白了再弄这块吧"
   ]
  },
  {
   "cell_type": "markdown",
   "metadata": {},
   "source": [
    "### 线性回归推广"
   ]
  },
  {
   "cell_type": "markdown",
   "metadata": {},
   "source": [
    "#### 多项式回归\n",
    "体现因变量和特征的非线性关系  \n",
    "参考资料：\n",
    "- [多项式回归示例（sklearn实现）\n",
    "](https://blog.csdn.net/alionsss/article/details/87635685)\n",
    "- [sklearn.preprocessing.PolynomialFeatures](https://scikit-learn.org/stable/modules/generated/sklearn.preprocessing.PolynomialFeatures.html?highlight=polynomialfeatures#sklearn.preprocessing.PolynomialFeatures)\n",
    "- [多项式回归原理](https://blog.csdn.net/i96jie/article/details/81252198) (或许简单实现时会参考)"
   ]
  },
  {
   "cell_type": "markdown",
   "metadata": {},
   "source": [
    "##### sklearn调用"
   ]
  },
  {
   "cell_type": "code",
   "execution_count": 267,
   "metadata": {
    "ExecuteTime": {
     "end_time": "2021-03-16T12:57:17.328653Z",
     "start_time": "2021-03-16T12:57:17.286098Z"
    }
   },
   "outputs": [],
   "source": [
    "# 改变数据，使满足多项式回归的要求\n",
    "poly_reg = PolynomialFeatures(degree=2)\n",
    "X_train_poly = poly_reg.fit_transform(X_train)\n",
    "X_test_poly = poly_reg.fit_transform(X_test)\n",
    "# 训练模型\n",
    "LR.fit(X_train_poly, y_train)\n",
    "# 进行预测\n",
    "pred_y = LR.predict(X_test_poly)"
   ]
  },
  {
   "cell_type": "code",
   "execution_count": 252,
   "metadata": {
    "ExecuteTime": {
     "end_time": "2021-03-16T12:51:04.251256Z",
     "start_time": "2021-03-16T12:51:04.241604Z"
    }
   },
   "outputs": [
    {
     "data": {
      "text/plain": [
       "17.93249648015395"
      ]
     },
     "execution_count": 252,
     "metadata": {},
     "output_type": "execute_result"
    }
   ],
   "source": [
    "mean_squared_error(y_test, y_pred)"
   ]
  },
  {
   "cell_type": "markdown",
   "metadata": {},
   "source": [
    "对PolynomialFeatures的一些学习:  \n",
    "- 生成多项式和交互特征。\n",
    "- 如果输入样本是二维且格式为[a，b]，则2阶多项式特征为[1，a，b，a ^ 2，ab，b ^ 2]。"
   ]
  },
  {
   "cell_type": "code",
   "execution_count": 268,
   "metadata": {
    "ExecuteTime": {
     "end_time": "2021-03-16T12:57:17.543581Z",
     "start_time": "2021-03-16T12:57:17.538912Z"
    }
   },
   "outputs": [
    {
     "name": "stdout",
     "output_type": "stream",
     "text": [
      "X_train.shape:\t (379, 13)\n",
      "X_train_poly.shape:\t (379, 105)\n"
     ]
    }
   ],
   "source": [
    "print('X_train.shape:\\t',X_train.shape)\n",
    "print('X_train_poly.shape:\\t',X_train_poly.shape)\n",
    "# 可以发现变化很大"
   ]
  },
  {
   "cell_type": "markdown",
   "metadata": {},
   "source": [
    "##### 简单实现\n",
    "- 这个也要缓缓了，好像要用到梯度下降法去拟合，但目前还没有自己实现梯度下降法，不知道要花多久，空的时候再想吧。。"
   ]
  },
  {
   "cell_type": "markdown",
   "metadata": {},
   "source": [
    "#### 广义可加模型GAM\n",
    "超纲中的超纲（哈哈），放弃理解原理了，简单了解了一下  \n",
    "参考资料：  \n",
    "- [GAM（广义相加模型）概要及R程序实现](https://blog.csdn.net/textboy/article/details/47277131)"
   ]
  },
  {
   "cell_type": "code",
   "execution_count": 276,
   "metadata": {
    "ExecuteTime": {
     "end_time": "2021-03-16T13:31:37.528192Z",
     "start_time": "2021-03-16T13:31:37.168497Z"
    }
   },
   "outputs": [
    {
     "data": {
      "text/plain": [
       "11.96894979558507"
      ]
     },
     "execution_count": 276,
     "metadata": {},
     "output_type": "execute_result"
    }
   ],
   "source": [
    "gam = LinearGAM().fit(X_train, y_train)\n",
    "y_pred = gam.predict(X_test)\n",
    "mean_squared_error(y_test, y_pred)"
   ]
  },
  {
   "cell_type": "markdown",
   "metadata": {},
   "source": [
    "## Day 2"
   ]
  },
  {
   "cell_type": "markdown",
   "metadata": {},
   "source": [
    "### 回归树"
   ]
  },
  {
   "cell_type": "markdown",
   "metadata": {},
   "source": [
    "#### sklearn实现"
   ]
  },
  {
   "cell_type": "code",
   "execution_count": null,
   "metadata": {},
   "outputs": [],
   "source": []
  },
  {
   "cell_type": "markdown",
   "metadata": {},
   "source": [
    "#### 尝试手写"
   ]
  },
  {
   "cell_type": "code",
   "execution_count": null,
   "metadata": {},
   "outputs": [],
   "source": []
  },
  {
   "cell_type": "markdown",
   "metadata": {},
   "source": [
    "## Day 3"
   ]
  },
  {
   "cell_type": "markdown",
   "metadata": {},
   "source": [
    "### 支持向量机回归(SVR)"
   ]
  },
  {
   "cell_type": "markdown",
   "metadata": {},
   "source": [
    "#### sklearn实现"
   ]
  },
  {
   "cell_type": "code",
   "execution_count": null,
   "metadata": {},
   "outputs": [],
   "source": []
  },
  {
   "cell_type": "markdown",
   "metadata": {},
   "source": [
    "#### 尝试手写"
   ]
  },
  {
   "cell_type": "code",
   "execution_count": null,
   "metadata": {},
   "outputs": [],
   "source": []
  }
 ],
 "metadata": {
  "kernelspec": {
   "display_name": "Python 3",
   "language": "python",
   "name": "python3"
  },
  "language_info": {
   "codemirror_mode": {
    "name": "ipython",
    "version": 3
   },
   "file_extension": ".py",
   "mimetype": "text/x-python",
   "name": "python",
   "nbconvert_exporter": "python",
   "pygments_lexer": "ipython3",
   "version": "3.7.0"
  },
  "nbTranslate": {
   "displayLangs": [
    "*"
   ],
   "hotkey": "alt-t",
   "langInMainMenu": true,
   "sourceLang": "en",
   "targetLang": "fr",
   "useGoogleTranslate": true
  },
  "toc": {
   "base_numbering": 1,
   "nav_menu": {},
   "number_sections": true,
   "sideBar": true,
   "skip_h1_title": false,
   "title_cell": "Table of Contents",
   "title_sidebar": "Contents",
   "toc_cell": false,
   "toc_position": {},
   "toc_section_display": true,
   "toc_window_display": false
  },
  "varInspector": {
   "cols": {
    "lenName": 16,
    "lenType": 16,
    "lenVar": 40
   },
   "kernels_config": {
    "python": {
     "delete_cmd_postfix": "",
     "delete_cmd_prefix": "del ",
     "library": "var_list.py",
     "varRefreshCmd": "print(var_dic_list())"
    },
    "r": {
     "delete_cmd_postfix": ") ",
     "delete_cmd_prefix": "rm(",
     "library": "var_list.r",
     "varRefreshCmd": "cat(var_dic_list()) "
    }
   },
   "types_to_exclude": [
    "module",
    "function",
    "builtin_function_or_method",
    "instance",
    "_Feature"
   ],
   "window_display": false
  }
 },
 "nbformat": 4,
 "nbformat_minor": 2
}
