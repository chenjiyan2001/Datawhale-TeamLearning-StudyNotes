{
 "cells": [
  {
   "cell_type": "markdown",
   "id": "361183e2",
   "metadata": {},
   "source": [
    "课程链接:[GYH的快速会议](https://meeting.tencent.com/v2/cloud-record/share?id=14667b16-6001-4298-815d-ff437f044454&from=3)"
   ]
  },
  {
   "cell_type": "code",
   "execution_count": 56,
   "id": "059b1ed1",
   "metadata": {
    "ExecuteTime": {
     "end_time": "2021-10-17T15:49:05.105481Z",
     "start_time": "2021-10-17T15:49:05.088547Z"
    }
   },
   "outputs": [],
   "source": [
    "import numpy as np\n",
    "import collections"
   ]
  },
  {
   "cell_type": "code",
   "execution_count": 54,
   "id": "c761013d",
   "metadata": {
    "ExecuteTime": {
     "end_time": "2021-10-17T15:48:47.890456Z",
     "start_time": "2021-10-17T15:48:47.881480Z"
    }
   },
   "outputs": [],
   "source": [
    "def Gini(y):\n",
    "    c = Counter(y)\n",
    "    return 1 - sum([(val / y.shape[0]) ** 2 for val in c.values()])\n",
    "\n",
    "def MSE(y):\n",
    "    return ((y - y.mean())**2).sum() / y.shape[0]"
   ]
  },
  {
   "cell_type": "code",
   "execution_count": 3,
   "id": "d4293a4c",
   "metadata": {
    "ExecuteTime": {
     "end_time": "2021-10-17T15:28:41.597000Z",
     "start_time": "2021-10-17T15:28:41.582990Z"
    }
   },
   "outputs": [],
   "source": [
    "class Node:\n",
    "    def __init__(self, depth, idx):\n",
    "        self.depth = depth\n",
    "        self.idx = idx\n",
    "        \n",
    "        self.left = None\n",
    "        self.right = None\n",
    "        self.feature = None\n",
    "        self.pivot = None"
   ]
  },
  {
   "cell_type": "code",
   "execution_count": 44,
   "id": "d27a3aef",
   "metadata": {
    "ExecuteTime": {
     "end_time": "2021-10-17T15:47:39.694096Z",
     "start_time": "2021-10-17T15:47:39.601958Z"
    }
   },
   "outputs": [],
   "source": [
    "class Tree:\n",
    "\n",
    "    def __init__(self,max_depth):\n",
    "        self.max_depth = max_depth\n",
    "\n",
    "        self.X = None\n",
    "        self.y = None\n",
    "        self.feature_importances_ = None\n",
    "\n",
    "    def _able_to_split(self,node):\n",
    "        return (node.depth < self.max_depth) & (node.idx.sum() >= 2)\n",
    "\n",
    "    def _get_inner_split_mse(self,to_left,to_right):\n",
    "        total = to_left.sum() + to_right.sum()\n",
    "        left_val = to_left.sum()/total * MSE(self.y[to_left])\n",
    "        right_val = to_right.sum() / total * MSE(self.y[to_right])\n",
    "        return left_val+right_val\n",
    "\n",
    "    def _get_inner_split_gini(self,to_left,to_right):\n",
    "        total = to_left.sum() + to_right.sum()\n",
    "        left_val = to_left.sum() / total * Gini(self.y[to_left])\n",
    "        right_val = to_right.sum() / total * Gini(self.y[to_right])\n",
    "        return left_val + right_val\n",
    "\n",
    "    def _inner_split_mse(self,col,idx):\n",
    "        data2use = self.X[:,col]\n",
    "        best_val = np.infty\n",
    "        for pivot in data2use[:-1]:\n",
    "            to_left = (idx==1) & (data2use<=pivot)\n",
    "            to_right = (idx==1) & (~to_left)\n",
    "            if to_left.sum() == 0 or to_left.sum() == idx.sum():\n",
    "                continue\n",
    "            Hyx = self._get_inner_split_mse(to_left,to_right)\n",
    "            if best_val > Hyx:\n",
    "                best_val, best_pivot = Hyx,pivot\n",
    "                best_to_left, best_to_right = to_left, to_right\n",
    "        return best_val, best_to_left, best_to_right,best_pivot\n",
    "\n",
    "    def _inner_split_gini(self,col,idx):\n",
    "        data2use = self.X[:,col]\n",
    "        best_val = np.infty\n",
    "        for pivot in data2use[:-1]:\n",
    "            to_left = (idx==1) & (data2use<=pivot)\n",
    "            to_right = (idx==1) & (~to_left)\n",
    "            if to_left.sum() == 0 or to_left.sum() == idx.sum():\n",
    "                continue\n",
    "            Hyx = self._get_inner_split_gini(to_left,to_right)\n",
    "            if best_val > Hyx:\n",
    "                best_val, best_pivot = Hyx,pivot\n",
    "                best_to_left, best_to_right = to_left, to_right\n",
    "        return best_val, best_to_left, best_to_right,best_pivot\n",
    "\n",
    "    def _get_conditional_entropy_mse(self,idx):\n",
    "        best_val = np.infty\n",
    "        for c in range(self.X.shape[1]):\n",
    "            Hyx ,_idx_left, _idx_right,pivot = self._inner_split_mse(c,idx)\n",
    "            if best_val > Hyx:\n",
    "                best_val, idx_left, idx_right,best_feature, best_pivot = \\\n",
    "                    Hyx, _idx_left, _idx_right, c, pivot\n",
    "        return best_val, idx_left, idx_right,best_feature, best_pivot\n",
    "\n",
    "    def _get_conditional_entropy_gini(self,idx):\n",
    "        best_val = np.infty\n",
    "        for c in range(self.X.shape[1]):\n",
    "            Hyx ,_idx_left, _idx_right,pivot = self._inner_split_gini(c,idx)\n",
    "            if best_val > Hyx:\n",
    "                best_val, idx_left, idx_right,best_feature, best_pivot = \\\n",
    "                    Hyx, _idx_left, _idx_right, c, pivot\n",
    "        return best_val, idx_left, idx_right,best_feature, best_pivot\n",
    "\n",
    "    def split_mse(self,node):\n",
    "        if not self._able_to_split(node):\n",
    "            return None, None, None, None\n",
    "        # H(Y)\n",
    "        entropy = MSE(self.y[node.idx==1])\n",
    "        # H(Y|X)\n",
    "        conditional_entropy,idx_left,idx_right,feature,pivot = self._get_conditional_entropy_mse(node.idx)\n",
    "        info_gain = entropy - conditional_entropy\n",
    "        relative_info_gain = info_gain * node.idx.sum() / self.X.shape[0]\n",
    "        self.feature_importances_[feature] += relative_info_gain\n",
    "\n",
    "        node.left = Node(node.depth+1,idx_left)\n",
    "        node.right = Node(node.depth+1,idx_right)\n",
    "        self.depth = max(node.depth+1, self.depth)\n",
    "        return idx_left,idx_right,feature,pivot\n",
    "\n",
    "    def split_gini(self,node):\n",
    "        if not self._able_to_split(node):\n",
    "            return None, None, None, None\n",
    "        # H(Y)\n",
    "        entropy = Gini(self.y[node.idx==1])\n",
    "        # H(Y|X)\n",
    "        conditional_entropy,idx_left,idx_right,feature,pivot = self._get_conditional_entropy_gini(node.idx)\n",
    "        info_gain = entropy - conditional_entropy\n",
    "        relative_info_gain = info_gain * node.idx.sum() / self.X.shape[0]\n",
    "        self.feature_importances_[feature] += relative_info_gain\n",
    "\n",
    "        node.left = Node(node.depth+1,idx_left)\n",
    "        node.right = Node(node.depth+1,idx_right)\n",
    "        self.depth = max(node.depth+1, self.depth)\n",
    "        return idx_left,idx_right,feature,pivot\n",
    "\n",
    "    def build_prepare(self):\n",
    "        self.depth = 0\n",
    "        self.feature_importances_ = np.zeros(self.X.shape[1])\n",
    "        self.root = Node(depth=0,idx=np.ones(self.X.shape[0]))\n",
    "\n",
    "    def build_node_mse(self,cur_node):\n",
    "        if cur_node is None:\n",
    "            return\n",
    "        idx_left, idx_right, feature, pivot = self.split_mse(cur_node)\n",
    "        cur_node.feature, cur_node.pivot = feature,pivot\n",
    "        self.build_node_mse(cur_node.left)\n",
    "        self.build_node_mse(cur_node.right)\n",
    "\n",
    "    def build_mse(self):\n",
    "        self.build_prepare()\n",
    "        self.build_node_mse(self.root)\n",
    "\n",
    "    def build_node_gini(self,cur_node):\n",
    "        if cur_node is None:\n",
    "            return\n",
    "        idx_left, idx_right, feature, pivot = self.split_gini(cur_node)\n",
    "        cur_node.feature, cur_node.pivot = feature,pivot\n",
    "        self.build_node_gini(cur_node.left)\n",
    "        self.build_node_gini(cur_node.right)\n",
    "\n",
    "    def build_gini(self):\n",
    "        self.build_prepare()\n",
    "        self.build_node_gini(self.root)\n",
    "\n",
    "    def _search_prediction_mse(self,node,x):\n",
    "        if node.left is None and node.right is None:\n",
    "            return self.y[node.idx].mean()\n",
    "        if x[node.feature] <= node.pivot:\n",
    "            node = node.left\n",
    "        else:\n",
    "            node = node.right\n",
    "        return self._search_prediction_mse(node,x)\n",
    "\n",
    "    def predict_mse(self,x):\n",
    "        return self._search_prediction_mse(self.root,x)\n",
    "\n",
    "    def _search_prediction_gini(self,node,x):\n",
    "        if node.left is None and node.right is None:\n",
    "            return collections.Counter(self.y[node.idx]).most_common(1)[0][0]\n",
    "        if x[node.feature] <= node.pivot:\n",
    "            node = node.left\n",
    "        else:\n",
    "            node = node.right\n",
    "        return self._search_prediction_gini(node,x)\n",
    "\n",
    "    def predict_gini(self,x):\n",
    "        return self._search_prediction_gini(self.root,x)"
   ]
  },
  {
   "cell_type": "code",
   "execution_count": 51,
   "id": "e3caf801",
   "metadata": {
    "ExecuteTime": {
     "end_time": "2021-10-17T15:48:25.972546Z",
     "start_time": "2021-10-17T15:48:25.965565Z"
    }
   },
   "outputs": [],
   "source": [
    "class DecisionTreeRegressor:\n",
    "    \n",
    "    def __init__(self, max_depth):\n",
    "        self.tree = Tree(max_depth=max_depth)\n",
    "        \n",
    "    def fit(self, X, y):\n",
    "        self.tree.X = X\n",
    "        self.tree.y = y\n",
    "        self.tree.build_mse()\n",
    "        self.feature_importances_ = (self.tree.feature_importances_ / self.tree.feature_importances_.sum())\n",
    "        return self\n",
    "    \n",
    "    def predict(self, X):\n",
    "        return np.array([self.tree.predict_mse(x) for x in X])"
   ]
  },
  {
   "cell_type": "code",
   "execution_count": 52,
   "id": "442775b2",
   "metadata": {
    "ExecuteTime": {
     "end_time": "2021-10-17T15:48:26.273291Z",
     "start_time": "2021-10-17T15:48:26.259310Z"
    }
   },
   "outputs": [],
   "source": [
    "class DecisionTreeClassifier(Tree):\n",
    "    def __init__(self, max_depth):\n",
    "        self.tree = Tree(max_depth=max_depth)\n",
    "\n",
    "    def fit(self, X, y):\n",
    "        self.tree.X = X\n",
    "        self.tree.y = y\n",
    "        self.tree.build_gini()\n",
    "        self.feature_importances_ = (self.tree.feature_importances_ / self.tree.feature_importances_.sum())\n",
    "        return self\n",
    "        \n",
    "    def predict(self, X):\n",
    "        return np.array([self.tree.predict_gini(x) for x in X])"
   ]
  },
  {
   "cell_type": "code",
   "execution_count": 57,
   "id": "f64b2c2a",
   "metadata": {
    "ExecuteTime": {
     "end_time": "2021-10-17T15:49:10.498771Z",
     "start_time": "2021-10-17T15:49:09.961922Z"
    }
   },
   "outputs": [
    {
     "name": "stdout",
     "output_type": "stream",
     "text": [
      "回归树预测一致的比例为：\n",
      "1.0\n",
      "回归树特征重要性一致的比例为：\n",
      "1.0\n",
      "分类树预测一致的比例为：\n",
      "1.0\n",
      "分类树特征重要性一致的比例为：\n",
      "1.0\n"
     ]
    }
   ],
   "source": [
    "# 测试\n",
    "from sklearn.tree import DecisionTreeRegressor as dt\n",
    "from sklearn.tree import DecisionTreeClassifier as dc\n",
    "from sklearn.datasets import make_regression,make_classification\n",
    "\n",
    "X, y = make_regression(\n",
    "    n_samples=200, n_features=10, n_informative=5, random_state=0\n",
    ")\n",
    "\n",
    "# 自己建立的回归树\n",
    "my_cart_R = DecisionTreeRegressor(max_depth=2)\n",
    "my_cart_R.fit(X, y)\n",
    "res1 = my_cart_R.predict(X)\n",
    "importance1 = my_cart_R.feature_importances_\n",
    "# sklearn中的回归树\n",
    "sklearn_cart_R = dt(max_depth=2)\n",
    "sklearn_cart_R.fit(X, y)\n",
    "res2 = sklearn_cart_R.predict(X)\n",
    "importance2 = sklearn_cart_R.feature_importances_\n",
    "\n",
    "\n",
    "# 预测一致的比例\n",
    "print(\"回归树预测一致的比例为：\")\n",
    "print(((res1-res2)<1e-8).mean())\n",
    "# 特征重要性一致的比例\n",
    "print(\"回归树特征重要性一致的比例为：\")\n",
    "print(((importance1-importance2)<1e-8).mean())\n",
    "\n",
    "# 模拟分类数据集\n",
    "M, n = make_classification(\n",
    "    n_samples=200, n_features=10, n_informative=5, random_state=0\n",
    ")\n",
    "\n",
    "\n",
    "# 自己建立的分类树\n",
    "my_cart_C = DecisionTreeClassifier(max_depth=2)\n",
    "my_cart_C.fit(M, n)\n",
    "res3 = my_cart_C.predict(M)\n",
    "importance3 = my_cart_C.feature_importances_\n",
    "# sklearn中的分类树\n",
    "sklearn_cart_C = dc(max_depth=2)\n",
    "sklearn_cart_C.fit(M, n)\n",
    "res4 = sklearn_cart_C.predict(M)\n",
    "importance4 = sklearn_cart_C.feature_importances_\n",
    "\n",
    "# 预测一致的比例\n",
    "print(\"分类树预测一致的比例为：\")\n",
    "print(((res3-res4)<1e-8).mean())\n",
    "# 特征重要性一致的比例\n",
    "print(\"分类树特征重要性一致的比例为：\")\n",
    "print(((importance3-importance4)<1e-8).mean())"
   ]
  },
  {
   "cell_type": "code",
   "execution_count": null,
   "id": "e036b4cb",
   "metadata": {},
   "outputs": [],
   "source": []
  }
 ],
 "metadata": {
  "kernelspec": {
   "display_name": "Python 3",
   "language": "python",
   "name": "python3"
  },
  "language_info": {
   "codemirror_mode": {
    "name": "ipython",
    "version": 3
   },
   "file_extension": ".py",
   "mimetype": "text/x-python",
   "name": "python",
   "nbconvert_exporter": "python",
   "pygments_lexer": "ipython3",
   "version": "3.8.10"
  },
  "toc": {
   "base_numbering": 1,
   "nav_menu": {},
   "number_sections": true,
   "sideBar": true,
   "skip_h1_title": false,
   "title_cell": "Table of Contents",
   "title_sidebar": "Contents",
   "toc_cell": false,
   "toc_position": {},
   "toc_section_display": true,
   "toc_window_display": false
  }
 },
 "nbformat": 4,
 "nbformat_minor": 5
}
